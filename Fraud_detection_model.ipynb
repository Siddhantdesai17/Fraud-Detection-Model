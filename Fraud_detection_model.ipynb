{
 "cells": [
  {
   "cell_type": "markdown",
   "id": "bc52aa19-232b-4ed3-91f9-f8698d16f532",
   "metadata": {},
   "source": [
    "**Name -SIDDHANT DESAI**"
   ]
  },
  {
   "cell_type": "markdown",
   "id": "7ed07c64-4265-47b1-a11b-1053f0709588",
   "metadata": {},
   "source": [
    "**Importing Basic Libraries**"
   ]
  },
  {
   "cell_type": "code",
   "execution_count": 1,
   "id": "cbe2c6e3-00ae-4ebe-ab83-5e862f298ebc",
   "metadata": {},
   "outputs": [],
   "source": [
    "#Importing Libraries\n",
    "\n",
    "import numpy as np\n",
    "import pandas as pd\n",
    "import matplotlib.pyplot as plt\n",
    "import seaborn as sns"
   ]
  },
  {
   "cell_type": "markdown",
   "id": "ad4318f3-5cbd-4162-81b7-3f9f32800371",
   "metadata": {},
   "source": [
    "**Importing Machine Learning Libraries**"
   ]
  },
  {
   "cell_type": "code",
   "execution_count": 2,
   "id": "cacaba25-4cdd-43b9-be27-0a8d62362353",
   "metadata": {},
   "outputs": [],
   "source": [
    "from sklearn.model_selection import train_test_split\n",
    "from sklearn.model_selection import cross_val_score, GridSearchCV\n",
    "from sklearn.metrics import accuracy_score, recall_score, precision_score, f1_score, confusion_matrix, classification_report\n",
    "\n",
    "from sklearn.linear_model import LogisticRegression\n",
    "from sklearn.tree import DecisionTreeClassifier\n",
    "from sklearn.ensemble import RandomForestClassifier\n",
    "from sklearn.neighbors import KNeighborsClassifier"
   ]
  },
  {
   "cell_type": "markdown",
   "id": "e77841b8-0632-4fed-8846-8f5eb8f64047",
   "metadata": {},
   "source": [
    "**Load Dataset**"
   ]
  },
  {
   "cell_type": "code",
   "execution_count": 3,
   "id": "a59705c2-78f3-431b-9ed7-1791df525527",
   "metadata": {},
   "outputs": [],
   "source": [
    "dataset=pd.read_csv(r\"C:\\Users\\91814\\Downloads\\Fraud.csv\")"
   ]
  },
  {
   "cell_type": "markdown",
   "id": "5ab797f5-40d1-4e51-ac76-aea531ba1bc6",
   "metadata": {},
   "source": [
    "**Understanding Nature of Dataset**"
   ]
  },
  {
   "cell_type": "code",
   "execution_count": 4,
   "id": "c9f40d0f-ae95-4d1d-8046-ca9b52939966",
   "metadata": {},
   "outputs": [
    {
     "data": {
      "text/html": [
       "<div>\n",
       "<style scoped>\n",
       "    .dataframe tbody tr th:only-of-type {\n",
       "        vertical-align: middle;\n",
       "    }\n",
       "\n",
       "    .dataframe tbody tr th {\n",
       "        vertical-align: top;\n",
       "    }\n",
       "\n",
       "    .dataframe thead th {\n",
       "        text-align: right;\n",
       "    }\n",
       "</style>\n",
       "<table border=\"1\" class=\"dataframe\">\n",
       "  <thead>\n",
       "    <tr style=\"text-align: right;\">\n",
       "      <th></th>\n",
       "      <th>step</th>\n",
       "      <th>type</th>\n",
       "      <th>amount</th>\n",
       "      <th>nameOrig</th>\n",
       "      <th>oldbalanceOrg</th>\n",
       "      <th>newbalanceOrig</th>\n",
       "      <th>nameDest</th>\n",
       "      <th>oldbalanceDest</th>\n",
       "      <th>newbalanceDest</th>\n",
       "      <th>isFraud</th>\n",
       "      <th>isFlaggedFraud</th>\n",
       "    </tr>\n",
       "  </thead>\n",
       "  <tbody>\n",
       "    <tr>\n",
       "      <th>0</th>\n",
       "      <td>1</td>\n",
       "      <td>PAYMENT</td>\n",
       "      <td>9839.64</td>\n",
       "      <td>C1231006815</td>\n",
       "      <td>170136.0</td>\n",
       "      <td>160296.36</td>\n",
       "      <td>M1979787155</td>\n",
       "      <td>0.0</td>\n",
       "      <td>0.0</td>\n",
       "      <td>0</td>\n",
       "      <td>0</td>\n",
       "    </tr>\n",
       "    <tr>\n",
       "      <th>1</th>\n",
       "      <td>1</td>\n",
       "      <td>PAYMENT</td>\n",
       "      <td>1864.28</td>\n",
       "      <td>C1666544295</td>\n",
       "      <td>21249.0</td>\n",
       "      <td>19384.72</td>\n",
       "      <td>M2044282225</td>\n",
       "      <td>0.0</td>\n",
       "      <td>0.0</td>\n",
       "      <td>0</td>\n",
       "      <td>0</td>\n",
       "    </tr>\n",
       "    <tr>\n",
       "      <th>2</th>\n",
       "      <td>1</td>\n",
       "      <td>TRANSFER</td>\n",
       "      <td>181.00</td>\n",
       "      <td>C1305486145</td>\n",
       "      <td>181.0</td>\n",
       "      <td>0.00</td>\n",
       "      <td>C553264065</td>\n",
       "      <td>0.0</td>\n",
       "      <td>0.0</td>\n",
       "      <td>1</td>\n",
       "      <td>0</td>\n",
       "    </tr>\n",
       "    <tr>\n",
       "      <th>3</th>\n",
       "      <td>1</td>\n",
       "      <td>CASH_OUT</td>\n",
       "      <td>181.00</td>\n",
       "      <td>C840083671</td>\n",
       "      <td>181.0</td>\n",
       "      <td>0.00</td>\n",
       "      <td>C38997010</td>\n",
       "      <td>21182.0</td>\n",
       "      <td>0.0</td>\n",
       "      <td>1</td>\n",
       "      <td>0</td>\n",
       "    </tr>\n",
       "    <tr>\n",
       "      <th>4</th>\n",
       "      <td>1</td>\n",
       "      <td>PAYMENT</td>\n",
       "      <td>11668.14</td>\n",
       "      <td>C2048537720</td>\n",
       "      <td>41554.0</td>\n",
       "      <td>29885.86</td>\n",
       "      <td>M1230701703</td>\n",
       "      <td>0.0</td>\n",
       "      <td>0.0</td>\n",
       "      <td>0</td>\n",
       "      <td>0</td>\n",
       "    </tr>\n",
       "  </tbody>\n",
       "</table>\n",
       "</div>"
      ],
      "text/plain": [
       "   step      type    amount     nameOrig  oldbalanceOrg  newbalanceOrig  \\\n",
       "0     1   PAYMENT   9839.64  C1231006815       170136.0       160296.36   \n",
       "1     1   PAYMENT   1864.28  C1666544295        21249.0        19384.72   \n",
       "2     1  TRANSFER    181.00  C1305486145          181.0            0.00   \n",
       "3     1  CASH_OUT    181.00   C840083671          181.0            0.00   \n",
       "4     1   PAYMENT  11668.14  C2048537720        41554.0        29885.86   \n",
       "\n",
       "      nameDest  oldbalanceDest  newbalanceDest  isFraud  isFlaggedFraud  \n",
       "0  M1979787155             0.0             0.0        0               0  \n",
       "1  M2044282225             0.0             0.0        0               0  \n",
       "2   C553264065             0.0             0.0        1               0  \n",
       "3    C38997010         21182.0             0.0        1               0  \n",
       "4  M1230701703             0.0             0.0        0               0  "
      ]
     },
     "execution_count": 4,
     "metadata": {},
     "output_type": "execute_result"
    }
   ],
   "source": [
    "dataset.head()"
   ]
  },
  {
   "cell_type": "code",
   "execution_count": 5,
   "id": "dfae1008-805e-4c8e-a548-7e0fb8b83f4f",
   "metadata": {},
   "outputs": [
    {
     "data": {
      "text/plain": [
       "(6362620, 11)"
      ]
     },
     "execution_count": 5,
     "metadata": {},
     "output_type": "execute_result"
    }
   ],
   "source": [
    "dataset.shape"
   ]
  },
  {
   "cell_type": "code",
   "execution_count": 6,
   "id": "2c83a867-0ba7-4a42-9abd-def4649fc70b",
   "metadata": {},
   "outputs": [],
   "source": [
    "dataset = dataset.drop(['step'], axis=1)"
   ]
  },
  {
   "cell_type": "code",
   "execution_count": 7,
   "id": "12761b4b-da48-4952-9aef-7159f43a9e44",
   "metadata": {},
   "outputs": [
    {
     "data": {
      "text/html": [
       "<div>\n",
       "<style scoped>\n",
       "    .dataframe tbody tr th:only-of-type {\n",
       "        vertical-align: middle;\n",
       "    }\n",
       "\n",
       "    .dataframe tbody tr th {\n",
       "        vertical-align: top;\n",
       "    }\n",
       "\n",
       "    .dataframe thead th {\n",
       "        text-align: right;\n",
       "    }\n",
       "</style>\n",
       "<table border=\"1\" class=\"dataframe\">\n",
       "  <thead>\n",
       "    <tr style=\"text-align: right;\">\n",
       "      <th></th>\n",
       "      <th>amount</th>\n",
       "      <th>oldbalanceOrg</th>\n",
       "      <th>newbalanceOrig</th>\n",
       "      <th>oldbalanceDest</th>\n",
       "      <th>newbalanceDest</th>\n",
       "      <th>isFraud</th>\n",
       "      <th>isFlaggedFraud</th>\n",
       "    </tr>\n",
       "  </thead>\n",
       "  <tbody>\n",
       "    <tr>\n",
       "      <th>count</th>\n",
       "      <td>6.362620e+06</td>\n",
       "      <td>6.362620e+06</td>\n",
       "      <td>6.362620e+06</td>\n",
       "      <td>6.362620e+06</td>\n",
       "      <td>6.362620e+06</td>\n",
       "      <td>6.362620e+06</td>\n",
       "      <td>6.362620e+06</td>\n",
       "    </tr>\n",
       "    <tr>\n",
       "      <th>mean</th>\n",
       "      <td>1.798619e+05</td>\n",
       "      <td>8.338831e+05</td>\n",
       "      <td>8.551137e+05</td>\n",
       "      <td>1.100702e+06</td>\n",
       "      <td>1.224996e+06</td>\n",
       "      <td>1.290820e-03</td>\n",
       "      <td>2.514687e-06</td>\n",
       "    </tr>\n",
       "    <tr>\n",
       "      <th>std</th>\n",
       "      <td>6.038582e+05</td>\n",
       "      <td>2.888243e+06</td>\n",
       "      <td>2.924049e+06</td>\n",
       "      <td>3.399180e+06</td>\n",
       "      <td>3.674129e+06</td>\n",
       "      <td>3.590480e-02</td>\n",
       "      <td>1.585775e-03</td>\n",
       "    </tr>\n",
       "    <tr>\n",
       "      <th>min</th>\n",
       "      <td>0.000000e+00</td>\n",
       "      <td>0.000000e+00</td>\n",
       "      <td>0.000000e+00</td>\n",
       "      <td>0.000000e+00</td>\n",
       "      <td>0.000000e+00</td>\n",
       "      <td>0.000000e+00</td>\n",
       "      <td>0.000000e+00</td>\n",
       "    </tr>\n",
       "    <tr>\n",
       "      <th>25%</th>\n",
       "      <td>1.338957e+04</td>\n",
       "      <td>0.000000e+00</td>\n",
       "      <td>0.000000e+00</td>\n",
       "      <td>0.000000e+00</td>\n",
       "      <td>0.000000e+00</td>\n",
       "      <td>0.000000e+00</td>\n",
       "      <td>0.000000e+00</td>\n",
       "    </tr>\n",
       "    <tr>\n",
       "      <th>50%</th>\n",
       "      <td>7.487194e+04</td>\n",
       "      <td>1.420800e+04</td>\n",
       "      <td>0.000000e+00</td>\n",
       "      <td>1.327057e+05</td>\n",
       "      <td>2.146614e+05</td>\n",
       "      <td>0.000000e+00</td>\n",
       "      <td>0.000000e+00</td>\n",
       "    </tr>\n",
       "    <tr>\n",
       "      <th>75%</th>\n",
       "      <td>2.087215e+05</td>\n",
       "      <td>1.073152e+05</td>\n",
       "      <td>1.442584e+05</td>\n",
       "      <td>9.430367e+05</td>\n",
       "      <td>1.111909e+06</td>\n",
       "      <td>0.000000e+00</td>\n",
       "      <td>0.000000e+00</td>\n",
       "    </tr>\n",
       "    <tr>\n",
       "      <th>max</th>\n",
       "      <td>9.244552e+07</td>\n",
       "      <td>5.958504e+07</td>\n",
       "      <td>4.958504e+07</td>\n",
       "      <td>3.560159e+08</td>\n",
       "      <td>3.561793e+08</td>\n",
       "      <td>1.000000e+00</td>\n",
       "      <td>1.000000e+00</td>\n",
       "    </tr>\n",
       "  </tbody>\n",
       "</table>\n",
       "</div>"
      ],
      "text/plain": [
       "             amount  oldbalanceOrg  newbalanceOrig  oldbalanceDest  \\\n",
       "count  6.362620e+06   6.362620e+06    6.362620e+06    6.362620e+06   \n",
       "mean   1.798619e+05   8.338831e+05    8.551137e+05    1.100702e+06   \n",
       "std    6.038582e+05   2.888243e+06    2.924049e+06    3.399180e+06   \n",
       "min    0.000000e+00   0.000000e+00    0.000000e+00    0.000000e+00   \n",
       "25%    1.338957e+04   0.000000e+00    0.000000e+00    0.000000e+00   \n",
       "50%    7.487194e+04   1.420800e+04    0.000000e+00    1.327057e+05   \n",
       "75%    2.087215e+05   1.073152e+05    1.442584e+05    9.430367e+05   \n",
       "max    9.244552e+07   5.958504e+07    4.958504e+07    3.560159e+08   \n",
       "\n",
       "       newbalanceDest       isFraud  isFlaggedFraud  \n",
       "count    6.362620e+06  6.362620e+06    6.362620e+06  \n",
       "mean     1.224996e+06  1.290820e-03    2.514687e-06  \n",
       "std      3.674129e+06  3.590480e-02    1.585775e-03  \n",
       "min      0.000000e+00  0.000000e+00    0.000000e+00  \n",
       "25%      0.000000e+00  0.000000e+00    0.000000e+00  \n",
       "50%      2.146614e+05  0.000000e+00    0.000000e+00  \n",
       "75%      1.111909e+06  0.000000e+00    0.000000e+00  \n",
       "max      3.561793e+08  1.000000e+00    1.000000e+00  "
      ]
     },
     "execution_count": 7,
     "metadata": {},
     "output_type": "execute_result"
    }
   ],
   "source": [
    "dataset.describe()"
   ]
  },
  {
   "cell_type": "code",
   "execution_count": 8,
   "id": "f99c206e-ce96-4eea-83b5-5a2b4359a57c",
   "metadata": {},
   "outputs": [
    {
     "name": "stdout",
     "output_type": "stream",
     "text": [
      "<class 'pandas.core.frame.DataFrame'>\n",
      "RangeIndex: 6362620 entries, 0 to 6362619\n",
      "Data columns (total 10 columns):\n",
      " #   Column          Dtype  \n",
      "---  ------          -----  \n",
      " 0   type            object \n",
      " 1   amount          float64\n",
      " 2   nameOrig        object \n",
      " 3   oldbalanceOrg   float64\n",
      " 4   newbalanceOrig  float64\n",
      " 5   nameDest        object \n",
      " 6   oldbalanceDest  float64\n",
      " 7   newbalanceDest  float64\n",
      " 8   isFraud         int64  \n",
      " 9   isFlaggedFraud  int64  \n",
      "dtypes: float64(5), int64(2), object(3)\n",
      "memory usage: 485.4+ MB\n"
     ]
    }
   ],
   "source": [
    "dataset.info()"
   ]
  },
  {
   "cell_type": "code",
   "execution_count": 9,
   "id": "1b6c850d-7f3a-439e-a807-ec1012459585",
   "metadata": {},
   "outputs": [
    {
     "data": {
      "text/plain": [
       "type              0\n",
       "amount            0\n",
       "nameOrig          0\n",
       "oldbalanceOrg     0\n",
       "newbalanceOrig    0\n",
       "nameDest          0\n",
       "oldbalanceDest    0\n",
       "newbalanceDest    0\n",
       "isFraud           0\n",
       "isFlaggedFraud    0\n",
       "dtype: int64"
      ]
     },
     "execution_count": 9,
     "metadata": {},
     "output_type": "execute_result"
    }
   ],
   "source": [
    "dataset.isnull().sum()"
   ]
  },
  {
   "cell_type": "markdown",
   "id": "4b632dc5-3b2b-4189-979f-ee0be7714784",
   "metadata": {},
   "source": [
    "**Feature Engineering**"
   ]
  },
  {
   "cell_type": "code",
   "execution_count": 10,
   "id": "4942b8df-f0a4-4494-8b2b-7cfd675cb438",
   "metadata": {},
   "outputs": [
    {
     "data": {
      "text/plain": [
       "isFraud\n",
       "0    6354407\n",
       "1       8213\n",
       "Name: count, dtype: int64"
      ]
     },
     "execution_count": 10,
     "metadata": {},
     "output_type": "execute_result"
    }
   ],
   "source": [
    "dataset['isFraud'].value_counts()"
   ]
  },
  {
   "cell_type": "code",
   "execution_count": 11,
   "id": "30ec4dea-668a-42e6-9f76-a57335b50ea8",
   "metadata": {},
   "outputs": [
    {
     "data": {
      "text/plain": [
       "array(['PAYMENT', 'TRANSFER', 'CASH_OUT', 'DEBIT', 'CASH_IN'],\n",
       "      dtype=object)"
      ]
     },
     "execution_count": 11,
     "metadata": {},
     "output_type": "execute_result"
    }
   ],
   "source": [
    "dataset['type'].unique()"
   ]
  },
  {
   "cell_type": "code",
   "execution_count": 12,
   "id": "b688c83b-64fa-4a6d-aeb0-3f394ec3d2eb",
   "metadata": {},
   "outputs": [
    {
     "data": {
      "text/plain": [
       "<Axes: xlabel='type', ylabel='count'>"
      ]
     },
     "execution_count": 12,
     "metadata": {},
     "output_type": "execute_result"
    },
    {
     "data": {
      "image/png": "[encoded data removed]",
      "text/plain": [
       "<Figure size 640x480 with 1 Axes>"
      ]
     },
     "metadata": {},
     "output_type": "display_data"
    }
   ],
   "source": [
    "sns.countplot(x='type',data=dataset,hue='isFraud')"
   ]
  },
  {
   "cell_type": "code",
   "execution_count": 13,
   "id": "64a0716c-fe77-4654-8a54-a6204d3bd807",
   "metadata": {},
   "outputs": [
    {
     "data": {
      "text/plain": [
       "type\n",
       "CASH_OUT    4116\n",
       "TRANSFER    4097\n",
       "Name: count, dtype: int64"
      ]
     },
     "execution_count": 13,
     "metadata": {},
     "output_type": "execute_result"
    }
   ],
   "source": [
    "dataset[dataset['isFraud']==1]['type'].value_counts()"
   ]
  },
  {
   "cell_type": "code",
   "execution_count": 14,
   "id": "0a65882a-ec6d-4954-ad30-4a16a6b0f45d",
   "metadata": {},
   "outputs": [],
   "source": [
    "new_data = dataset[(dataset['type']=='CASH_OUT') | (dataset['type']=='TRANSFER')]"
   ]
  },
  {
   "cell_type": "code",
   "execution_count": 15,
   "id": "e9603137-3017-4a32-8f16-6a1d3c33e6ca",
   "metadata": {},
   "outputs": [
    {
     "data": {
      "text/html": [
       "<div>\n",
       "<style scoped>\n",
       "    .dataframe tbody tr th:only-of-type {\n",
       "        vertical-align: middle;\n",
       "    }\n",
       "\n",
       "    .dataframe tbody tr th {\n",
       "        vertical-align: top;\n",
       "    }\n",
       "\n",
       "    .dataframe thead th {\n",
       "        text-align: right;\n",
       "    }\n",
       "</style>\n",
       "<table border=\"1\" class=\"dataframe\">\n",
       "  <thead>\n",
       "    <tr style=\"text-align: right;\">\n",
       "      <th></th>\n",
       "      <th>type</th>\n",
       "      <th>amount</th>\n",
       "      <th>nameOrig</th>\n",
       "      <th>oldbalanceOrg</th>\n",
       "      <th>newbalanceOrig</th>\n",
       "      <th>nameDest</th>\n",
       "      <th>oldbalanceDest</th>\n",
       "      <th>newbalanceDest</th>\n",
       "      <th>isFraud</th>\n",
       "      <th>isFlaggedFraud</th>\n",
       "    </tr>\n",
       "  </thead>\n",
       "  <tbody>\n",
       "    <tr>\n",
       "      <th>2</th>\n",
       "      <td>TRANSFER</td>\n",
       "      <td>181.00</td>\n",
       "      <td>C1305486145</td>\n",
       "      <td>181.00</td>\n",
       "      <td>0.0</td>\n",
       "      <td>C553264065</td>\n",
       "      <td>0.0</td>\n",
       "      <td>0.00</td>\n",
       "      <td>1</td>\n",
       "      <td>0</td>\n",
       "    </tr>\n",
       "    <tr>\n",
       "      <th>3</th>\n",
       "      <td>CASH_OUT</td>\n",
       "      <td>181.00</td>\n",
       "      <td>C840083671</td>\n",
       "      <td>181.00</td>\n",
       "      <td>0.0</td>\n",
       "      <td>C38997010</td>\n",
       "      <td>21182.0</td>\n",
       "      <td>0.00</td>\n",
       "      <td>1</td>\n",
       "      <td>0</td>\n",
       "    </tr>\n",
       "    <tr>\n",
       "      <th>15</th>\n",
       "      <td>CASH_OUT</td>\n",
       "      <td>229133.94</td>\n",
       "      <td>C905080434</td>\n",
       "      <td>15325.00</td>\n",
       "      <td>0.0</td>\n",
       "      <td>C476402209</td>\n",
       "      <td>5083.0</td>\n",
       "      <td>51513.44</td>\n",
       "      <td>0</td>\n",
       "      <td>0</td>\n",
       "    </tr>\n",
       "    <tr>\n",
       "      <th>19</th>\n",
       "      <td>TRANSFER</td>\n",
       "      <td>215310.30</td>\n",
       "      <td>C1670993182</td>\n",
       "      <td>705.00</td>\n",
       "      <td>0.0</td>\n",
       "      <td>C1100439041</td>\n",
       "      <td>22425.0</td>\n",
       "      <td>0.00</td>\n",
       "      <td>0</td>\n",
       "      <td>0</td>\n",
       "    </tr>\n",
       "    <tr>\n",
       "      <th>24</th>\n",
       "      <td>TRANSFER</td>\n",
       "      <td>311685.89</td>\n",
       "      <td>C1984094095</td>\n",
       "      <td>10835.00</td>\n",
       "      <td>0.0</td>\n",
       "      <td>C932583850</td>\n",
       "      <td>6267.0</td>\n",
       "      <td>2719172.89</td>\n",
       "      <td>0</td>\n",
       "      <td>0</td>\n",
       "    </tr>\n",
       "    <tr>\n",
       "      <th>42</th>\n",
       "      <td>CASH_OUT</td>\n",
       "      <td>110414.71</td>\n",
       "      <td>C768216420</td>\n",
       "      <td>26845.41</td>\n",
       "      <td>0.0</td>\n",
       "      <td>C1509514333</td>\n",
       "      <td>288800.0</td>\n",
       "      <td>2415.16</td>\n",
       "      <td>0</td>\n",
       "      <td>0</td>\n",
       "    </tr>\n",
       "    <tr>\n",
       "      <th>47</th>\n",
       "      <td>CASH_OUT</td>\n",
       "      <td>56953.90</td>\n",
       "      <td>C1570470538</td>\n",
       "      <td>1942.02</td>\n",
       "      <td>0.0</td>\n",
       "      <td>C824009085</td>\n",
       "      <td>70253.0</td>\n",
       "      <td>64106.18</td>\n",
       "      <td>0</td>\n",
       "      <td>0</td>\n",
       "    </tr>\n",
       "    <tr>\n",
       "      <th>48</th>\n",
       "      <td>CASH_OUT</td>\n",
       "      <td>5346.89</td>\n",
       "      <td>C512549200</td>\n",
       "      <td>0.00</td>\n",
       "      <td>0.0</td>\n",
       "      <td>C248609774</td>\n",
       "      <td>652637.0</td>\n",
       "      <td>6453430.91</td>\n",
       "      <td>0</td>\n",
       "      <td>0</td>\n",
       "    </tr>\n",
       "    <tr>\n",
       "      <th>51</th>\n",
       "      <td>CASH_OUT</td>\n",
       "      <td>23261.30</td>\n",
       "      <td>C2072313080</td>\n",
       "      <td>20411.53</td>\n",
       "      <td>0.0</td>\n",
       "      <td>C2001112025</td>\n",
       "      <td>25742.0</td>\n",
       "      <td>0.00</td>\n",
       "      <td>0</td>\n",
       "      <td>0</td>\n",
       "    </tr>\n",
       "    <tr>\n",
       "      <th>58</th>\n",
       "      <td>TRANSFER</td>\n",
       "      <td>62610.80</td>\n",
       "      <td>C1976401987</td>\n",
       "      <td>79114.00</td>\n",
       "      <td>16503.2</td>\n",
       "      <td>C1937962514</td>\n",
       "      <td>517.0</td>\n",
       "      <td>8383.29</td>\n",
       "      <td>0</td>\n",
       "      <td>0</td>\n",
       "    </tr>\n",
       "  </tbody>\n",
       "</table>\n",
       "</div>"
      ],
      "text/plain": [
       "        type     amount     nameOrig  oldbalanceOrg  newbalanceOrig  \\\n",
       "2   TRANSFER     181.00  C1305486145         181.00             0.0   \n",
       "3   CASH_OUT     181.00   C840083671         181.00             0.0   \n",
       "15  CASH_OUT  229133.94   C905080434       15325.00             0.0   \n",
       "19  TRANSFER  215310.30  C1670993182         705.00             0.0   \n",
       "24  TRANSFER  311685.89  C1984094095       10835.00             0.0   \n",
       "42  CASH_OUT  110414.71   C768216420       26845.41             0.0   \n",
       "47  CASH_OUT   56953.90  C1570470538        1942.02             0.0   \n",
       "48  CASH_OUT    5346.89   C512549200           0.00             0.0   \n",
       "51  CASH_OUT   23261.30  C2072313080       20411.53             0.0   \n",
       "58  TRANSFER   62610.80  C1976401987       79114.00         16503.2   \n",
       "\n",
       "       nameDest  oldbalanceDest  newbalanceDest  isFraud  isFlaggedFraud  \n",
       "2    C553264065             0.0            0.00        1               0  \n",
       "3     C38997010         21182.0            0.00        1               0  \n",
       "15   C476402209          5083.0        51513.44        0               0  \n",
       "19  C1100439041         22425.0            0.00        0               0  \n",
       "24   C932583850          6267.0      2719172.89        0               0  \n",
       "42  C1509514333        288800.0         2415.16        0               0  \n",
       "47   C824009085         70253.0        64106.18        0               0  \n",
       "48   C248609774        652637.0      6453430.91        0               0  \n",
       "51  C2001112025         25742.0            0.00        0               0  \n",
       "58  C1937962514           517.0         8383.29        0               0  "
      ]
     },
     "execution_count": 15,
     "metadata": {},
     "output_type": "execute_result"
    }
   ],
   "source": [
    "new_data.head(10)"
   ]
  },
  {
   "cell_type": "code",
   "execution_count": 16,
   "id": "beb4d0bd-0e06-4f7d-b0cd-f2c386741616",
   "metadata": {},
   "outputs": [
    {
     "data": {
      "text/plain": [
       "(2770409, 10)"
      ]
     },
     "execution_count": 16,
     "metadata": {},
     "output_type": "execute_result"
    }
   ],
   "source": [
    "new_data.shape"
   ]
  },
  {
   "cell_type": "code",
   "execution_count": 17,
   "id": "33db829b-e05e-4345-af43-2a660d20074c",
   "metadata": {},
   "outputs": [
    {
     "data": {
      "text/plain": [
       "isFraud\n",
       "0    2762196\n",
       "1       8213\n",
       "Name: count, dtype: int64"
      ]
     },
     "execution_count": 17,
     "metadata": {},
     "output_type": "execute_result"
    }
   ],
   "source": [
    "new_data['isFraud'].value_counts()"
   ]
  },
  {
   "cell_type": "code",
   "execution_count": 18,
   "id": "f8e86eda-92c2-4679-a710-d7525619f3ed",
   "metadata": {},
   "outputs": [
    {
     "data": {
      "text/plain": [
       "isFraud\n",
       "0    528812\n",
       "1      4097\n",
       "Name: count, dtype: int64"
      ]
     },
     "execution_count": 18,
     "metadata": {},
     "output_type": "execute_result"
    }
   ],
   "source": [
    "new_data[new_data['type']=='TRANSFER']['isFraud'].value_counts()"
   ]
  },
  {
   "cell_type": "code",
   "execution_count": 19,
   "id": "d1a7f368-b4bb-4a82-be53-feeffdadb2b6",
   "metadata": {},
   "outputs": [
    {
     "data": {
      "text/plain": [
       "isFraud\n",
       "0    2233384\n",
       "1       4116\n",
       "Name: count, dtype: int64"
      ]
     },
     "execution_count": 19,
     "metadata": {},
     "output_type": "execute_result"
    }
   ],
   "source": [
    "new_data[new_data['type']=='CASH_OUT']['isFraud'].value_counts()"
   ]
  },
  {
   "cell_type": "code",
   "execution_count": 20,
   "id": "9d9f761f-7bd6-4a8a-b967-7454e37572e2",
   "metadata": {},
   "outputs": [
    {
     "data": {
      "text/plain": [
       "2768630"
      ]
     },
     "execution_count": 20,
     "metadata": {},
     "output_type": "execute_result"
    }
   ],
   "source": [
    "new_data['nameOrig'].nunique()"
   ]
  },
  {
   "cell_type": "code",
   "execution_count": 21,
   "id": "7f401dab-8208-46a9-9d9e-20e15a8b62e5",
   "metadata": {},
   "outputs": [
    {
     "data": {
      "text/plain": [
       "8213"
      ]
     },
     "execution_count": 21,
     "metadata": {},
     "output_type": "execute_result"
    }
   ],
   "source": [
    "new_data[new_data['isFraud']==1]['nameOrig'].nunique()"
   ]
  },
  {
   "cell_type": "code",
   "execution_count": 22,
   "id": "d537c16b-f65d-4a41-ad98-8c200d68ed51",
   "metadata": {},
   "outputs": [],
   "source": [
    "new_data= new_data.drop(['nameOrig'], axis=1)"
   ]
  },
  {
   "cell_type": "code",
   "execution_count": 23,
   "id": "a460fcc3-9f9f-4316-a20b-1af307392b3f",
   "metadata": {},
   "outputs": [
    {
     "data": {
      "text/html": [
       "<div>\n",
       "<style scoped>\n",
       "    .dataframe tbody tr th:only-of-type {\n",
       "        vertical-align: middle;\n",
       "    }\n",
       "\n",
       "    .dataframe tbody tr th {\n",
       "        vertical-align: top;\n",
       "    }\n",
       "\n",
       "    .dataframe thead th {\n",
       "        text-align: right;\n",
       "    }\n",
       "</style>\n",
       "<table border=\"1\" class=\"dataframe\">\n",
       "  <thead>\n",
       "    <tr style=\"text-align: right;\">\n",
       "      <th></th>\n",
       "      <th>type</th>\n",
       "      <th>amount</th>\n",
       "      <th>oldbalanceOrg</th>\n",
       "      <th>newbalanceOrig</th>\n",
       "      <th>nameDest</th>\n",
       "      <th>oldbalanceDest</th>\n",
       "      <th>newbalanceDest</th>\n",
       "      <th>isFraud</th>\n",
       "      <th>isFlaggedFraud</th>\n",
       "    </tr>\n",
       "  </thead>\n",
       "  <tbody>\n",
       "    <tr>\n",
       "      <th>2</th>\n",
       "      <td>TRANSFER</td>\n",
       "      <td>181.00</td>\n",
       "      <td>181.0</td>\n",
       "      <td>0.0</td>\n",
       "      <td>C553264065</td>\n",
       "      <td>0.0</td>\n",
       "      <td>0.00</td>\n",
       "      <td>1</td>\n",
       "      <td>0</td>\n",
       "    </tr>\n",
       "    <tr>\n",
       "      <th>3</th>\n",
       "      <td>CASH_OUT</td>\n",
       "      <td>181.00</td>\n",
       "      <td>181.0</td>\n",
       "      <td>0.0</td>\n",
       "      <td>C38997010</td>\n",
       "      <td>21182.0</td>\n",
       "      <td>0.00</td>\n",
       "      <td>1</td>\n",
       "      <td>0</td>\n",
       "    </tr>\n",
       "    <tr>\n",
       "      <th>15</th>\n",
       "      <td>CASH_OUT</td>\n",
       "      <td>229133.94</td>\n",
       "      <td>15325.0</td>\n",
       "      <td>0.0</td>\n",
       "      <td>C476402209</td>\n",
       "      <td>5083.0</td>\n",
       "      <td>51513.44</td>\n",
       "      <td>0</td>\n",
       "      <td>0</td>\n",
       "    </tr>\n",
       "    <tr>\n",
       "      <th>19</th>\n",
       "      <td>TRANSFER</td>\n",
       "      <td>215310.30</td>\n",
       "      <td>705.0</td>\n",
       "      <td>0.0</td>\n",
       "      <td>C1100439041</td>\n",
       "      <td>22425.0</td>\n",
       "      <td>0.00</td>\n",
       "      <td>0</td>\n",
       "      <td>0</td>\n",
       "    </tr>\n",
       "    <tr>\n",
       "      <th>24</th>\n",
       "      <td>TRANSFER</td>\n",
       "      <td>311685.89</td>\n",
       "      <td>10835.0</td>\n",
       "      <td>0.0</td>\n",
       "      <td>C932583850</td>\n",
       "      <td>6267.0</td>\n",
       "      <td>2719172.89</td>\n",
       "      <td>0</td>\n",
       "      <td>0</td>\n",
       "    </tr>\n",
       "  </tbody>\n",
       "</table>\n",
       "</div>"
      ],
      "text/plain": [
       "        type     amount  oldbalanceOrg  newbalanceOrig     nameDest  \\\n",
       "2   TRANSFER     181.00          181.0             0.0   C553264065   \n",
       "3   CASH_OUT     181.00          181.0             0.0    C38997010   \n",
       "15  CASH_OUT  229133.94        15325.0             0.0   C476402209   \n",
       "19  TRANSFER  215310.30          705.0             0.0  C1100439041   \n",
       "24  TRANSFER  311685.89        10835.0             0.0   C932583850   \n",
       "\n",
       "    oldbalanceDest  newbalanceDest  isFraud  isFlaggedFraud  \n",
       "2              0.0            0.00        1               0  \n",
       "3          21182.0            0.00        1               0  \n",
       "15          5083.0        51513.44        0               0  \n",
       "19         22425.0            0.00        0               0  \n",
       "24          6267.0      2719172.89        0               0  "
      ]
     },
     "execution_count": 23,
     "metadata": {},
     "output_type": "execute_result"
    }
   ],
   "source": [
    "new_data.head()"
   ]
  },
  {
   "cell_type": "code",
   "execution_count": 24,
   "id": "2760f945-4279-4e95-b089-01a37d97de72",
   "metadata": {},
   "outputs": [
    {
     "data": {
      "text/plain": [
       "isFlaggedFraud\n",
       "0    2770393\n",
       "1         16\n",
       "Name: count, dtype: int64"
      ]
     },
     "execution_count": 24,
     "metadata": {},
     "output_type": "execute_result"
    }
   ],
   "source": [
    "new_data['isFlaggedFraud'].value_counts()"
   ]
  },
  {
   "cell_type": "code",
   "execution_count": 25,
   "id": "f8e5fef2-ffaf-49b2-bdbe-0714c8abce56",
   "metadata": {},
   "outputs": [
    {
     "data": {
      "text/plain": [
       "isFlaggedFraud\n",
       "0    8197\n",
       "1      16\n",
       "Name: count, dtype: int64"
      ]
     },
     "execution_count": 25,
     "metadata": {},
     "output_type": "execute_result"
    }
   ],
   "source": [
    "new_data[new_data['isFraud']==1]['isFlaggedFraud'].value_counts()"
   ]
  },
  {
   "cell_type": "code",
   "execution_count": 26,
   "id": "f6f09d82-5829-47ff-a847-4b29ee478984",
   "metadata": {},
   "outputs": [
    {
     "data": {
      "text/plain": [
       "509565"
      ]
     },
     "execution_count": 26,
     "metadata": {},
     "output_type": "execute_result"
    }
   ],
   "source": [
    "new_data['nameDest'].nunique()"
   ]
  },
  {
   "cell_type": "code",
   "execution_count": 27,
   "id": "d09ce722-03e5-44aa-929d-89782da654e9",
   "metadata": {},
   "outputs": [
    {
     "data": {
      "text/plain": [
       "8169"
      ]
     },
     "execution_count": 27,
     "metadata": {},
     "output_type": "execute_result"
    }
   ],
   "source": [
    "new_data[new_data['isFraud']==1]['nameDest'].nunique()"
   ]
  },
  {
   "cell_type": "code",
   "execution_count": 28,
   "id": "3207b4d0-fb54-42b7-a94d-c14eb5dcb771",
   "metadata": {},
   "outputs": [],
   "source": [
    "new_data['count_dest'] = new_data.groupby('nameDest')['nameDest'].transform('count')\n"
   ]
  },
  {
   "cell_type": "code",
   "execution_count": 29,
   "id": "0fff1458-b08b-4483-806f-3f0d736fe241",
   "metadata": {},
   "outputs": [
    {
     "data": {
      "text/html": [
       "<div>\n",
       "<style scoped>\n",
       "    .dataframe tbody tr th:only-of-type {\n",
       "        vertical-align: middle;\n",
       "    }\n",
       "\n",
       "    .dataframe tbody tr th {\n",
       "        vertical-align: top;\n",
       "    }\n",
       "\n",
       "    .dataframe thead th {\n",
       "        text-align: right;\n",
       "    }\n",
       "</style>\n",
       "<table border=\"1\" class=\"dataframe\">\n",
       "  <thead>\n",
       "    <tr style=\"text-align: right;\">\n",
       "      <th></th>\n",
       "      <th>type</th>\n",
       "      <th>amount</th>\n",
       "      <th>oldbalanceOrg</th>\n",
       "      <th>newbalanceOrig</th>\n",
       "      <th>nameDest</th>\n",
       "      <th>oldbalanceDest</th>\n",
       "      <th>newbalanceDest</th>\n",
       "      <th>isFraud</th>\n",
       "      <th>isFlaggedFraud</th>\n",
       "      <th>count_dest</th>\n",
       "    </tr>\n",
       "  </thead>\n",
       "  <tbody>\n",
       "    <tr>\n",
       "      <th>2</th>\n",
       "      <td>TRANSFER</td>\n",
       "      <td>181.00</td>\n",
       "      <td>181.00</td>\n",
       "      <td>0.0</td>\n",
       "      <td>C553264065</td>\n",
       "      <td>0.00</td>\n",
       "      <td>0.00</td>\n",
       "      <td>1</td>\n",
       "      <td>0</td>\n",
       "      <td>27</td>\n",
       "    </tr>\n",
       "    <tr>\n",
       "      <th>3</th>\n",
       "      <td>CASH_OUT</td>\n",
       "      <td>181.00</td>\n",
       "      <td>181.00</td>\n",
       "      <td>0.0</td>\n",
       "      <td>C38997010</td>\n",
       "      <td>21182.00</td>\n",
       "      <td>0.00</td>\n",
       "      <td>1</td>\n",
       "      <td>0</td>\n",
       "      <td>31</td>\n",
       "    </tr>\n",
       "    <tr>\n",
       "      <th>251</th>\n",
       "      <td>TRANSFER</td>\n",
       "      <td>2806.00</td>\n",
       "      <td>2806.00</td>\n",
       "      <td>0.0</td>\n",
       "      <td>C972765878</td>\n",
       "      <td>0.00</td>\n",
       "      <td>0.00</td>\n",
       "      <td>1</td>\n",
       "      <td>0</td>\n",
       "      <td>20</td>\n",
       "    </tr>\n",
       "    <tr>\n",
       "      <th>252</th>\n",
       "      <td>CASH_OUT</td>\n",
       "      <td>2806.00</td>\n",
       "      <td>2806.00</td>\n",
       "      <td>0.0</td>\n",
       "      <td>C1007251739</td>\n",
       "      <td>26202.00</td>\n",
       "      <td>0.00</td>\n",
       "      <td>1</td>\n",
       "      <td>0</td>\n",
       "      <td>24</td>\n",
       "    </tr>\n",
       "    <tr>\n",
       "      <th>680</th>\n",
       "      <td>TRANSFER</td>\n",
       "      <td>20128.00</td>\n",
       "      <td>20128.00</td>\n",
       "      <td>0.0</td>\n",
       "      <td>C1848415041</td>\n",
       "      <td>0.00</td>\n",
       "      <td>0.00</td>\n",
       "      <td>1</td>\n",
       "      <td>0</td>\n",
       "      <td>22</td>\n",
       "    </tr>\n",
       "    <tr>\n",
       "      <th>...</th>\n",
       "      <td>...</td>\n",
       "      <td>...</td>\n",
       "      <td>...</td>\n",
       "      <td>...</td>\n",
       "      <td>...</td>\n",
       "      <td>...</td>\n",
       "      <td>...</td>\n",
       "      <td>...</td>\n",
       "      <td>...</td>\n",
       "      <td>...</td>\n",
       "    </tr>\n",
       "    <tr>\n",
       "      <th>6362607</th>\n",
       "      <td>CASH_OUT</td>\n",
       "      <td>303846.74</td>\n",
       "      <td>303846.74</td>\n",
       "      <td>0.0</td>\n",
       "      <td>C846260566</td>\n",
       "      <td>343660.89</td>\n",
       "      <td>647507.63</td>\n",
       "      <td>1</td>\n",
       "      <td>0</td>\n",
       "      <td>2</td>\n",
       "    </tr>\n",
       "    <tr>\n",
       "      <th>6362611</th>\n",
       "      <td>CASH_OUT</td>\n",
       "      <td>63416.99</td>\n",
       "      <td>63416.99</td>\n",
       "      <td>0.0</td>\n",
       "      <td>C1662241365</td>\n",
       "      <td>276433.18</td>\n",
       "      <td>339850.17</td>\n",
       "      <td>1</td>\n",
       "      <td>0</td>\n",
       "      <td>3</td>\n",
       "    </tr>\n",
       "    <tr>\n",
       "      <th>6362613</th>\n",
       "      <td>CASH_OUT</td>\n",
       "      <td>1258818.82</td>\n",
       "      <td>1258818.82</td>\n",
       "      <td>0.0</td>\n",
       "      <td>C1240760502</td>\n",
       "      <td>503464.50</td>\n",
       "      <td>1762283.33</td>\n",
       "      <td>1</td>\n",
       "      <td>0</td>\n",
       "      <td>3</td>\n",
       "    </tr>\n",
       "    <tr>\n",
       "      <th>6362617</th>\n",
       "      <td>CASH_OUT</td>\n",
       "      <td>6311409.28</td>\n",
       "      <td>6311409.28</td>\n",
       "      <td>0.0</td>\n",
       "      <td>C1365125890</td>\n",
       "      <td>68488.84</td>\n",
       "      <td>6379898.11</td>\n",
       "      <td>1</td>\n",
       "      <td>0</td>\n",
       "      <td>3</td>\n",
       "    </tr>\n",
       "    <tr>\n",
       "      <th>6362619</th>\n",
       "      <td>CASH_OUT</td>\n",
       "      <td>850002.52</td>\n",
       "      <td>850002.52</td>\n",
       "      <td>0.0</td>\n",
       "      <td>C873221189</td>\n",
       "      <td>6510099.11</td>\n",
       "      <td>7360101.63</td>\n",
       "      <td>1</td>\n",
       "      <td>0</td>\n",
       "      <td>23</td>\n",
       "    </tr>\n",
       "  </tbody>\n",
       "</table>\n",
       "<p>5111 rows × 10 columns</p>\n",
       "</div>"
      ],
      "text/plain": [
       "             type      amount  oldbalanceOrg  newbalanceOrig     nameDest  \\\n",
       "2        TRANSFER      181.00         181.00             0.0   C553264065   \n",
       "3        CASH_OUT      181.00         181.00             0.0    C38997010   \n",
       "251      TRANSFER     2806.00        2806.00             0.0   C972765878   \n",
       "252      CASH_OUT     2806.00        2806.00             0.0  C1007251739   \n",
       "680      TRANSFER    20128.00       20128.00             0.0  C1848415041   \n",
       "...           ...         ...            ...             ...          ...   \n",
       "6362607  CASH_OUT   303846.74      303846.74             0.0   C846260566   \n",
       "6362611  CASH_OUT    63416.99       63416.99             0.0  C1662241365   \n",
       "6362613  CASH_OUT  1258818.82     1258818.82             0.0  C1240760502   \n",
       "6362617  CASH_OUT  6311409.28     6311409.28             0.0  C1365125890   \n",
       "6362619  CASH_OUT   850002.52      850002.52             0.0   C873221189   \n",
       "\n",
       "         oldbalanceDest  newbalanceDest  isFraud  isFlaggedFraud  count_dest  \n",
       "2                  0.00            0.00        1               0          27  \n",
       "3              21182.00            0.00        1               0          31  \n",
       "251                0.00            0.00        1               0          20  \n",
       "252            26202.00            0.00        1               0          24  \n",
       "680                0.00            0.00        1               0          22  \n",
       "...                 ...             ...      ...             ...         ...  \n",
       "6362607       343660.89       647507.63        1               0           2  \n",
       "6362611       276433.18       339850.17        1               0           3  \n",
       "6362613       503464.50      1762283.33        1               0           3  \n",
       "6362617        68488.84      6379898.11        1               0           3  \n",
       "6362619      6510099.11      7360101.63        1               0          23  \n",
       "\n",
       "[5111 rows x 10 columns]"
      ]
     },
     "execution_count": 29,
     "metadata": {},
     "output_type": "execute_result"
    }
   ],
   "source": [
    "new_data[(new_data['isFraud']==1) & (new_data['count_dest'] >1)]"
   ]
  },
  {
   "cell_type": "code",
   "execution_count": 30,
   "id": "81b1d18f-2567-49c9-aa13-9e61f23f362e",
   "metadata": {},
   "outputs": [
    {
     "data": {
      "text/html": [
       "<div>\n",
       "<style scoped>\n",
       "    .dataframe tbody tr th:only-of-type {\n",
       "        vertical-align: middle;\n",
       "    }\n",
       "\n",
       "    .dataframe tbody tr th {\n",
       "        vertical-align: top;\n",
       "    }\n",
       "\n",
       "    .dataframe thead th {\n",
       "        text-align: right;\n",
       "    }\n",
       "</style>\n",
       "<table border=\"1\" class=\"dataframe\">\n",
       "  <thead>\n",
       "    <tr style=\"text-align: right;\">\n",
       "      <th></th>\n",
       "      <th>type</th>\n",
       "      <th>amount</th>\n",
       "      <th>oldbalanceOrg</th>\n",
       "      <th>newbalanceOrig</th>\n",
       "      <th>nameDest</th>\n",
       "      <th>oldbalanceDest</th>\n",
       "      <th>newbalanceDest</th>\n",
       "      <th>isFraud</th>\n",
       "      <th>isFlaggedFraud</th>\n",
       "      <th>count_dest</th>\n",
       "    </tr>\n",
       "  </thead>\n",
       "  <tbody>\n",
       "    <tr>\n",
       "      <th>2</th>\n",
       "      <td>TRANSFER</td>\n",
       "      <td>181.00</td>\n",
       "      <td>181.00</td>\n",
       "      <td>0.00</td>\n",
       "      <td>C553264065</td>\n",
       "      <td>0.00</td>\n",
       "      <td>0.00</td>\n",
       "      <td>1</td>\n",
       "      <td>0</td>\n",
       "      <td>27</td>\n",
       "    </tr>\n",
       "    <tr>\n",
       "      <th>6167</th>\n",
       "      <td>TRANSFER</td>\n",
       "      <td>109985.65</td>\n",
       "      <td>41851.00</td>\n",
       "      <td>0.00</td>\n",
       "      <td>C553264065</td>\n",
       "      <td>0.00</td>\n",
       "      <td>109985.65</td>\n",
       "      <td>0</td>\n",
       "      <td>0</td>\n",
       "      <td>27</td>\n",
       "    </tr>\n",
       "    <tr>\n",
       "      <th>16381</th>\n",
       "      <td>CASH_OUT</td>\n",
       "      <td>111622.39</td>\n",
       "      <td>2347.00</td>\n",
       "      <td>0.00</td>\n",
       "      <td>C553264065</td>\n",
       "      <td>99729.44</td>\n",
       "      <td>5254.44</td>\n",
       "      <td>0</td>\n",
       "      <td>0</td>\n",
       "      <td>27</td>\n",
       "    </tr>\n",
       "    <tr>\n",
       "      <th>62736</th>\n",
       "      <td>TRANSFER</td>\n",
       "      <td>1447322.21</td>\n",
       "      <td>65634.00</td>\n",
       "      <td>0.00</td>\n",
       "      <td>C553264065</td>\n",
       "      <td>5254.44</td>\n",
       "      <td>1317666.01</td>\n",
       "      <td>0</td>\n",
       "      <td>0</td>\n",
       "      <td>27</td>\n",
       "    </tr>\n",
       "    <tr>\n",
       "      <th>227904</th>\n",
       "      <td>CASH_OUT</td>\n",
       "      <td>340825.56</td>\n",
       "      <td>0.00</td>\n",
       "      <td>0.00</td>\n",
       "      <td>C553264065</td>\n",
       "      <td>1303946.65</td>\n",
       "      <td>1384840.44</td>\n",
       "      <td>0</td>\n",
       "      <td>0</td>\n",
       "      <td>27</td>\n",
       "    </tr>\n",
       "    <tr>\n",
       "      <th>292508</th>\n",
       "      <td>CASH_OUT</td>\n",
       "      <td>128766.03</td>\n",
       "      <td>0.00</td>\n",
       "      <td>0.00</td>\n",
       "      <td>C553264065</td>\n",
       "      <td>1256074.41</td>\n",
       "      <td>1384840.44</td>\n",
       "      <td>0</td>\n",
       "      <td>0</td>\n",
       "      <td>27</td>\n",
       "    </tr>\n",
       "    <tr>\n",
       "      <th>425019</th>\n",
       "      <td>TRANSFER</td>\n",
       "      <td>1491.48</td>\n",
       "      <td>0.00</td>\n",
       "      <td>0.00</td>\n",
       "      <td>C553264065</td>\n",
       "      <td>1384840.44</td>\n",
       "      <td>1439708.33</td>\n",
       "      <td>0</td>\n",
       "      <td>0</td>\n",
       "      <td>27</td>\n",
       "    </tr>\n",
       "    <tr>\n",
       "      <th>436299</th>\n",
       "      <td>CASH_OUT</td>\n",
       "      <td>53376.40</td>\n",
       "      <td>0.00</td>\n",
       "      <td>0.00</td>\n",
       "      <td>C553264065</td>\n",
       "      <td>1386331.92</td>\n",
       "      <td>1439708.33</td>\n",
       "      <td>0</td>\n",
       "      <td>0</td>\n",
       "      <td>27</td>\n",
       "    </tr>\n",
       "    <tr>\n",
       "      <th>492328</th>\n",
       "      <td>CASH_OUT</td>\n",
       "      <td>510506.07</td>\n",
       "      <td>0.00</td>\n",
       "      <td>0.00</td>\n",
       "      <td>C553264065</td>\n",
       "      <td>1439708.33</td>\n",
       "      <td>2112180.23</td>\n",
       "      <td>0</td>\n",
       "      <td>0</td>\n",
       "      <td>27</td>\n",
       "    </tr>\n",
       "    <tr>\n",
       "      <th>531255</th>\n",
       "      <td>CASH_OUT</td>\n",
       "      <td>161965.84</td>\n",
       "      <td>10206.00</td>\n",
       "      <td>0.00</td>\n",
       "      <td>C553264065</td>\n",
       "      <td>1950214.39</td>\n",
       "      <td>2112180.23</td>\n",
       "      <td>0</td>\n",
       "      <td>0</td>\n",
       "      <td>27</td>\n",
       "    </tr>\n",
       "    <tr>\n",
       "      <th>703024</th>\n",
       "      <td>CASH_OUT</td>\n",
       "      <td>383322.44</td>\n",
       "      <td>0.00</td>\n",
       "      <td>0.00</td>\n",
       "      <td>C553264065</td>\n",
       "      <td>2112180.23</td>\n",
       "      <td>2543892.56</td>\n",
       "      <td>0</td>\n",
       "      <td>0</td>\n",
       "      <td>27</td>\n",
       "    </tr>\n",
       "    <tr>\n",
       "      <th>704677</th>\n",
       "      <td>TRANSFER</td>\n",
       "      <td>48389.89</td>\n",
       "      <td>11460.36</td>\n",
       "      <td>0.00</td>\n",
       "      <td>C553264065</td>\n",
       "      <td>2495502.68</td>\n",
       "      <td>2543892.56</td>\n",
       "      <td>0</td>\n",
       "      <td>0</td>\n",
       "      <td>27</td>\n",
       "    </tr>\n",
       "    <tr>\n",
       "      <th>743914</th>\n",
       "      <td>CASH_OUT</td>\n",
       "      <td>16982.06</td>\n",
       "      <td>28051.00</td>\n",
       "      <td>11068.94</td>\n",
       "      <td>C553264065</td>\n",
       "      <td>2543892.56</td>\n",
       "      <td>2560874.62</td>\n",
       "      <td>0</td>\n",
       "      <td>0</td>\n",
       "      <td>27</td>\n",
       "    </tr>\n",
       "    <tr>\n",
       "      <th>777295</th>\n",
       "      <td>TRANSFER</td>\n",
       "      <td>75090.79</td>\n",
       "      <td>5315.18</td>\n",
       "      <td>0.00</td>\n",
       "      <td>C553264065</td>\n",
       "      <td>2560874.62</td>\n",
       "      <td>2635965.41</td>\n",
       "      <td>0</td>\n",
       "      <td>0</td>\n",
       "      <td>27</td>\n",
       "    </tr>\n",
       "    <tr>\n",
       "      <th>822760</th>\n",
       "      <td>CASH_OUT</td>\n",
       "      <td>371638.10</td>\n",
       "      <td>153222.00</td>\n",
       "      <td>0.00</td>\n",
       "      <td>C553264065</td>\n",
       "      <td>2635965.41</td>\n",
       "      <td>2609502.15</td>\n",
       "      <td>0</td>\n",
       "      <td>0</td>\n",
       "      <td>27</td>\n",
       "    </tr>\n",
       "    <tr>\n",
       "      <th>897983</th>\n",
       "      <td>TRANSFER</td>\n",
       "      <td>428995.04</td>\n",
       "      <td>100313.00</td>\n",
       "      <td>0.00</td>\n",
       "      <td>C553264065</td>\n",
       "      <td>2609502.15</td>\n",
       "      <td>3192256.90</td>\n",
       "      <td>0</td>\n",
       "      <td>0</td>\n",
       "      <td>27</td>\n",
       "    </tr>\n",
       "    <tr>\n",
       "      <th>902878</th>\n",
       "      <td>CASH_OUT</td>\n",
       "      <td>153759.71</td>\n",
       "      <td>312792.00</td>\n",
       "      <td>159032.29</td>\n",
       "      <td>C553264065</td>\n",
       "      <td>3038497.19</td>\n",
       "      <td>3192256.90</td>\n",
       "      <td>0</td>\n",
       "      <td>0</td>\n",
       "      <td>27</td>\n",
       "    </tr>\n",
       "    <tr>\n",
       "      <th>975052</th>\n",
       "      <td>CASH_OUT</td>\n",
       "      <td>104233.10</td>\n",
       "      <td>0.00</td>\n",
       "      <td>0.00</td>\n",
       "      <td>C553264065</td>\n",
       "      <td>3192256.90</td>\n",
       "      <td>3296490.00</td>\n",
       "      <td>0</td>\n",
       "      <td>0</td>\n",
       "      <td>27</td>\n",
       "    </tr>\n",
       "    <tr>\n",
       "      <th>994298</th>\n",
       "      <td>CASH_OUT</td>\n",
       "      <td>53488.19</td>\n",
       "      <td>0.00</td>\n",
       "      <td>0.00</td>\n",
       "      <td>C553264065</td>\n",
       "      <td>3296490.00</td>\n",
       "      <td>3349978.20</td>\n",
       "      <td>0</td>\n",
       "      <td>0</td>\n",
       "      <td>27</td>\n",
       "    </tr>\n",
       "    <tr>\n",
       "      <th>1258407</th>\n",
       "      <td>TRANSFER</td>\n",
       "      <td>351176.83</td>\n",
       "      <td>0.00</td>\n",
       "      <td>0.00</td>\n",
       "      <td>C553264065</td>\n",
       "      <td>3349978.20</td>\n",
       "      <td>3701155.03</td>\n",
       "      <td>0</td>\n",
       "      <td>0</td>\n",
       "      <td>27</td>\n",
       "    </tr>\n",
       "    <tr>\n",
       "      <th>1309211</th>\n",
       "      <td>CASH_OUT</td>\n",
       "      <td>414466.92</td>\n",
       "      <td>21629.00</td>\n",
       "      <td>0.00</td>\n",
       "      <td>C553264065</td>\n",
       "      <td>3701155.03</td>\n",
       "      <td>4115621.95</td>\n",
       "      <td>0</td>\n",
       "      <td>0</td>\n",
       "      <td>27</td>\n",
       "    </tr>\n",
       "    <tr>\n",
       "      <th>2653784</th>\n",
       "      <td>CASH_OUT</td>\n",
       "      <td>86716.78</td>\n",
       "      <td>0.00</td>\n",
       "      <td>0.00</td>\n",
       "      <td>C553264065</td>\n",
       "      <td>3471217.35</td>\n",
       "      <td>3557934.13</td>\n",
       "      <td>0</td>\n",
       "      <td>0</td>\n",
       "      <td>27</td>\n",
       "    </tr>\n",
       "    <tr>\n",
       "      <th>3232316</th>\n",
       "      <td>TRANSFER</td>\n",
       "      <td>598097.11</td>\n",
       "      <td>0.00</td>\n",
       "      <td>0.00</td>\n",
       "      <td>C553264065</td>\n",
       "      <td>3331659.02</td>\n",
       "      <td>3929756.13</td>\n",
       "      <td>0</td>\n",
       "      <td>0</td>\n",
       "      <td>27</td>\n",
       "    </tr>\n",
       "    <tr>\n",
       "      <th>4725905</th>\n",
       "      <td>CASH_OUT</td>\n",
       "      <td>261913.19</td>\n",
       "      <td>0.00</td>\n",
       "      <td>0.00</td>\n",
       "      <td>C553264065</td>\n",
       "      <td>3004670.85</td>\n",
       "      <td>3266584.05</td>\n",
       "      <td>0</td>\n",
       "      <td>0</td>\n",
       "      <td>27</td>\n",
       "    </tr>\n",
       "    <tr>\n",
       "      <th>5019864</th>\n",
       "      <td>CASH_OUT</td>\n",
       "      <td>469491.37</td>\n",
       "      <td>4059.00</td>\n",
       "      <td>0.00</td>\n",
       "      <td>C553264065</td>\n",
       "      <td>3266584.05</td>\n",
       "      <td>3736075.42</td>\n",
       "      <td>0</td>\n",
       "      <td>0</td>\n",
       "      <td>27</td>\n",
       "    </tr>\n",
       "    <tr>\n",
       "      <th>5421915</th>\n",
       "      <td>CASH_OUT</td>\n",
       "      <td>41962.84</td>\n",
       "      <td>0.00</td>\n",
       "      <td>0.00</td>\n",
       "      <td>C553264065</td>\n",
       "      <td>3736075.42</td>\n",
       "      <td>3778038.26</td>\n",
       "      <td>0</td>\n",
       "      <td>0</td>\n",
       "      <td>27</td>\n",
       "    </tr>\n",
       "    <tr>\n",
       "      <th>5512046</th>\n",
       "      <td>CASH_OUT</td>\n",
       "      <td>143821.57</td>\n",
       "      <td>0.00</td>\n",
       "      <td>0.00</td>\n",
       "      <td>C553264065</td>\n",
       "      <td>3778038.26</td>\n",
       "      <td>3921859.83</td>\n",
       "      <td>0</td>\n",
       "      <td>0</td>\n",
       "      <td>27</td>\n",
       "    </tr>\n",
       "  </tbody>\n",
       "</table>\n",
       "</div>"
      ],
      "text/plain": [
       "             type      amount  oldbalanceOrg  newbalanceOrig    nameDest  \\\n",
       "2        TRANSFER      181.00         181.00            0.00  C553264065   \n",
       "6167     TRANSFER   109985.65       41851.00            0.00  C553264065   \n",
       "16381    CASH_OUT   111622.39        2347.00            0.00  C553264065   \n",
       "62736    TRANSFER  1447322.21       65634.00            0.00  C553264065   \n",
       "227904   CASH_OUT   340825.56           0.00            0.00  C553264065   \n",
       "292508   CASH_OUT   128766.03           0.00            0.00  C553264065   \n",
       "425019   TRANSFER     1491.48           0.00            0.00  C553264065   \n",
       "436299   CASH_OUT    53376.40           0.00            0.00  C553264065   \n",
       "492328   CASH_OUT   510506.07           0.00            0.00  C553264065   \n",
       "531255   CASH_OUT   161965.84       10206.00            0.00  C553264065   \n",
       "703024   CASH_OUT   383322.44           0.00            0.00  C553264065   \n",
       "704677   TRANSFER    48389.89       11460.36            0.00  C553264065   \n",
       "743914   CASH_OUT    16982.06       28051.00        11068.94  C553264065   \n",
       "777295   TRANSFER    75090.79        5315.18            0.00  C553264065   \n",
       "822760   CASH_OUT   371638.10      153222.00            0.00  C553264065   \n",
       "897983   TRANSFER   428995.04      100313.00            0.00  C553264065   \n",
       "902878   CASH_OUT   153759.71      312792.00       159032.29  C553264065   \n",
       "975052   CASH_OUT   104233.10           0.00            0.00  C553264065   \n",
       "994298   CASH_OUT    53488.19           0.00            0.00  C553264065   \n",
       "1258407  TRANSFER   351176.83           0.00            0.00  C553264065   \n",
       "1309211  CASH_OUT   414466.92       21629.00            0.00  C553264065   \n",
       "2653784  CASH_OUT    86716.78           0.00            0.00  C553264065   \n",
       "3232316  TRANSFER   598097.11           0.00            0.00  C553264065   \n",
       "4725905  CASH_OUT   261913.19           0.00            0.00  C553264065   \n",
       "5019864  CASH_OUT   469491.37        4059.00            0.00  C553264065   \n",
       "5421915  CASH_OUT    41962.84           0.00            0.00  C553264065   \n",
       "5512046  CASH_OUT   143821.57           0.00            0.00  C553264065   \n",
       "\n",
       "         oldbalanceDest  newbalanceDest  isFraud  isFlaggedFraud  count_dest  \n",
       "2                  0.00            0.00        1               0          27  \n",
       "6167               0.00       109985.65        0               0          27  \n",
       "16381          99729.44         5254.44        0               0          27  \n",
       "62736           5254.44      1317666.01        0               0          27  \n",
       "227904       1303946.65      1384840.44        0               0          27  \n",
       "292508       1256074.41      1384840.44        0               0          27  \n",
       "425019       1384840.44      1439708.33        0               0          27  \n",
       "436299       1386331.92      1439708.33        0               0          27  \n",
       "492328       1439708.33      2112180.23        0               0          27  \n",
       "531255       1950214.39      2112180.23        0               0          27  \n",
       "703024       2112180.23      2543892.56        0               0          27  \n",
       "704677       2495502.68      2543892.56        0               0          27  \n",
       "743914       2543892.56      2560874.62        0               0          27  \n",
       "777295       2560874.62      2635965.41        0               0          27  \n",
       "822760       2635965.41      2609502.15        0               0          27  \n",
       "897983       2609502.15      3192256.90        0               0          27  \n",
       "902878       3038497.19      3192256.90        0               0          27  \n",
       "975052       3192256.90      3296490.00        0               0          27  \n",
       "994298       3296490.00      3349978.20        0               0          27  \n",
       "1258407      3349978.20      3701155.03        0               0          27  \n",
       "1309211      3701155.03      4115621.95        0               0          27  \n",
       "2653784      3471217.35      3557934.13        0               0          27  \n",
       "3232316      3331659.02      3929756.13        0               0          27  \n",
       "4725905      3004670.85      3266584.05        0               0          27  \n",
       "5019864      3266584.05      3736075.42        0               0          27  \n",
       "5421915      3736075.42      3778038.26        0               0          27  \n",
       "5512046      3778038.26      3921859.83        0               0          27  "
      ]
     },
     "execution_count": 30,
     "metadata": {},
     "output_type": "execute_result"
    }
   ],
   "source": [
    "new_data[new_data['nameDest']=='C553264065']"
   ]
  },
  {
   "cell_type": "code",
   "execution_count": 31,
   "id": "2c77040c-d268-4511-82ec-4b25d351ed15",
   "metadata": {},
   "outputs": [],
   "source": [
    "new_data = new_data.drop(['count_dest'], axis=1)"
   ]
  },
  {
   "cell_type": "code",
   "execution_count": 32,
   "id": "18bc6427-dea1-4d3e-b8c9-1c7168dd4874",
   "metadata": {},
   "outputs": [],
   "source": [
    "new_data = new_data.drop(['nameDest'], axis=1)"
   ]
  },
  {
   "cell_type": "code",
   "execution_count": 33,
   "id": "4d3ebb75-514c-43ad-b2fb-c6f2b1ab525d",
   "metadata": {},
   "outputs": [
    {
     "data": {
      "text/html": [
       "<div>\n",
       "<style scoped>\n",
       "    .dataframe tbody tr th:only-of-type {\n",
       "        vertical-align: middle;\n",
       "    }\n",
       "\n",
       "    .dataframe tbody tr th {\n",
       "        vertical-align: top;\n",
       "    }\n",
       "\n",
       "    .dataframe thead th {\n",
       "        text-align: right;\n",
       "    }\n",
       "</style>\n",
       "<table border=\"1\" class=\"dataframe\">\n",
       "  <thead>\n",
       "    <tr style=\"text-align: right;\">\n",
       "      <th></th>\n",
       "      <th>type</th>\n",
       "      <th>amount</th>\n",
       "      <th>oldbalanceOrg</th>\n",
       "      <th>newbalanceOrig</th>\n",
       "      <th>oldbalanceDest</th>\n",
       "      <th>newbalanceDest</th>\n",
       "      <th>isFraud</th>\n",
       "      <th>isFlaggedFraud</th>\n",
       "    </tr>\n",
       "  </thead>\n",
       "  <tbody>\n",
       "    <tr>\n",
       "      <th>2</th>\n",
       "      <td>TRANSFER</td>\n",
       "      <td>181.00</td>\n",
       "      <td>181.00</td>\n",
       "      <td>0.0</td>\n",
       "      <td>0.00</td>\n",
       "      <td>0.00</td>\n",
       "      <td>1</td>\n",
       "      <td>0</td>\n",
       "    </tr>\n",
       "    <tr>\n",
       "      <th>3</th>\n",
       "      <td>CASH_OUT</td>\n",
       "      <td>181.00</td>\n",
       "      <td>181.00</td>\n",
       "      <td>0.0</td>\n",
       "      <td>21182.00</td>\n",
       "      <td>0.00</td>\n",
       "      <td>1</td>\n",
       "      <td>0</td>\n",
       "    </tr>\n",
       "    <tr>\n",
       "      <th>15</th>\n",
       "      <td>CASH_OUT</td>\n",
       "      <td>229133.94</td>\n",
       "      <td>15325.00</td>\n",
       "      <td>0.0</td>\n",
       "      <td>5083.00</td>\n",
       "      <td>51513.44</td>\n",
       "      <td>0</td>\n",
       "      <td>0</td>\n",
       "    </tr>\n",
       "    <tr>\n",
       "      <th>19</th>\n",
       "      <td>TRANSFER</td>\n",
       "      <td>215310.30</td>\n",
       "      <td>705.00</td>\n",
       "      <td>0.0</td>\n",
       "      <td>22425.00</td>\n",
       "      <td>0.00</td>\n",
       "      <td>0</td>\n",
       "      <td>0</td>\n",
       "    </tr>\n",
       "    <tr>\n",
       "      <th>24</th>\n",
       "      <td>TRANSFER</td>\n",
       "      <td>311685.89</td>\n",
       "      <td>10835.00</td>\n",
       "      <td>0.0</td>\n",
       "      <td>6267.00</td>\n",
       "      <td>2719172.89</td>\n",
       "      <td>0</td>\n",
       "      <td>0</td>\n",
       "    </tr>\n",
       "    <tr>\n",
       "      <th>...</th>\n",
       "      <td>...</td>\n",
       "      <td>...</td>\n",
       "      <td>...</td>\n",
       "      <td>...</td>\n",
       "      <td>...</td>\n",
       "      <td>...</td>\n",
       "      <td>...</td>\n",
       "      <td>...</td>\n",
       "    </tr>\n",
       "    <tr>\n",
       "      <th>6362615</th>\n",
       "      <td>CASH_OUT</td>\n",
       "      <td>339682.13</td>\n",
       "      <td>339682.13</td>\n",
       "      <td>0.0</td>\n",
       "      <td>0.00</td>\n",
       "      <td>339682.13</td>\n",
       "      <td>1</td>\n",
       "      <td>0</td>\n",
       "    </tr>\n",
       "    <tr>\n",
       "      <th>6362616</th>\n",
       "      <td>TRANSFER</td>\n",
       "      <td>6311409.28</td>\n",
       "      <td>6311409.28</td>\n",
       "      <td>0.0</td>\n",
       "      <td>0.00</td>\n",
       "      <td>0.00</td>\n",
       "      <td>1</td>\n",
       "      <td>0</td>\n",
       "    </tr>\n",
       "    <tr>\n",
       "      <th>6362617</th>\n",
       "      <td>CASH_OUT</td>\n",
       "      <td>6311409.28</td>\n",
       "      <td>6311409.28</td>\n",
       "      <td>0.0</td>\n",
       "      <td>68488.84</td>\n",
       "      <td>6379898.11</td>\n",
       "      <td>1</td>\n",
       "      <td>0</td>\n",
       "    </tr>\n",
       "    <tr>\n",
       "      <th>6362618</th>\n",
       "      <td>TRANSFER</td>\n",
       "      <td>850002.52</td>\n",
       "      <td>850002.52</td>\n",
       "      <td>0.0</td>\n",
       "      <td>0.00</td>\n",
       "      <td>0.00</td>\n",
       "      <td>1</td>\n",
       "      <td>0</td>\n",
       "    </tr>\n",
       "    <tr>\n",
       "      <th>6362619</th>\n",
       "      <td>CASH_OUT</td>\n",
       "      <td>850002.52</td>\n",
       "      <td>850002.52</td>\n",
       "      <td>0.0</td>\n",
       "      <td>6510099.11</td>\n",
       "      <td>7360101.63</td>\n",
       "      <td>1</td>\n",
       "      <td>0</td>\n",
       "    </tr>\n",
       "  </tbody>\n",
       "</table>\n",
       "<p>2770409 rows × 8 columns</p>\n",
       "</div>"
      ],
      "text/plain": [
       "             type      amount  oldbalanceOrg  newbalanceOrig  oldbalanceDest  \\\n",
       "2        TRANSFER      181.00         181.00             0.0            0.00   \n",
       "3        CASH_OUT      181.00         181.00             0.0        21182.00   \n",
       "15       CASH_OUT   229133.94       15325.00             0.0         5083.00   \n",
       "19       TRANSFER   215310.30         705.00             0.0        22425.00   \n",
       "24       TRANSFER   311685.89       10835.00             0.0         6267.00   \n",
       "...           ...         ...            ...             ...             ...   \n",
       "6362615  CASH_OUT   339682.13      339682.13             0.0            0.00   \n",
       "6362616  TRANSFER  6311409.28     6311409.28             0.0            0.00   \n",
       "6362617  CASH_OUT  6311409.28     6311409.28             0.0        68488.84   \n",
       "6362618  TRANSFER   850002.52      850002.52             0.0            0.00   \n",
       "6362619  CASH_OUT   850002.52      850002.52             0.0      6510099.11   \n",
       "\n",
       "         newbalanceDest  isFraud  isFlaggedFraud  \n",
       "2                  0.00        1               0  \n",
       "3                  0.00        1               0  \n",
       "15             51513.44        0               0  \n",
       "19                 0.00        0               0  \n",
       "24           2719172.89        0               0  \n",
       "...                 ...      ...             ...  \n",
       "6362615       339682.13        1               0  \n",
       "6362616            0.00        1               0  \n",
       "6362617      6379898.11        1               0  \n",
       "6362618            0.00        1               0  \n",
       "6362619      7360101.63        1               0  \n",
       "\n",
       "[2770409 rows x 8 columns]"
      ]
     },
     "execution_count": 33,
     "metadata": {},
     "output_type": "execute_result"
    }
   ],
   "source": [
    "new_data"
   ]
  },
  {
   "cell_type": "code",
   "execution_count": 34,
   "id": "8f416142-de15-4724-8e9e-07fd9b1c9c1e",
   "metadata": {},
   "outputs": [
    {
     "data": {
      "text/plain": [
       "isFraud\n",
       "0    2488603\n",
       "1       8053\n",
       "Name: count, dtype: int64"
      ]
     },
     "execution_count": 34,
     "metadata": {},
     "output_type": "execute_result"
    }
   ],
   "source": [
    "new_data[new_data['newbalanceOrig']==0.0]['isFraud'].value_counts()"
   ]
  },
  {
   "cell_type": "code",
   "execution_count": 35,
   "id": "09d841e1-bbb0-4965-bfa5-89ba762229fb",
   "metadata": {},
   "outputs": [
    {
     "name": "stdout",
     "output_type": "stream",
     "text": [
      "Min:  0.0\n",
      "Max:  49585040.37\n",
      "Mean:  16091.90467901671\n",
      "Std:  151255.82476021198\n"
     ]
    }
   ],
   "source": [
    "newbalanceOrig_std = new_data['newbalanceOrig'].std()\n",
    "newbalanceOrig_mean = new_data['newbalanceOrig'].mean()\n",
    "newbalanceOrig_min = new_data['newbalanceOrig'].min()\n",
    "newbalanceOrig_max=new_data['newbalanceOrig'].max()\n",
    "\n",
    "print(\"Min: \",newbalanceOrig_min)\n",
    "print(\"Max: \",newbalanceOrig_max)\n",
    "print(\"Mean: \",newbalanceOrig_mean)\n",
    "print(\"Std: \",newbalanceOrig_std )"
   ]
  },
  {
   "cell_type": "code",
   "execution_count": 36,
   "id": "62390c1d-df8e-4002-9256-4fdf5c18269e",
   "metadata": {},
   "outputs": [
    {
     "data": {
      "text/plain": [
       "isFraud\n",
       "0    19359\n",
       "1      153\n",
       "Name: count, dtype: int64"
      ]
     },
     "execution_count": 36,
     "metadata": {},
     "output_type": "execute_result"
    }
   ],
   "source": [
    "new_data[new_data['newbalanceOrig'] > (3 *newbalanceOrig_std + newbalanceOrig_mean)]['isFraud'].value_counts()"
   ]
  },
  {
   "cell_type": "code",
   "execution_count": 37,
   "id": "b668ce65-f6b7-4b74-917a-9e5150f09a9c",
   "metadata": {},
   "outputs": [
    {
     "name": "stderr",
     "output_type": "stream",
     "text": [
      "C:\\Users\\91814\\AppData\\Local\\Temp\\ipykernel_17156\\4073516139.py:1: UserWarning: Boolean Series key will be reindexed to match DataFrame index.\n",
      "  new_data[(new_data['newbalanceOrig'] > (3 *newbalanceOrig_std + newbalanceOrig_mean)) & (dataset['isFraud']==1)]\n"
     ]
    },
    {
     "data": {
      "text/html": [
       "<div>\n",
       "<style scoped>\n",
       "    .dataframe tbody tr th:only-of-type {\n",
       "        vertical-align: middle;\n",
       "    }\n",
       "\n",
       "    .dataframe tbody tr th {\n",
       "        vertical-align: top;\n",
       "    }\n",
       "\n",
       "    .dataframe thead th {\n",
       "        text-align: right;\n",
       "    }\n",
       "</style>\n",
       "<table border=\"1\" class=\"dataframe\">\n",
       "  <thead>\n",
       "    <tr style=\"text-align: right;\">\n",
       "      <th></th>\n",
       "      <th>type</th>\n",
       "      <th>amount</th>\n",
       "      <th>oldbalanceOrg</th>\n",
       "      <th>newbalanceOrig</th>\n",
       "      <th>oldbalanceDest</th>\n",
       "      <th>newbalanceDest</th>\n",
       "      <th>isFraud</th>\n",
       "      <th>isFlaggedFraud</th>\n",
       "    </tr>\n",
       "  </thead>\n",
       "  <tbody>\n",
       "    <tr>\n",
       "      <th>4440</th>\n",
       "      <td>TRANSFER</td>\n",
       "      <td>10000000.00</td>\n",
       "      <td>12930418.44</td>\n",
       "      <td>2930418.44</td>\n",
       "      <td>0.0</td>\n",
       "      <td>0.0</td>\n",
       "      <td>1</td>\n",
       "      <td>0</td>\n",
       "    </tr>\n",
       "    <tr>\n",
       "      <th>481250</th>\n",
       "      <td>TRANSFER</td>\n",
       "      <td>10000000.00</td>\n",
       "      <td>11861008.32</td>\n",
       "      <td>1861008.32</td>\n",
       "      <td>0.0</td>\n",
       "      <td>0.0</td>\n",
       "      <td>1</td>\n",
       "      <td>0</td>\n",
       "    </tr>\n",
       "    <tr>\n",
       "      <th>586311</th>\n",
       "      <td>TRANSFER</td>\n",
       "      <td>10000000.00</td>\n",
       "      <td>19887819.06</td>\n",
       "      <td>9887819.06</td>\n",
       "      <td>0.0</td>\n",
       "      <td>0.0</td>\n",
       "      <td>1</td>\n",
       "      <td>0</td>\n",
       "    </tr>\n",
       "    <tr>\n",
       "      <th>1030559</th>\n",
       "      <td>TRANSFER</td>\n",
       "      <td>10000000.00</td>\n",
       "      <td>18594065.09</td>\n",
       "      <td>8594065.09</td>\n",
       "      <td>0.0</td>\n",
       "      <td>0.0</td>\n",
       "      <td>1</td>\n",
       "      <td>0</td>\n",
       "    </tr>\n",
       "    <tr>\n",
       "      <th>1030661</th>\n",
       "      <td>TRANSFER</td>\n",
       "      <td>10000000.00</td>\n",
       "      <td>10987591.59</td>\n",
       "      <td>987591.59</td>\n",
       "      <td>0.0</td>\n",
       "      <td>0.0</td>\n",
       "      <td>1</td>\n",
       "      <td>0</td>\n",
       "    </tr>\n",
       "    <tr>\n",
       "      <th>...</th>\n",
       "      <td>...</td>\n",
       "      <td>...</td>\n",
       "      <td>...</td>\n",
       "      <td>...</td>\n",
       "      <td>...</td>\n",
       "      <td>...</td>\n",
       "      <td>...</td>\n",
       "      <td>...</td>\n",
       "    </tr>\n",
       "    <tr>\n",
       "      <th>6362576</th>\n",
       "      <td>TRANSFER</td>\n",
       "      <td>10000000.00</td>\n",
       "      <td>45674547.89</td>\n",
       "      <td>35674547.89</td>\n",
       "      <td>0.0</td>\n",
       "      <td>0.0</td>\n",
       "      <td>1</td>\n",
       "      <td>0</td>\n",
       "    </tr>\n",
       "    <tr>\n",
       "      <th>6362578</th>\n",
       "      <td>TRANSFER</td>\n",
       "      <td>10000000.00</td>\n",
       "      <td>35674547.89</td>\n",
       "      <td>25674547.89</td>\n",
       "      <td>0.0</td>\n",
       "      <td>0.0</td>\n",
       "      <td>1</td>\n",
       "      <td>0</td>\n",
       "    </tr>\n",
       "    <tr>\n",
       "      <th>6362580</th>\n",
       "      <td>TRANSFER</td>\n",
       "      <td>10000000.00</td>\n",
       "      <td>25674547.89</td>\n",
       "      <td>15674547.89</td>\n",
       "      <td>0.0</td>\n",
       "      <td>0.0</td>\n",
       "      <td>1</td>\n",
       "      <td>0</td>\n",
       "    </tr>\n",
       "    <tr>\n",
       "      <th>6362582</th>\n",
       "      <td>TRANSFER</td>\n",
       "      <td>10000000.00</td>\n",
       "      <td>15674547.89</td>\n",
       "      <td>5674547.89</td>\n",
       "      <td>0.0</td>\n",
       "      <td>0.0</td>\n",
       "      <td>1</td>\n",
       "      <td>0</td>\n",
       "    </tr>\n",
       "    <tr>\n",
       "      <th>6362584</th>\n",
       "      <td>TRANSFER</td>\n",
       "      <td>5674547.89</td>\n",
       "      <td>5674547.89</td>\n",
       "      <td>5674547.89</td>\n",
       "      <td>0.0</td>\n",
       "      <td>0.0</td>\n",
       "      <td>1</td>\n",
       "      <td>1</td>\n",
       "    </tr>\n",
       "  </tbody>\n",
       "</table>\n",
       "<p>153 rows × 8 columns</p>\n",
       "</div>"
      ],
      "text/plain": [
       "             type       amount  oldbalanceOrg  newbalanceOrig  oldbalanceDest  \\\n",
       "4440     TRANSFER  10000000.00    12930418.44      2930418.44             0.0   \n",
       "481250   TRANSFER  10000000.00    11861008.32      1861008.32             0.0   \n",
       "586311   TRANSFER  10000000.00    19887819.06      9887819.06             0.0   \n",
       "1030559  TRANSFER  10000000.00    18594065.09      8594065.09             0.0   \n",
       "1030661  TRANSFER  10000000.00    10987591.59       987591.59             0.0   \n",
       "...           ...          ...            ...             ...             ...   \n",
       "6362576  TRANSFER  10000000.00    45674547.89     35674547.89             0.0   \n",
       "6362578  TRANSFER  10000000.00    35674547.89     25674547.89             0.0   \n",
       "6362580  TRANSFER  10000000.00    25674547.89     15674547.89             0.0   \n",
       "6362582  TRANSFER  10000000.00    15674547.89      5674547.89             0.0   \n",
       "6362584  TRANSFER   5674547.89     5674547.89      5674547.89             0.0   \n",
       "\n",
       "         newbalanceDest  isFraud  isFlaggedFraud  \n",
       "4440                0.0        1               0  \n",
       "481250              0.0        1               0  \n",
       "586311              0.0        1               0  \n",
       "1030559             0.0        1               0  \n",
       "1030661             0.0        1               0  \n",
       "...                 ...      ...             ...  \n",
       "6362576             0.0        1               0  \n",
       "6362578             0.0        1               0  \n",
       "6362580             0.0        1               0  \n",
       "6362582             0.0        1               0  \n",
       "6362584             0.0        1               1  \n",
       "\n",
       "[153 rows x 8 columns]"
      ]
     },
     "execution_count": 37,
     "metadata": {},
     "output_type": "execute_result"
    }
   ],
   "source": [
    "new_data[(new_data['newbalanceOrig'] > (3 *newbalanceOrig_std + newbalanceOrig_mean)) & (dataset['isFraud']==1)]"
   ]
  },
  {
   "cell_type": "code",
   "execution_count": 38,
   "id": "f0d37180-0e8f-46c5-8427-6210b90e8f18",
   "metadata": {},
   "outputs": [
    {
     "data": {
      "text/html": [
       "<div>\n",
       "<style scoped>\n",
       "    .dataframe tbody tr th:only-of-type {\n",
       "        vertical-align: middle;\n",
       "    }\n",
       "\n",
       "    .dataframe tbody tr th {\n",
       "        vertical-align: top;\n",
       "    }\n",
       "\n",
       "    .dataframe thead th {\n",
       "        text-align: right;\n",
       "    }\n",
       "</style>\n",
       "<table border=\"1\" class=\"dataframe\">\n",
       "  <thead>\n",
       "    <tr style=\"text-align: right;\">\n",
       "      <th></th>\n",
       "      <th>type</th>\n",
       "      <th>amount</th>\n",
       "      <th>oldbalanceOrg</th>\n",
       "      <th>newbalanceOrig</th>\n",
       "      <th>oldbalanceDest</th>\n",
       "      <th>newbalanceDest</th>\n",
       "      <th>isFraud</th>\n",
       "      <th>isFlaggedFraud</th>\n",
       "    </tr>\n",
       "  </thead>\n",
       "  <tbody>\n",
       "    <tr>\n",
       "      <th>724</th>\n",
       "      <td>CASH_OUT</td>\n",
       "      <td>416001.33</td>\n",
       "      <td>0.0</td>\n",
       "      <td>0.0</td>\n",
       "      <td>102.00</td>\n",
       "      <td>9291619.62</td>\n",
       "      <td>1</td>\n",
       "      <td>0</td>\n",
       "    </tr>\n",
       "    <tr>\n",
       "      <th>14861</th>\n",
       "      <td>CASH_OUT</td>\n",
       "      <td>181728.11</td>\n",
       "      <td>0.0</td>\n",
       "      <td>0.0</td>\n",
       "      <td>11397.00</td>\n",
       "      <td>184477.77</td>\n",
       "      <td>1</td>\n",
       "      <td>0</td>\n",
       "    </tr>\n",
       "    <tr>\n",
       "      <th>25875</th>\n",
       "      <td>TRANSFER</td>\n",
       "      <td>1078013.76</td>\n",
       "      <td>0.0</td>\n",
       "      <td>0.0</td>\n",
       "      <td>0.00</td>\n",
       "      <td>970749.68</td>\n",
       "      <td>1</td>\n",
       "      <td>0</td>\n",
       "    </tr>\n",
       "    <tr>\n",
       "      <th>77745</th>\n",
       "      <td>CASH_OUT</td>\n",
       "      <td>277970.88</td>\n",
       "      <td>0.0</td>\n",
       "      <td>0.0</td>\n",
       "      <td>0.00</td>\n",
       "      <td>277970.88</td>\n",
       "      <td>1</td>\n",
       "      <td>0</td>\n",
       "    </tr>\n",
       "    <tr>\n",
       "      <th>138559</th>\n",
       "      <td>TRANSFER</td>\n",
       "      <td>1933920.80</td>\n",
       "      <td>0.0</td>\n",
       "      <td>0.0</td>\n",
       "      <td>1283762.85</td>\n",
       "      <td>3217683.65</td>\n",
       "      <td>1</td>\n",
       "      <td>0</td>\n",
       "    </tr>\n",
       "    <tr>\n",
       "      <th>169998</th>\n",
       "      <td>CASH_OUT</td>\n",
       "      <td>149668.66</td>\n",
       "      <td>0.0</td>\n",
       "      <td>0.0</td>\n",
       "      <td>44170.11</td>\n",
       "      <td>193838.76</td>\n",
       "      <td>1</td>\n",
       "      <td>0</td>\n",
       "    </tr>\n",
       "    <tr>\n",
       "      <th>178668</th>\n",
       "      <td>CASH_OUT</td>\n",
       "      <td>222048.71</td>\n",
       "      <td>0.0</td>\n",
       "      <td>0.0</td>\n",
       "      <td>2979.00</td>\n",
       "      <td>225027.71</td>\n",
       "      <td>1</td>\n",
       "      <td>0</td>\n",
       "    </tr>\n",
       "    <tr>\n",
       "      <th>200845</th>\n",
       "      <td>CASH_OUT</td>\n",
       "      <td>454859.39</td>\n",
       "      <td>0.0</td>\n",
       "      <td>0.0</td>\n",
       "      <td>0.00</td>\n",
       "      <td>454859.39</td>\n",
       "      <td>1</td>\n",
       "      <td>0</td>\n",
       "    </tr>\n",
       "    <tr>\n",
       "      <th>291459</th>\n",
       "      <td>CASH_OUT</td>\n",
       "      <td>95428.32</td>\n",
       "      <td>0.0</td>\n",
       "      <td>0.0</td>\n",
       "      <td>0.00</td>\n",
       "      <td>95428.32</td>\n",
       "      <td>1</td>\n",
       "      <td>0</td>\n",
       "    </tr>\n",
       "    <tr>\n",
       "      <th>296686</th>\n",
       "      <td>CASH_OUT</td>\n",
       "      <td>39713.28</td>\n",
       "      <td>0.0</td>\n",
       "      <td>0.0</td>\n",
       "      <td>1274866.51</td>\n",
       "      <td>1314579.79</td>\n",
       "      <td>1</td>\n",
       "      <td>0</td>\n",
       "    </tr>\n",
       "    <tr>\n",
       "      <th>424928</th>\n",
       "      <td>CASH_OUT</td>\n",
       "      <td>508782.20</td>\n",
       "      <td>0.0</td>\n",
       "      <td>0.0</td>\n",
       "      <td>1082007.65</td>\n",
       "      <td>1590789.85</td>\n",
       "      <td>1</td>\n",
       "      <td>0</td>\n",
       "    </tr>\n",
       "    <tr>\n",
       "      <th>479636</th>\n",
       "      <td>CASH_OUT</td>\n",
       "      <td>122101.57</td>\n",
       "      <td>0.0</td>\n",
       "      <td>0.0</td>\n",
       "      <td>0.00</td>\n",
       "      <td>639940.20</td>\n",
       "      <td>1</td>\n",
       "      <td>0</td>\n",
       "    </tr>\n",
       "    <tr>\n",
       "      <th>543928</th>\n",
       "      <td>CASH_OUT</td>\n",
       "      <td>23292.30</td>\n",
       "      <td>0.0</td>\n",
       "      <td>0.0</td>\n",
       "      <td>392364.62</td>\n",
       "      <td>415656.92</td>\n",
       "      <td>1</td>\n",
       "      <td>0</td>\n",
       "    </tr>\n",
       "    <tr>\n",
       "      <th>643671</th>\n",
       "      <td>CASH_OUT</td>\n",
       "      <td>112280.88</td>\n",
       "      <td>0.0</td>\n",
       "      <td>0.0</td>\n",
       "      <td>40512.49</td>\n",
       "      <td>152793.36</td>\n",
       "      <td>1</td>\n",
       "      <td>0</td>\n",
       "    </tr>\n",
       "    <tr>\n",
       "      <th>694551</th>\n",
       "      <td>CASH_OUT</td>\n",
       "      <td>234377.29</td>\n",
       "      <td>0.0</td>\n",
       "      <td>0.0</td>\n",
       "      <td>34937.86</td>\n",
       "      <td>269315.15</td>\n",
       "      <td>1</td>\n",
       "      <td>0</td>\n",
       "    </tr>\n",
       "    <tr>\n",
       "      <th>732891</th>\n",
       "      <td>CASH_OUT</td>\n",
       "      <td>112486.46</td>\n",
       "      <td>0.0</td>\n",
       "      <td>0.0</td>\n",
       "      <td>257274.47</td>\n",
       "      <td>369760.93</td>\n",
       "      <td>1</td>\n",
       "      <td>0</td>\n",
       "    </tr>\n",
       "    <tr>\n",
       "      <th>750755</th>\n",
       "      <td>CASH_OUT</td>\n",
       "      <td>577418.98</td>\n",
       "      <td>0.0</td>\n",
       "      <td>0.0</td>\n",
       "      <td>0.00</td>\n",
       "      <td>577418.98</td>\n",
       "      <td>1</td>\n",
       "      <td>0</td>\n",
       "    </tr>\n",
       "    <tr>\n",
       "      <th>764187</th>\n",
       "      <td>CASH_OUT</td>\n",
       "      <td>407005.78</td>\n",
       "      <td>0.0</td>\n",
       "      <td>0.0</td>\n",
       "      <td>0.00</td>\n",
       "      <td>407005.78</td>\n",
       "      <td>1</td>\n",
       "      <td>0</td>\n",
       "    </tr>\n",
       "    <tr>\n",
       "      <th>920521</th>\n",
       "      <td>TRANSFER</td>\n",
       "      <td>1395850.55</td>\n",
       "      <td>0.0</td>\n",
       "      <td>0.0</td>\n",
       "      <td>260806.21</td>\n",
       "      <td>1656656.77</td>\n",
       "      <td>1</td>\n",
       "      <td>0</td>\n",
       "    </tr>\n",
       "    <tr>\n",
       "      <th>1021951</th>\n",
       "      <td>TRANSFER</td>\n",
       "      <td>202978.65</td>\n",
       "      <td>0.0</td>\n",
       "      <td>0.0</td>\n",
       "      <td>2122336.55</td>\n",
       "      <td>2325315.19</td>\n",
       "      <td>1</td>\n",
       "      <td>0</td>\n",
       "    </tr>\n",
       "    <tr>\n",
       "      <th>2058343</th>\n",
       "      <td>CASH_OUT</td>\n",
       "      <td>332729.54</td>\n",
       "      <td>0.0</td>\n",
       "      <td>0.0</td>\n",
       "      <td>613712.35</td>\n",
       "      <td>946441.90</td>\n",
       "      <td>1</td>\n",
       "      <td>0</td>\n",
       "    </tr>\n",
       "    <tr>\n",
       "      <th>2242699</th>\n",
       "      <td>CASH_OUT</td>\n",
       "      <td>229909.57</td>\n",
       "      <td>0.0</td>\n",
       "      <td>0.0</td>\n",
       "      <td>0.00</td>\n",
       "      <td>229909.57</td>\n",
       "      <td>1</td>\n",
       "      <td>0</td>\n",
       "    </tr>\n",
       "    <tr>\n",
       "      <th>2622102</th>\n",
       "      <td>CASH_OUT</td>\n",
       "      <td>291519.84</td>\n",
       "      <td>0.0</td>\n",
       "      <td>0.0</td>\n",
       "      <td>0.00</td>\n",
       "      <td>291519.84</td>\n",
       "      <td>1</td>\n",
       "      <td>0</td>\n",
       "    </tr>\n",
       "    <tr>\n",
       "      <th>2736447</th>\n",
       "      <td>CASH_OUT</td>\n",
       "      <td>0.00</td>\n",
       "      <td>0.0</td>\n",
       "      <td>0.0</td>\n",
       "      <td>0.00</td>\n",
       "      <td>0.00</td>\n",
       "      <td>1</td>\n",
       "      <td>0</td>\n",
       "    </tr>\n",
       "    <tr>\n",
       "      <th>2946481</th>\n",
       "      <td>CASH_OUT</td>\n",
       "      <td>40611.22</td>\n",
       "      <td>0.0</td>\n",
       "      <td>0.0</td>\n",
       "      <td>0.00</td>\n",
       "      <td>40611.22</td>\n",
       "      <td>1</td>\n",
       "      <td>0</td>\n",
       "    </tr>\n",
       "    <tr>\n",
       "      <th>2983493</th>\n",
       "      <td>CASH_OUT</td>\n",
       "      <td>94372.61</td>\n",
       "      <td>0.0</td>\n",
       "      <td>0.0</td>\n",
       "      <td>471783.48</td>\n",
       "      <td>566156.08</td>\n",
       "      <td>1</td>\n",
       "      <td>0</td>\n",
       "    </tr>\n",
       "    <tr>\n",
       "      <th>3247298</th>\n",
       "      <td>CASH_OUT</td>\n",
       "      <td>0.00</td>\n",
       "      <td>0.0</td>\n",
       "      <td>0.0</td>\n",
       "      <td>0.00</td>\n",
       "      <td>0.00</td>\n",
       "      <td>1</td>\n",
       "      <td>0</td>\n",
       "    </tr>\n",
       "    <tr>\n",
       "      <th>3760289</th>\n",
       "      <td>CASH_OUT</td>\n",
       "      <td>0.00</td>\n",
       "      <td>0.0</td>\n",
       "      <td>0.0</td>\n",
       "      <td>538547.63</td>\n",
       "      <td>538547.63</td>\n",
       "      <td>1</td>\n",
       "      <td>0</td>\n",
       "    </tr>\n",
       "    <tr>\n",
       "      <th>5563714</th>\n",
       "      <td>CASH_OUT</td>\n",
       "      <td>0.00</td>\n",
       "      <td>0.0</td>\n",
       "      <td>0.0</td>\n",
       "      <td>7970766.57</td>\n",
       "      <td>7970766.57</td>\n",
       "      <td>1</td>\n",
       "      <td>0</td>\n",
       "    </tr>\n",
       "    <tr>\n",
       "      <th>5996408</th>\n",
       "      <td>CASH_OUT</td>\n",
       "      <td>0.00</td>\n",
       "      <td>0.0</td>\n",
       "      <td>0.0</td>\n",
       "      <td>76759.90</td>\n",
       "      <td>76759.90</td>\n",
       "      <td>1</td>\n",
       "      <td>0</td>\n",
       "    </tr>\n",
       "    <tr>\n",
       "      <th>5996410</th>\n",
       "      <td>CASH_OUT</td>\n",
       "      <td>0.00</td>\n",
       "      <td>0.0</td>\n",
       "      <td>0.0</td>\n",
       "      <td>2921531.34</td>\n",
       "      <td>2921531.34</td>\n",
       "      <td>1</td>\n",
       "      <td>0</td>\n",
       "    </tr>\n",
       "    <tr>\n",
       "      <th>6168500</th>\n",
       "      <td>CASH_OUT</td>\n",
       "      <td>0.00</td>\n",
       "      <td>0.0</td>\n",
       "      <td>0.0</td>\n",
       "      <td>230289.66</td>\n",
       "      <td>230289.66</td>\n",
       "      <td>1</td>\n",
       "      <td>0</td>\n",
       "    </tr>\n",
       "    <tr>\n",
       "      <th>6205440</th>\n",
       "      <td>CASH_OUT</td>\n",
       "      <td>0.00</td>\n",
       "      <td>0.0</td>\n",
       "      <td>0.0</td>\n",
       "      <td>1328472.86</td>\n",
       "      <td>1328472.86</td>\n",
       "      <td>1</td>\n",
       "      <td>0</td>\n",
       "    </tr>\n",
       "    <tr>\n",
       "      <th>6266414</th>\n",
       "      <td>CASH_OUT</td>\n",
       "      <td>0.00</td>\n",
       "      <td>0.0</td>\n",
       "      <td>0.0</td>\n",
       "      <td>0.00</td>\n",
       "      <td>0.00</td>\n",
       "      <td>1</td>\n",
       "      <td>0</td>\n",
       "    </tr>\n",
       "    <tr>\n",
       "      <th>6281483</th>\n",
       "      <td>CASH_OUT</td>\n",
       "      <td>0.00</td>\n",
       "      <td>0.0</td>\n",
       "      <td>0.0</td>\n",
       "      <td>0.00</td>\n",
       "      <td>0.00</td>\n",
       "      <td>1</td>\n",
       "      <td>0</td>\n",
       "    </tr>\n",
       "    <tr>\n",
       "      <th>6281485</th>\n",
       "      <td>CASH_OUT</td>\n",
       "      <td>0.00</td>\n",
       "      <td>0.0</td>\n",
       "      <td>0.0</td>\n",
       "      <td>0.00</td>\n",
       "      <td>0.00</td>\n",
       "      <td>1</td>\n",
       "      <td>0</td>\n",
       "    </tr>\n",
       "    <tr>\n",
       "      <th>6296015</th>\n",
       "      <td>CASH_OUT</td>\n",
       "      <td>0.00</td>\n",
       "      <td>0.0</td>\n",
       "      <td>0.0</td>\n",
       "      <td>27938.72</td>\n",
       "      <td>27938.72</td>\n",
       "      <td>1</td>\n",
       "      <td>0</td>\n",
       "    </tr>\n",
       "    <tr>\n",
       "      <th>6351226</th>\n",
       "      <td>CASH_OUT</td>\n",
       "      <td>0.00</td>\n",
       "      <td>0.0</td>\n",
       "      <td>0.0</td>\n",
       "      <td>107777.02</td>\n",
       "      <td>107777.02</td>\n",
       "      <td>1</td>\n",
       "      <td>0</td>\n",
       "    </tr>\n",
       "    <tr>\n",
       "      <th>6362461</th>\n",
       "      <td>CASH_OUT</td>\n",
       "      <td>0.00</td>\n",
       "      <td>0.0</td>\n",
       "      <td>0.0</td>\n",
       "      <td>1008609.53</td>\n",
       "      <td>1008609.53</td>\n",
       "      <td>1</td>\n",
       "      <td>0</td>\n",
       "    </tr>\n",
       "    <tr>\n",
       "      <th>6362463</th>\n",
       "      <td>CASH_OUT</td>\n",
       "      <td>0.00</td>\n",
       "      <td>0.0</td>\n",
       "      <td>0.0</td>\n",
       "      <td>0.00</td>\n",
       "      <td>0.00</td>\n",
       "      <td>1</td>\n",
       "      <td>0</td>\n",
       "    </tr>\n",
       "    <tr>\n",
       "      <th>6362585</th>\n",
       "      <td>CASH_OUT</td>\n",
       "      <td>0.00</td>\n",
       "      <td>0.0</td>\n",
       "      <td>0.0</td>\n",
       "      <td>267522.87</td>\n",
       "      <td>267522.87</td>\n",
       "      <td>1</td>\n",
       "      <td>0</td>\n",
       "    </tr>\n",
       "  </tbody>\n",
       "</table>\n",
       "</div>"
      ],
      "text/plain": [
       "             type      amount  oldbalanceOrg  newbalanceOrig  oldbalanceDest  \\\n",
       "724      CASH_OUT   416001.33            0.0             0.0          102.00   \n",
       "14861    CASH_OUT   181728.11            0.0             0.0        11397.00   \n",
       "25875    TRANSFER  1078013.76            0.0             0.0            0.00   \n",
       "77745    CASH_OUT   277970.88            0.0             0.0            0.00   \n",
       "138559   TRANSFER  1933920.80            0.0             0.0      1283762.85   \n",
       "169998   CASH_OUT   149668.66            0.0             0.0        44170.11   \n",
       "178668   CASH_OUT   222048.71            0.0             0.0         2979.00   \n",
       "200845   CASH_OUT   454859.39            0.0             0.0            0.00   \n",
       "291459   CASH_OUT    95428.32            0.0             0.0            0.00   \n",
       "296686   CASH_OUT    39713.28            0.0             0.0      1274866.51   \n",
       "424928   CASH_OUT   508782.20            0.0             0.0      1082007.65   \n",
       "479636   CASH_OUT   122101.57            0.0             0.0            0.00   \n",
       "543928   CASH_OUT    23292.30            0.0             0.0       392364.62   \n",
       "643671   CASH_OUT   112280.88            0.0             0.0        40512.49   \n",
       "694551   CASH_OUT   234377.29            0.0             0.0        34937.86   \n",
       "732891   CASH_OUT   112486.46            0.0             0.0       257274.47   \n",
       "750755   CASH_OUT   577418.98            0.0             0.0            0.00   \n",
       "764187   CASH_OUT   407005.78            0.0             0.0            0.00   \n",
       "920521   TRANSFER  1395850.55            0.0             0.0       260806.21   \n",
       "1021951  TRANSFER   202978.65            0.0             0.0      2122336.55   \n",
       "2058343  CASH_OUT   332729.54            0.0             0.0       613712.35   \n",
       "2242699  CASH_OUT   229909.57            0.0             0.0            0.00   \n",
       "2622102  CASH_OUT   291519.84            0.0             0.0            0.00   \n",
       "2736447  CASH_OUT        0.00            0.0             0.0            0.00   \n",
       "2946481  CASH_OUT    40611.22            0.0             0.0            0.00   \n",
       "2983493  CASH_OUT    94372.61            0.0             0.0       471783.48   \n",
       "3247298  CASH_OUT        0.00            0.0             0.0            0.00   \n",
       "3760289  CASH_OUT        0.00            0.0             0.0       538547.63   \n",
       "5563714  CASH_OUT        0.00            0.0             0.0      7970766.57   \n",
       "5996408  CASH_OUT        0.00            0.0             0.0        76759.90   \n",
       "5996410  CASH_OUT        0.00            0.0             0.0      2921531.34   \n",
       "6168500  CASH_OUT        0.00            0.0             0.0       230289.66   \n",
       "6205440  CASH_OUT        0.00            0.0             0.0      1328472.86   \n",
       "6266414  CASH_OUT        0.00            0.0             0.0            0.00   \n",
       "6281483  CASH_OUT        0.00            0.0             0.0            0.00   \n",
       "6281485  CASH_OUT        0.00            0.0             0.0            0.00   \n",
       "6296015  CASH_OUT        0.00            0.0             0.0        27938.72   \n",
       "6351226  CASH_OUT        0.00            0.0             0.0       107777.02   \n",
       "6362461  CASH_OUT        0.00            0.0             0.0      1008609.53   \n",
       "6362463  CASH_OUT        0.00            0.0             0.0            0.00   \n",
       "6362585  CASH_OUT        0.00            0.0             0.0       267522.87   \n",
       "\n",
       "         newbalanceDest  isFraud  isFlaggedFraud  \n",
       "724          9291619.62        1               0  \n",
       "14861         184477.77        1               0  \n",
       "25875         970749.68        1               0  \n",
       "77745         277970.88        1               0  \n",
       "138559       3217683.65        1               0  \n",
       "169998        193838.76        1               0  \n",
       "178668        225027.71        1               0  \n",
       "200845        454859.39        1               0  \n",
       "291459         95428.32        1               0  \n",
       "296686       1314579.79        1               0  \n",
       "424928       1590789.85        1               0  \n",
       "479636        639940.20        1               0  \n",
       "543928        415656.92        1               0  \n",
       "643671        152793.36        1               0  \n",
       "694551        269315.15        1               0  \n",
       "732891        369760.93        1               0  \n",
       "750755        577418.98        1               0  \n",
       "764187        407005.78        1               0  \n",
       "920521       1656656.77        1               0  \n",
       "1021951      2325315.19        1               0  \n",
       "2058343       946441.90        1               0  \n",
       "2242699       229909.57        1               0  \n",
       "2622102       291519.84        1               0  \n",
       "2736447            0.00        1               0  \n",
       "2946481        40611.22        1               0  \n",
       "2983493       566156.08        1               0  \n",
       "3247298            0.00        1               0  \n",
       "3760289       538547.63        1               0  \n",
       "5563714      7970766.57        1               0  \n",
       "5996408        76759.90        1               0  \n",
       "5996410      2921531.34        1               0  \n",
       "6168500       230289.66        1               0  \n",
       "6205440      1328472.86        1               0  \n",
       "6266414            0.00        1               0  \n",
       "6281483            0.00        1               0  \n",
       "6281485            0.00        1               0  \n",
       "6296015        27938.72        1               0  \n",
       "6351226       107777.02        1               0  \n",
       "6362461      1008609.53        1               0  \n",
       "6362463            0.00        1               0  \n",
       "6362585       267522.87        1               0  "
      ]
     },
     "execution_count": 38,
     "metadata": {},
     "output_type": "execute_result"
    }
   ],
   "source": [
    "new_data[(new_data['oldbalanceOrg']==0.0) & (new_data['isFraud']==1)]"
   ]
  },
  {
   "cell_type": "code",
   "execution_count": 39,
   "id": "5e5faa2e-636b-4703-bc60-32081d2eccc8",
   "metadata": {},
   "outputs": [],
   "source": [
    "mask = (new_data['oldbalanceOrg']==0.0) & (new_data['isFraud']==1)\n",
    "new_data= new_data.drop(new_data[mask].index, axis=0)  "
   ]
  },
  {
   "cell_type": "code",
   "execution_count": 40,
   "id": "18581fb2-0cd2-4b27-9204-e5f9549ff1e5",
   "metadata": {},
   "outputs": [],
   "source": [
    "temp = new_data['isFraud'] == 1\n",
    "filtered_indices = new_data[temp]['oldbalanceOrg'] > (3* new_data['oldbalanceOrg'].std() +new_data['oldbalanceOrg'].mean())\n",
    "\n",
    "result_data = new_data.loc[new_data[temp][filtered_indices].index]"
   ]
  },
  {
   "cell_type": "code",
   "execution_count": 41,
   "id": "3e41cca3-f0ff-4149-9aae-d0460bc45d03",
   "metadata": {},
   "outputs": [
    {
     "data": {
      "text/plain": [
       "isFraud\n",
       "1    3097\n",
       "Name: count, dtype: int64"
      ]
     },
     "execution_count": 41,
     "metadata": {},
     "output_type": "execute_result"
    }
   ],
   "source": [
    "result_data['isFraud'].value_counts()"
   ]
  },
  {
   "cell_type": "code",
   "execution_count": 42,
   "id": "9653ad11-218a-4ec4-9d6b-2a9a1f919803",
   "metadata": {},
   "outputs": [
    {
     "data": {
      "text/plain": [
       "<Axes: xlabel='isFraud', ylabel='oldbalanceOrg'>"
      ]
     },
     "execution_count": 42,
     "metadata": {},
     "output_type": "execute_result"
    },
    {
     "data": {
      "image/png": "[encoded data removed]",
      "text/plain": [
       "<Figure size 640x480 with 1 Axes>"
      ]
     },
     "metadata": {},
     "output_type": "display_data"
    }
   ],
   "source": [
    "sns.boxplot(x='isFraud', y='oldbalanceOrg', data=new_data)"
   ]
  },
  {
   "cell_type": "code",
   "execution_count": 43,
   "id": "5b028b13-237d-4dd7-a6fa-644c979044c5",
   "metadata": {},
   "outputs": [
    {
     "data": {
      "text/plain": [
       "43818855.3"
      ]
     },
     "execution_count": 43,
     "metadata": {},
     "output_type": "execute_result"
    }
   ],
   "source": [
    "new_data[new_data['isFraud']==0]['oldbalanceOrg'].max()"
   ]
  },
  {
   "cell_type": "code",
   "execution_count": 44,
   "id": "c5ac1a6a-5f67-4cdf-9aab-c0cc5e794b99",
   "metadata": {},
   "outputs": [
    {
     "data": {
      "text/plain": [
       "59585040.37"
      ]
     },
     "execution_count": 44,
     "metadata": {},
     "output_type": "execute_result"
    }
   ],
   "source": [
    "new_data[new_data['isFraud']==1]['oldbalanceOrg'].max()"
   ]
  },
  {
   "cell_type": "code",
   "execution_count": 45,
   "id": "67e59561-c2f0-4d37-8ad9-7dfd31b2d9f0",
   "metadata": {},
   "outputs": [],
   "source": [
    "temp= new_data['isFraud']==1\n",
    "filtered_indices = new_data[temp]['oldbalanceOrg'] > (new_data[new_data['isFraud']==0]['oldbalanceOrg'].max())\n",
    "s =new_data.loc[new_data[temp][filtered_indices].index]"
   ]
  },
  {
   "cell_type": "code",
   "execution_count": 46,
   "id": "d79b7789-2164-4cef-8350-00583849e29e",
   "metadata": {},
   "outputs": [
    {
     "data": {
      "text/html": [
       "<div>\n",
       "<style scoped>\n",
       "    .dataframe tbody tr th:only-of-type {\n",
       "        vertical-align: middle;\n",
       "    }\n",
       "\n",
       "    .dataframe tbody tr th {\n",
       "        vertical-align: top;\n",
       "    }\n",
       "\n",
       "    .dataframe thead th {\n",
       "        text-align: right;\n",
       "    }\n",
       "</style>\n",
       "<table border=\"1\" class=\"dataframe\">\n",
       "  <thead>\n",
       "    <tr style=\"text-align: right;\">\n",
       "      <th></th>\n",
       "      <th>type</th>\n",
       "      <th>amount</th>\n",
       "      <th>oldbalanceOrg</th>\n",
       "      <th>newbalanceOrig</th>\n",
       "      <th>oldbalanceDest</th>\n",
       "      <th>newbalanceDest</th>\n",
       "      <th>isFraud</th>\n",
       "      <th>isFlaggedFraud</th>\n",
       "    </tr>\n",
       "  </thead>\n",
       "  <tbody>\n",
       "    <tr>\n",
       "      <th>5563705</th>\n",
       "      <td>TRANSFER</td>\n",
       "      <td>10000000.0</td>\n",
       "      <td>44892193.09</td>\n",
       "      <td>34892193.09</td>\n",
       "      <td>0.0</td>\n",
       "      <td>0.0</td>\n",
       "      <td>1</td>\n",
       "      <td>0</td>\n",
       "    </tr>\n",
       "    <tr>\n",
       "      <th>5996399</th>\n",
       "      <td>TRANSFER</td>\n",
       "      <td>10000000.0</td>\n",
       "      <td>59585040.37</td>\n",
       "      <td>49585040.37</td>\n",
       "      <td>0.0</td>\n",
       "      <td>0.0</td>\n",
       "      <td>1</td>\n",
       "      <td>0</td>\n",
       "    </tr>\n",
       "    <tr>\n",
       "      <th>5996401</th>\n",
       "      <td>TRANSFER</td>\n",
       "      <td>10000000.0</td>\n",
       "      <td>49585040.37</td>\n",
       "      <td>39585040.37</td>\n",
       "      <td>0.0</td>\n",
       "      <td>0.0</td>\n",
       "      <td>1</td>\n",
       "      <td>0</td>\n",
       "    </tr>\n",
       "    <tr>\n",
       "      <th>6281474</th>\n",
       "      <td>TRANSFER</td>\n",
       "      <td>10000000.0</td>\n",
       "      <td>50399045.08</td>\n",
       "      <td>40399045.08</td>\n",
       "      <td>0.0</td>\n",
       "      <td>0.0</td>\n",
       "      <td>1</td>\n",
       "      <td>0</td>\n",
       "    </tr>\n",
       "    <tr>\n",
       "      <th>6362452</th>\n",
       "      <td>TRANSFER</td>\n",
       "      <td>10000000.0</td>\n",
       "      <td>57316255.05</td>\n",
       "      <td>47316255.05</td>\n",
       "      <td>0.0</td>\n",
       "      <td>0.0</td>\n",
       "      <td>1</td>\n",
       "      <td>0</td>\n",
       "    </tr>\n",
       "    <tr>\n",
       "      <th>6362454</th>\n",
       "      <td>TRANSFER</td>\n",
       "      <td>10000000.0</td>\n",
       "      <td>47316255.05</td>\n",
       "      <td>37316255.05</td>\n",
       "      <td>0.0</td>\n",
       "      <td>0.0</td>\n",
       "      <td>1</td>\n",
       "      <td>0</td>\n",
       "    </tr>\n",
       "    <tr>\n",
       "      <th>6362576</th>\n",
       "      <td>TRANSFER</td>\n",
       "      <td>10000000.0</td>\n",
       "      <td>45674547.89</td>\n",
       "      <td>35674547.89</td>\n",
       "      <td>0.0</td>\n",
       "      <td>0.0</td>\n",
       "      <td>1</td>\n",
       "      <td>0</td>\n",
       "    </tr>\n",
       "  </tbody>\n",
       "</table>\n",
       "</div>"
      ],
      "text/plain": [
       "             type      amount  oldbalanceOrg  newbalanceOrig  oldbalanceDest  \\\n",
       "5563705  TRANSFER  10000000.0    44892193.09     34892193.09             0.0   \n",
       "5996399  TRANSFER  10000000.0    59585040.37     49585040.37             0.0   \n",
       "5996401  TRANSFER  10000000.0    49585040.37     39585040.37             0.0   \n",
       "6281474  TRANSFER  10000000.0    50399045.08     40399045.08             0.0   \n",
       "6362452  TRANSFER  10000000.0    57316255.05     47316255.05             0.0   \n",
       "6362454  TRANSFER  10000000.0    47316255.05     37316255.05             0.0   \n",
       "6362576  TRANSFER  10000000.0    45674547.89     35674547.89             0.0   \n",
       "\n",
       "         newbalanceDest  isFraud  isFlaggedFraud  \n",
       "5563705             0.0        1               0  \n",
       "5996399             0.0        1               0  \n",
       "5996401             0.0        1               0  \n",
       "6281474             0.0        1               0  \n",
       "6362452             0.0        1               0  \n",
       "6362454             0.0        1               0  \n",
       "6362576             0.0        1               0  "
      ]
     },
     "execution_count": 46,
     "metadata": {},
     "output_type": "execute_result"
    }
   ],
   "source": [
    "s"
   ]
  },
  {
   "cell_type": "code",
   "execution_count": 47,
   "id": "ddc0c3e2-8356-4a7a-86b1-db2878506926",
   "metadata": {},
   "outputs": [
    {
     "data": {
      "text/plain": [
       "<Axes: xlabel='isFraud', ylabel='oldbalanceOrg'>"
      ]
     },
     "execution_count": 47,
     "metadata": {},
     "output_type": "execute_result"
    },
    {
     "data": {
      "image/png": "[encoded data removed]",
      "text/plain": [
       "<Figure size 640x480 with 1 Axes>"
      ]
     },
     "metadata": {},
     "output_type": "display_data"
    }
   ],
   "source": [
    "sns.boxplot(x='isFraud', y='oldbalanceOrg', data=new_data, hue='type')"
   ]
  },
  {
   "cell_type": "code",
   "execution_count": 48,
   "id": "e71b2107-3f7d-4d5d-8988-1f96296740f7",
   "metadata": {},
   "outputs": [
    {
     "data": {
      "text/plain": [
       "isFraud\n",
       "0    12508\n",
       "1     4085\n",
       "Name: count, dtype: int64"
      ]
     },
     "execution_count": 48,
     "metadata": {},
     "output_type": "execute_result"
    }
   ],
   "source": [
    "new_data[new_data['newbalanceDest']==0.0]['isFraud'].value_counts()"
   ]
  },
  {
   "cell_type": "code",
   "execution_count": 49,
   "id": "39ebc34f-a41e-4bc4-b318-75570e5c01c8",
   "metadata": {},
   "outputs": [
    {
     "data": {
      "text/plain": [
       "type\n",
       "TRANSFER    4068\n",
       "CASH_OUT      17\n",
       "Name: count, dtype: int64"
      ]
     },
     "execution_count": 49,
     "metadata": {},
     "output_type": "execute_result"
    }
   ],
   "source": [
    "new_data[(new_data['newbalanceDest']==0.0) & (new_data['isFraud']==1)]['type'].value_counts()"
   ]
  },
  {
   "cell_type": "code",
   "execution_count": 50,
   "id": "da5dc4f5-9a54-4362-9504-94b9519847b7",
   "metadata": {},
   "outputs": [
    {
     "data": {
      "text/plain": [
       "type\n",
       "CASH_OUT    4062\n",
       "TRANSFER      25\n",
       "Name: count, dtype: int64"
      ]
     },
     "execution_count": 50,
     "metadata": {},
     "output_type": "execute_result"
    }
   ],
   "source": [
    "new_data[(new_data['newbalanceDest']!=0.0) & (new_data['isFraud']==1)]['type'].value_counts()"
   ]
  },
  {
   "cell_type": "code",
   "execution_count": 51,
   "id": "da0353d1-fb3d-4519-83e9-432f548f21e0",
   "metadata": {},
   "outputs": [
    {
     "data": {
      "text/plain": [
       "<Axes: xlabel='type', ylabel='count'>"
      ]
     },
     "execution_count": 51,
     "metadata": {},
     "output_type": "execute_result"
    },
    {
     "data": {
      "image/png": "[encoded data removed]",
      "text/plain": [
       "<Figure size 640x480 with 1 Axes>"
      ]
     },
     "metadata": {},
     "output_type": "display_data"
    }
   ],
   "source": [
    "new_plot= new_data[new_data['isFraud']==1]\n",
    "sns.countplot(x='type', data=new_plot)"
   ]
  },
  {
   "cell_type": "code",
   "execution_count": 52,
   "id": "a03d0726-3fc2-4c67-a5e4-04e673b38f1a",
   "metadata": {},
   "outputs": [
    {
     "data": {
      "text/plain": [
       "<Axes: xlabel='isFraud', ylabel='newbalanceDest'>"
      ]
     },
     "execution_count": 52,
     "metadata": {},
     "output_type": "execute_result"
    },
    {
     "data": {
      "image/png": "[encoded data removed]",
      "text/plain": [
       "<Figure size 640x480 with 1 Axes>"
      ]
     },
     "metadata": {},
     "output_type": "display_data"
    }
   ],
   "source": [
    "sns.boxplot(x='isFraud', y='newbalanceDest', data=new_data,hue='type')"
   ]
  },
  {
   "cell_type": "code",
   "execution_count": 53,
   "id": "7d3a4f47-df39-4a05-9757-a9485e122137",
   "metadata": {},
   "outputs": [
    {
     "data": {
      "text/plain": [
       "<Axes: xlabel='type', ylabel='amount'>"
      ]
     },
     "execution_count": 53,
     "metadata": {},
     "output_type": "execute_result"
    },
    {
     "data": {
      "image/png": "[encoded data removed]",
      "text/plain": [
       "<Figure size 640x480 with 1 Axes>"
      ]
     },
     "metadata": {},
     "output_type": "display_data"
    }
   ],
   "source": [
    "sns.boxplot(x='type', y='amount', data=new_data, hue='isFraud')"
   ]
  },
  {
   "cell_type": "code",
   "execution_count": 54,
   "id": "705e59d4-1005-494b-a5b4-3e3cb81197be",
   "metadata": {},
   "outputs": [
    {
     "data": {
      "text/plain": [
       "type              528812\n",
       "amount            528812\n",
       "oldbalanceOrg     528812\n",
       "newbalanceOrig    528812\n",
       "oldbalanceDest    528812\n",
       "newbalanceDest    528812\n",
       "isFraud           528812\n",
       "isFlaggedFraud    528812\n",
       "dtype: int64"
      ]
     },
     "execution_count": 54,
     "metadata": {},
     "output_type": "execute_result"
    }
   ],
   "source": [
    "new_data[(new_data['isFraud']==0) & (new_data['type']=='TRANSFER')].count()"
   ]
  },
  {
   "cell_type": "code",
   "execution_count": 55,
   "id": "bcff0076-9370-4a63-81ae-af6b7e771376",
   "metadata": {},
   "outputs": [
    {
     "data": {
      "text/plain": [
       "count    5.288120e+05\n",
       "mean     9.062290e+05\n",
       "std      1.874155e+06\n",
       "min      2.600000e+00\n",
       "25%      2.165708e+05\n",
       "50%      4.865219e+05\n",
       "75%      9.727336e+05\n",
       "max      9.244552e+07\n",
       "Name: amount, dtype: float64"
      ]
     },
     "execution_count": 55,
     "metadata": {},
     "output_type": "execute_result"
    }
   ],
   "source": [
    "new_data[(new_data['isFraud']==0) & (new_data['type']=='TRANSFER')]['amount'].describe()"
   ]
  },
  {
   "cell_type": "code",
   "execution_count": 56,
   "id": "85efd854-1ab7-4a3b-b860-669f6b21214b",
   "metadata": {},
   "outputs": [
    {
     "data": {
      "text/plain": [
       "10000000.0"
      ]
     },
     "execution_count": 56,
     "metadata": {},
     "output_type": "execute_result"
    }
   ],
   "source": [
    "new_data[(new_data['isFraud']==1) & (new_data['type']=='TRANSFER')]['amount'].max()"
   ]
  },
  {
   "cell_type": "code",
   "execution_count": 57,
   "id": "30cdff16-b913-4e66-8ed4-34271309a31d",
   "metadata": {},
   "outputs": [
    {
     "data": {
      "text/plain": [
       "10000000.0"
      ]
     },
     "execution_count": 57,
     "metadata": {},
     "output_type": "execute_result"
    }
   ],
   "source": [
    "new_data[(new_data['isFraud']==1) & (new_data['type']=='CASH_OUT')]['amount'].max()"
   ]
  },
  {
   "cell_type": "code",
   "execution_count": 58,
   "id": "336d280f-3056-4c45-a2c7-06bc7675f798",
   "metadata": {},
   "outputs": [],
   "source": [
    "amount_notFraud_std = new_data[(new_data['isFraud']==0) & (new_data['type']=='TRANSFER')]['amount'].std()\n",
    "amount_notFraud_mean = new_data[(new_data['isFraud']==0) & (new_data['type']=='TRANSFER')]['amount'].mean()"
   ]
  },
  {
   "cell_type": "code",
   "execution_count": 59,
   "id": "a7926075-5c8d-4566-9953-3a96cf506db5",
   "metadata": {},
   "outputs": [
    {
     "data": {
      "text/plain": [
       "6528694.784113009"
      ]
     },
     "execution_count": 59,
     "metadata": {},
     "output_type": "execute_result"
    }
   ],
   "source": [
    "values_remove=3* amount_notFraud_std + amount_notFraud_mean\n",
    "values_remove"
   ]
  },
  {
   "cell_type": "code",
   "execution_count": 60,
   "id": "5b0a8442-7482-4529-8f1c-065dd6f52e5c",
   "metadata": {},
   "outputs": [
    {
     "data": {
      "text/plain": [
       "type              8708\n",
       "amount            8708\n",
       "oldbalanceOrg     8708\n",
       "newbalanceOrig    8708\n",
       "oldbalanceDest    8708\n",
       "newbalanceDest    8708\n",
       "isFraud           8708\n",
       "isFlaggedFraud    8708\n",
       "dtype: int64"
      ]
     },
     "execution_count": 60,
     "metadata": {},
     "output_type": "execute_result"
    }
   ],
   "source": [
    "temp_check = new_data['amount'] > values_remove\n",
    "new_data[temp_check].count()"
   ]
  },
  {
   "cell_type": "code",
   "execution_count": 61,
   "id": "69af5a2d-760b-48af-af57-863499da3512",
   "metadata": {},
   "outputs": [
    {
     "data": {
      "text/plain": [
       "type              2443\n",
       "amount            2443\n",
       "oldbalanceOrg     2443\n",
       "newbalanceOrig    2443\n",
       "oldbalanceDest    2443\n",
       "newbalanceDest    2443\n",
       "isFraud           2443\n",
       "isFlaggedFraud    2443\n",
       "dtype: int64"
      ]
     },
     "execution_count": 61,
     "metadata": {},
     "output_type": "execute_result"
    }
   ],
   "source": [
    "temp_check = new_data['amount'] > 10000000\n",
    "new_data[temp_check].count()"
   ]
  },
  {
   "cell_type": "code",
   "execution_count": 62,
   "id": "cdbebbc5-9a2f-4ab7-be83-6dec92acb187",
   "metadata": {},
   "outputs": [],
   "source": [
    "temp= new_data['isFraud']==0\n",
    "filtered =(new_data['isFraud']==0) & (new_data['type']=='TRANSFER') & (new_data['amount']>10000000)\n",
    "new_data = new_data.drop(new_data[filtered].index)"
   ]
  },
  {
   "cell_type": "code",
   "execution_count": 63,
   "id": "c5f0dfa8-9c06-493f-8450-0527f2ab1762",
   "metadata": {},
   "outputs": [
    {
     "data": {
      "text/plain": [
       "<Axes: xlabel='type', ylabel='amount'>"
      ]
     },
     "execution_count": 63,
     "metadata": {},
     "output_type": "execute_result"
    },
    {
     "data": {
      "image/png": "[encoded data removed]",
      "text/plain": [
       "<Figure size 640x480 with 1 Axes>"
      ]
     },
     "metadata": {},
     "output_type": "display_data"
    }
   ],
   "source": [
    "sns.boxplot(x='type', y='amount', data=new_data, hue='isFraud')"
   ]
  },
  {
   "cell_type": "code",
   "execution_count": 64,
   "id": "e43802b0-3fd5-49c0-8b20-dbf5d7f2343b",
   "metadata": {},
   "outputs": [
    {
     "data": {
      "text/plain": [
       "<Axes: xlabel='isFraud', ylabel='oldbalanceOrg'>"
      ]
     },
     "execution_count": 64,
     "metadata": {},
     "output_type": "execute_result"
    },
    {
     "data": {
      "image/png": "[encoded data removed]",
      "text/plain": [
       "<Figure size 640x480 with 1 Axes>"
      ]
     },
     "metadata": {},
     "output_type": "display_data"
    }
   ],
   "source": [
    "sns.boxplot(x='isFraud', y='oldbalanceOrg', data=new_data)"
   ]
  },
  {
   "cell_type": "code",
   "execution_count": 65,
   "id": "665552d0-506a-4477-a9cc-37efcc677c63",
   "metadata": {},
   "outputs": [
    {
     "data": {
      "text/plain": [
       "<Axes: xlabel='isFraud', ylabel='newbalanceOrig'>"
      ]
     },
     "execution_count": 65,
     "metadata": {},
     "output_type": "execute_result"
    },
    {
     "data": {
      "image/png": "[encoded data removed]",
      "text/plain": [
       "<Figure size 640x480 with 1 Axes>"
      ]
     },
     "metadata": {},
     "output_type": "display_data"
    }
   ],
   "source": [
    "sns.boxplot(x='isFraud', y='newbalanceOrig', data=new_data)"
   ]
  },
  {
   "cell_type": "code",
   "execution_count": 66,
   "id": "8eae9e76-223a-4b88-abfe-752a42a0a178",
   "metadata": {},
   "outputs": [
    {
     "data": {
      "text/plain": [
       "<Axes: xlabel='isFraud', ylabel='oldbalanceDest'>"
      ]
     },
     "execution_count": 66,
     "metadata": {},
     "output_type": "execute_result"
    },
    {
     "data": {
      "image/png": "[encoded data removed]",
      "text/plain": [
       "<Figure size 640x480 with 1 Axes>"
      ]
     },
     "metadata": {},
     "output_type": "display_data"
    }
   ],
   "source": [
    "sns.boxplot(x='isFraud', y='oldbalanceDest', data=new_data)"
   ]
  },
  {
   "cell_type": "code",
   "execution_count": 67,
   "id": "e93cf823-cb5e-4ae3-9db3-a6474aabddd0",
   "metadata": {},
   "outputs": [],
   "source": [
    "max_old_dest_fraud= new_data[new_data['isFraud']==1]['oldbalanceDest'].max()"
   ]
  },
  {
   "cell_type": "code",
   "execution_count": 68,
   "id": "06aa8ce1-22c0-4afb-b4b4-a80c2f34e785",
   "metadata": {},
   "outputs": [
    {
     "data": {
      "text/plain": [
       "<Axes: xlabel='isFraud', ylabel='oldbalanceDest'>"
      ]
     },
     "execution_count": 68,
     "metadata": {},
     "output_type": "execute_result"
    },
    {
     "data": {
      "image/png": "[encoded data removed]",
      "text/plain": [
       "<Figure size 640x480 with 1 Axes>"
      ]
     },
     "metadata": {},
     "output_type": "display_data"
    }
   ],
   "source": [
    "sns.boxplot(x='isFraud', y='oldbalanceDest', data=new_data)"
   ]
  },
  {
   "cell_type": "code",
   "execution_count": 69,
   "id": "be568a68-4625-4571-9fbd-7fa4fcb386b3",
   "metadata": {},
   "outputs": [
    {
     "data": {
      "text/plain": [
       "type              8\n",
       "amount            8\n",
       "oldbalanceOrg     8\n",
       "newbalanceOrig    8\n",
       "oldbalanceDest    8\n",
       "newbalanceDest    8\n",
       "isFraud           8\n",
       "isFlaggedFraud    8\n",
       "dtype: int64"
      ]
     },
     "execution_count": 69,
     "metadata": {},
     "output_type": "execute_result"
    }
   ],
   "source": [
    "k_mean = new_data[new_data['isFraud']==1]['oldbalanceDest'].mean()\n",
    "k_std = new_data[new_data['isFraud']==1]['oldbalanceDest'].std()\n",
    "k_max = new_data[new_data['isFraud']==1]['oldbalanceDest'].max()\n",
    "indices = (new_data['isFraud']==1) & (new_data['oldbalanceDest'] > (8*k_std+k_mean))\n",
    "new_data[indices].count()"
   ]
  },
  {
   "cell_type": "code",
   "execution_count": 70,
   "id": "647f2cb7-858c-4cff-8101-5a557ec1d11a",
   "metadata": {},
   "outputs": [
    {
     "data": {
      "text/plain": [
       "type              2767925\n",
       "amount            2767925\n",
       "oldbalanceOrg     2767925\n",
       "newbalanceOrig    2767925\n",
       "oldbalanceDest    2767925\n",
       "newbalanceDest    2767925\n",
       "isFraud           2767925\n",
       "isFlaggedFraud    2767925\n",
       "dtype: int64"
      ]
     },
     "execution_count": 70,
     "metadata": {},
     "output_type": "execute_result"
    }
   ],
   "source": [
    "new_data.count()"
   ]
  },
  {
   "cell_type": "code",
   "execution_count": 71,
   "id": "dd42a794-557c-448b-b705-99566b088c24",
   "metadata": {},
   "outputs": [
    {
     "data": {
      "text/html": [
       "<div>\n",
       "<style scoped>\n",
       "    .dataframe tbody tr th:only-of-type {\n",
       "        vertical-align: middle;\n",
       "    }\n",
       "\n",
       "    .dataframe tbody tr th {\n",
       "        vertical-align: top;\n",
       "    }\n",
       "\n",
       "    .dataframe thead th {\n",
       "        text-align: right;\n",
       "    }\n",
       "</style>\n",
       "<table border=\"1\" class=\"dataframe\">\n",
       "  <thead>\n",
       "    <tr style=\"text-align: right;\">\n",
       "      <th></th>\n",
       "      <th>type</th>\n",
       "      <th>amount</th>\n",
       "      <th>oldbalanceOrg</th>\n",
       "      <th>newbalanceOrig</th>\n",
       "      <th>oldbalanceDest</th>\n",
       "      <th>newbalanceDest</th>\n",
       "      <th>isFraud</th>\n",
       "      <th>isFlaggedFraud</th>\n",
       "    </tr>\n",
       "  </thead>\n",
       "  <tbody>\n",
       "    <tr>\n",
       "      <th>2</th>\n",
       "      <td>TRANSFER</td>\n",
       "      <td>181.00</td>\n",
       "      <td>181.0</td>\n",
       "      <td>0.0</td>\n",
       "      <td>0.0</td>\n",
       "      <td>0.00</td>\n",
       "      <td>1</td>\n",
       "      <td>0</td>\n",
       "    </tr>\n",
       "    <tr>\n",
       "      <th>3</th>\n",
       "      <td>CASH_OUT</td>\n",
       "      <td>181.00</td>\n",
       "      <td>181.0</td>\n",
       "      <td>0.0</td>\n",
       "      <td>21182.0</td>\n",
       "      <td>0.00</td>\n",
       "      <td>1</td>\n",
       "      <td>0</td>\n",
       "    </tr>\n",
       "    <tr>\n",
       "      <th>15</th>\n",
       "      <td>CASH_OUT</td>\n",
       "      <td>229133.94</td>\n",
       "      <td>15325.0</td>\n",
       "      <td>0.0</td>\n",
       "      <td>5083.0</td>\n",
       "      <td>51513.44</td>\n",
       "      <td>0</td>\n",
       "      <td>0</td>\n",
       "    </tr>\n",
       "    <tr>\n",
       "      <th>19</th>\n",
       "      <td>TRANSFER</td>\n",
       "      <td>215310.30</td>\n",
       "      <td>705.0</td>\n",
       "      <td>0.0</td>\n",
       "      <td>22425.0</td>\n",
       "      <td>0.00</td>\n",
       "      <td>0</td>\n",
       "      <td>0</td>\n",
       "    </tr>\n",
       "    <tr>\n",
       "      <th>24</th>\n",
       "      <td>TRANSFER</td>\n",
       "      <td>311685.89</td>\n",
       "      <td>10835.0</td>\n",
       "      <td>0.0</td>\n",
       "      <td>6267.0</td>\n",
       "      <td>2719172.89</td>\n",
       "      <td>0</td>\n",
       "      <td>0</td>\n",
       "    </tr>\n",
       "  </tbody>\n",
       "</table>\n",
       "</div>"
      ],
      "text/plain": [
       "        type     amount  oldbalanceOrg  newbalanceOrig  oldbalanceDest  \\\n",
       "2   TRANSFER     181.00          181.0             0.0             0.0   \n",
       "3   CASH_OUT     181.00          181.0             0.0         21182.0   \n",
       "15  CASH_OUT  229133.94        15325.0             0.0          5083.0   \n",
       "19  TRANSFER  215310.30          705.0             0.0         22425.0   \n",
       "24  TRANSFER  311685.89        10835.0             0.0          6267.0   \n",
       "\n",
       "    newbalanceDest  isFraud  isFlaggedFraud  \n",
       "2             0.00        1               0  \n",
       "3             0.00        1               0  \n",
       "15        51513.44        0               0  \n",
       "19            0.00        0               0  \n",
       "24      2719172.89        0               0  "
      ]
     },
     "execution_count": 71,
     "metadata": {},
     "output_type": "execute_result"
    }
   ],
   "source": [
    "new_data.head()"
   ]
  },
  {
   "cell_type": "code",
   "execution_count": 72,
   "id": "0d36f046-0323-4924-9f62-e1216b46e535",
   "metadata": {},
   "outputs": [],
   "source": [
    "new_data = pd.get_dummies(data=new_data, columns=['type'], drop_first=True)"
   ]
  },
  {
   "cell_type": "code",
   "execution_count": 73,
   "id": "c2a9b695-758c-42a1-889b-a762e3e4f17e",
   "metadata": {},
   "outputs": [
    {
     "data": {
      "text/html": [
       "<div>\n",
       "<style scoped>\n",
       "    .dataframe tbody tr th:only-of-type {\n",
       "        vertical-align: middle;\n",
       "    }\n",
       "\n",
       "    .dataframe tbody tr th {\n",
       "        vertical-align: top;\n",
       "    }\n",
       "\n",
       "    .dataframe thead th {\n",
       "        text-align: right;\n",
       "    }\n",
       "</style>\n",
       "<table border=\"1\" class=\"dataframe\">\n",
       "  <thead>\n",
       "    <tr style=\"text-align: right;\">\n",
       "      <th></th>\n",
       "      <th>amount</th>\n",
       "      <th>oldbalanceOrg</th>\n",
       "      <th>newbalanceOrig</th>\n",
       "      <th>oldbalanceDest</th>\n",
       "      <th>newbalanceDest</th>\n",
       "      <th>isFraud</th>\n",
       "      <th>isFlaggedFraud</th>\n",
       "      <th>type_TRANSFER</th>\n",
       "    </tr>\n",
       "  </thead>\n",
       "  <tbody>\n",
       "    <tr>\n",
       "      <th>2</th>\n",
       "      <td>181.00</td>\n",
       "      <td>181.0</td>\n",
       "      <td>0.0</td>\n",
       "      <td>0.0</td>\n",
       "      <td>0.00</td>\n",
       "      <td>1</td>\n",
       "      <td>0</td>\n",
       "      <td>True</td>\n",
       "    </tr>\n",
       "    <tr>\n",
       "      <th>3</th>\n",
       "      <td>181.00</td>\n",
       "      <td>181.0</td>\n",
       "      <td>0.0</td>\n",
       "      <td>21182.0</td>\n",
       "      <td>0.00</td>\n",
       "      <td>1</td>\n",
       "      <td>0</td>\n",
       "      <td>False</td>\n",
       "    </tr>\n",
       "    <tr>\n",
       "      <th>15</th>\n",
       "      <td>229133.94</td>\n",
       "      <td>15325.0</td>\n",
       "      <td>0.0</td>\n",
       "      <td>5083.0</td>\n",
       "      <td>51513.44</td>\n",
       "      <td>0</td>\n",
       "      <td>0</td>\n",
       "      <td>False</td>\n",
       "    </tr>\n",
       "    <tr>\n",
       "      <th>19</th>\n",
       "      <td>215310.30</td>\n",
       "      <td>705.0</td>\n",
       "      <td>0.0</td>\n",
       "      <td>22425.0</td>\n",
       "      <td>0.00</td>\n",
       "      <td>0</td>\n",
       "      <td>0</td>\n",
       "      <td>True</td>\n",
       "    </tr>\n",
       "    <tr>\n",
       "      <th>24</th>\n",
       "      <td>311685.89</td>\n",
       "      <td>10835.0</td>\n",
       "      <td>0.0</td>\n",
       "      <td>6267.0</td>\n",
       "      <td>2719172.89</td>\n",
       "      <td>0</td>\n",
       "      <td>0</td>\n",
       "      <td>True</td>\n",
       "    </tr>\n",
       "  </tbody>\n",
       "</table>\n",
       "</div>"
      ],
      "text/plain": [
       "       amount  oldbalanceOrg  newbalanceOrig  oldbalanceDest  newbalanceDest  \\\n",
       "2      181.00          181.0             0.0             0.0            0.00   \n",
       "3      181.00          181.0             0.0         21182.0            0.00   \n",
       "15  229133.94        15325.0             0.0          5083.0        51513.44   \n",
       "19  215310.30          705.0             0.0         22425.0            0.00   \n",
       "24  311685.89        10835.0             0.0          6267.0      2719172.89   \n",
       "\n",
       "    isFraud  isFlaggedFraud  type_TRANSFER  \n",
       "2         1               0           True  \n",
       "3         1               0          False  \n",
       "15        0               0          False  \n",
       "19        0               0           True  \n",
       "24        0               0           True  "
      ]
     },
     "execution_count": 73,
     "metadata": {},
     "output_type": "execute_result"
    }
   ],
   "source": [
    "new_data.head()"
   ]
  },
  {
   "cell_type": "code",
   "execution_count": 74,
   "id": "ab075029-411a-484a-973b-20d58b92bb5c",
   "metadata": {},
   "outputs": [],
   "source": [
    "new_data['type_TRANSFER'].replace({True: 1, False: 0}, inplace=True)"
   ]
  },
  {
   "cell_type": "markdown",
   "id": "9232a224-5a77-43ba-ad1d-d506cbcc39b5",
   "metadata": {},
   "source": [
    "**Splitting Data**"
   ]
  },
  {
   "cell_type": "code",
   "execution_count": 75,
   "id": "388f6a24-14ee-496b-be3a-8014c7247c1f",
   "metadata": {},
   "outputs": [],
   "source": [
    "x= new_data.drop(['isFraud'], axis=1)\n",
    "y= new_data['isFraud']\n",
    "x_train, x_test, y_train, y_test = train_test_split(x, y, test_size=0.33, random_state=42)"
   ]
  },
  {
   "cell_type": "code",
   "execution_count": 76,
   "id": "69da408a-fac1-4fa5-96a0-59d14f544f87",
   "metadata": {},
   "outputs": [
    {
     "data": {
      "text/html": [
       "<div>\n",
       "<style scoped>\n",
       "    .dataframe tbody tr th:only-of-type {\n",
       "        vertical-align: middle;\n",
       "    }\n",
       "\n",
       "    .dataframe tbody tr th {\n",
       "        vertical-align: top;\n",
       "    }\n",
       "\n",
       "    .dataframe thead th {\n",
       "        text-align: right;\n",
       "    }\n",
       "</style>\n",
       "<table border=\"1\" class=\"dataframe\">\n",
       "  <thead>\n",
       "    <tr style=\"text-align: right;\">\n",
       "      <th></th>\n",
       "      <th>amount</th>\n",
       "      <th>oldbalanceOrg</th>\n",
       "      <th>newbalanceOrig</th>\n",
       "      <th>oldbalanceDest</th>\n",
       "      <th>newbalanceDest</th>\n",
       "      <th>isFlaggedFraud</th>\n",
       "      <th>type_TRANSFER</th>\n",
       "    </tr>\n",
       "  </thead>\n",
       "  <tbody>\n",
       "    <tr>\n",
       "      <th>5216565</th>\n",
       "      <td>81872.61</td>\n",
       "      <td>307696.0</td>\n",
       "      <td>225823.39</td>\n",
       "      <td>1498825.33</td>\n",
       "      <td>1580697.94</td>\n",
       "      <td>0</td>\n",
       "      <td>0</td>\n",
       "    </tr>\n",
       "    <tr>\n",
       "      <th>5095257</th>\n",
       "      <td>428385.66</td>\n",
       "      <td>0.0</td>\n",
       "      <td>0.00</td>\n",
       "      <td>1246968.11</td>\n",
       "      <td>1675353.78</td>\n",
       "      <td>0</td>\n",
       "      <td>1</td>\n",
       "    </tr>\n",
       "    <tr>\n",
       "      <th>6085710</th>\n",
       "      <td>50544.73</td>\n",
       "      <td>0.0</td>\n",
       "      <td>0.00</td>\n",
       "      <td>294652.71</td>\n",
       "      <td>345197.44</td>\n",
       "      <td>0</td>\n",
       "      <td>0</td>\n",
       "    </tr>\n",
       "    <tr>\n",
       "      <th>1383496</th>\n",
       "      <td>102174.40</td>\n",
       "      <td>51443.0</td>\n",
       "      <td>0.00</td>\n",
       "      <td>0.00</td>\n",
       "      <td>102174.40</td>\n",
       "      <td>0</td>\n",
       "      <td>0</td>\n",
       "    </tr>\n",
       "    <tr>\n",
       "      <th>398065</th>\n",
       "      <td>53104.40</td>\n",
       "      <td>143286.0</td>\n",
       "      <td>90181.60</td>\n",
       "      <td>327260.44</td>\n",
       "      <td>380364.84</td>\n",
       "      <td>0</td>\n",
       "      <td>0</td>\n",
       "    </tr>\n",
       "    <tr>\n",
       "      <th>...</th>\n",
       "      <td>...</td>\n",
       "      <td>...</td>\n",
       "      <td>...</td>\n",
       "      <td>...</td>\n",
       "      <td>...</td>\n",
       "      <td>...</td>\n",
       "      <td>...</td>\n",
       "    </tr>\n",
       "    <tr>\n",
       "      <th>257922</th>\n",
       "      <td>196867.17</td>\n",
       "      <td>20140.0</td>\n",
       "      <td>0.00</td>\n",
       "      <td>1260818.54</td>\n",
       "      <td>1555459.00</td>\n",
       "      <td>0</td>\n",
       "      <td>0</td>\n",
       "    </tr>\n",
       "    <tr>\n",
       "      <th>3865239</th>\n",
       "      <td>82325.31</td>\n",
       "      <td>69725.0</td>\n",
       "      <td>0.00</td>\n",
       "      <td>596497.48</td>\n",
       "      <td>678822.79</td>\n",
       "      <td>0</td>\n",
       "      <td>0</td>\n",
       "    </tr>\n",
       "    <tr>\n",
       "      <th>5399126</th>\n",
       "      <td>136301.53</td>\n",
       "      <td>20141.0</td>\n",
       "      <td>0.00</td>\n",
       "      <td>12311140.90</td>\n",
       "      <td>12447442.43</td>\n",
       "      <td>0</td>\n",
       "      <td>0</td>\n",
       "    </tr>\n",
       "    <tr>\n",
       "      <th>5098216</th>\n",
       "      <td>229578.44</td>\n",
       "      <td>0.0</td>\n",
       "      <td>0.00</td>\n",
       "      <td>248971.55</td>\n",
       "      <td>478549.99</td>\n",
       "      <td>0</td>\n",
       "      <td>0</td>\n",
       "    </tr>\n",
       "    <tr>\n",
       "      <th>5075940</th>\n",
       "      <td>52560.32</td>\n",
       "      <td>14938.0</td>\n",
       "      <td>0.00</td>\n",
       "      <td>0.00</td>\n",
       "      <td>52560.32</td>\n",
       "      <td>0</td>\n",
       "      <td>0</td>\n",
       "    </tr>\n",
       "  </tbody>\n",
       "</table>\n",
       "<p>1854509 rows × 7 columns</p>\n",
       "</div>"
      ],
      "text/plain": [
       "            amount  oldbalanceOrg  newbalanceOrig  oldbalanceDest  \\\n",
       "5216565   81872.61       307696.0       225823.39      1498825.33   \n",
       "5095257  428385.66            0.0            0.00      1246968.11   \n",
       "6085710   50544.73            0.0            0.00       294652.71   \n",
       "1383496  102174.40        51443.0            0.00            0.00   \n",
       "398065    53104.40       143286.0        90181.60       327260.44   \n",
       "...            ...            ...             ...             ...   \n",
       "257922   196867.17        20140.0            0.00      1260818.54   \n",
       "3865239   82325.31        69725.0            0.00       596497.48   \n",
       "5399126  136301.53        20141.0            0.00     12311140.90   \n",
       "5098216  229578.44            0.0            0.00       248971.55   \n",
       "5075940   52560.32        14938.0            0.00            0.00   \n",
       "\n",
       "         newbalanceDest  isFlaggedFraud  type_TRANSFER  \n",
       "5216565      1580697.94               0              0  \n",
       "5095257      1675353.78               0              1  \n",
       "6085710       345197.44               0              0  \n",
       "1383496       102174.40               0              0  \n",
       "398065        380364.84               0              0  \n",
       "...                 ...             ...            ...  \n",
       "257922       1555459.00               0              0  \n",
       "3865239       678822.79               0              0  \n",
       "5399126     12447442.43               0              0  \n",
       "5098216       478549.99               0              0  \n",
       "5075940        52560.32               0              0  \n",
       "\n",
       "[1854509 rows x 7 columns]"
      ]
     },
     "execution_count": 76,
     "metadata": {},
     "output_type": "execute_result"
    }
   ],
   "source": [
    "x_train"
   ]
  },
  {
   "cell_type": "code",
   "execution_count": 77,
   "id": "ce52c1c3-41e4-4611-93ba-f2e28fe48d3f",
   "metadata": {},
   "outputs": [
    {
     "data": {
      "text/html": [
       "<div>\n",
       "<style scoped>\n",
       "    .dataframe tbody tr th:only-of-type {\n",
       "        vertical-align: middle;\n",
       "    }\n",
       "\n",
       "    .dataframe tbody tr th {\n",
       "        vertical-align: top;\n",
       "    }\n",
       "\n",
       "    .dataframe thead th {\n",
       "        text-align: right;\n",
       "    }\n",
       "</style>\n",
       "<table border=\"1\" class=\"dataframe\">\n",
       "  <thead>\n",
       "    <tr style=\"text-align: right;\">\n",
       "      <th></th>\n",
       "      <th>amount</th>\n",
       "      <th>oldbalanceOrg</th>\n",
       "      <th>newbalanceOrig</th>\n",
       "      <th>oldbalanceDest</th>\n",
       "      <th>newbalanceDest</th>\n",
       "      <th>isFlaggedFraud</th>\n",
       "      <th>type_TRANSFER</th>\n",
       "    </tr>\n",
       "  </thead>\n",
       "  <tbody>\n",
       "    <tr>\n",
       "      <th>694992</th>\n",
       "      <td>443000.59</td>\n",
       "      <td>0.00</td>\n",
       "      <td>0.0</td>\n",
       "      <td>1156458.10</td>\n",
       "      <td>2530184.65</td>\n",
       "      <td>0</td>\n",
       "      <td>1</td>\n",
       "    </tr>\n",
       "    <tr>\n",
       "      <th>2998209</th>\n",
       "      <td>86421.35</td>\n",
       "      <td>0.00</td>\n",
       "      <td>0.0</td>\n",
       "      <td>1185406.87</td>\n",
       "      <td>1271828.22</td>\n",
       "      <td>0</td>\n",
       "      <td>0</td>\n",
       "    </tr>\n",
       "    <tr>\n",
       "      <th>2832127</th>\n",
       "      <td>638054.45</td>\n",
       "      <td>0.00</td>\n",
       "      <td>0.0</td>\n",
       "      <td>4276904.51</td>\n",
       "      <td>4914958.96</td>\n",
       "      <td>0</td>\n",
       "      <td>1</td>\n",
       "    </tr>\n",
       "    <tr>\n",
       "      <th>4271171</th>\n",
       "      <td>49358.65</td>\n",
       "      <td>0.00</td>\n",
       "      <td>0.0</td>\n",
       "      <td>226292.62</td>\n",
       "      <td>275651.27</td>\n",
       "      <td>0</td>\n",
       "      <td>0</td>\n",
       "    </tr>\n",
       "    <tr>\n",
       "      <th>71605</th>\n",
       "      <td>6648.79</td>\n",
       "      <td>324.00</td>\n",
       "      <td>0.0</td>\n",
       "      <td>1470798.47</td>\n",
       "      <td>1425321.12</td>\n",
       "      <td>0</td>\n",
       "      <td>0</td>\n",
       "    </tr>\n",
       "    <tr>\n",
       "      <th>...</th>\n",
       "      <td>...</td>\n",
       "      <td>...</td>\n",
       "      <td>...</td>\n",
       "      <td>...</td>\n",
       "      <td>...</td>\n",
       "      <td>...</td>\n",
       "      <td>...</td>\n",
       "    </tr>\n",
       "    <tr>\n",
       "      <th>2453340</th>\n",
       "      <td>162591.04</td>\n",
       "      <td>0.00</td>\n",
       "      <td>0.0</td>\n",
       "      <td>188497.32</td>\n",
       "      <td>351088.36</td>\n",
       "      <td>0</td>\n",
       "      <td>1</td>\n",
       "    </tr>\n",
       "    <tr>\n",
       "      <th>1263197</th>\n",
       "      <td>155106.99</td>\n",
       "      <td>178.00</td>\n",
       "      <td>0.0</td>\n",
       "      <td>328945.87</td>\n",
       "      <td>484052.86</td>\n",
       "      <td>0</td>\n",
       "      <td>0</td>\n",
       "    </tr>\n",
       "    <tr>\n",
       "      <th>4686643</th>\n",
       "      <td>427970.08</td>\n",
       "      <td>0.00</td>\n",
       "      <td>0.0</td>\n",
       "      <td>2024542.42</td>\n",
       "      <td>2452512.50</td>\n",
       "      <td>0</td>\n",
       "      <td>0</td>\n",
       "    </tr>\n",
       "    <tr>\n",
       "      <th>1160610</th>\n",
       "      <td>1024722.53</td>\n",
       "      <td>25115.57</td>\n",
       "      <td>0.0</td>\n",
       "      <td>1948405.44</td>\n",
       "      <td>2973127.96</td>\n",
       "      <td>0</td>\n",
       "      <td>1</td>\n",
       "    </tr>\n",
       "    <tr>\n",
       "      <th>331427</th>\n",
       "      <td>108549.74</td>\n",
       "      <td>10672.00</td>\n",
       "      <td>0.0</td>\n",
       "      <td>17006.00</td>\n",
       "      <td>125555.75</td>\n",
       "      <td>0</td>\n",
       "      <td>0</td>\n",
       "    </tr>\n",
       "  </tbody>\n",
       "</table>\n",
       "<p>913416 rows × 7 columns</p>\n",
       "</div>"
      ],
      "text/plain": [
       "             amount  oldbalanceOrg  newbalanceOrig  oldbalanceDest  \\\n",
       "694992    443000.59           0.00             0.0      1156458.10   \n",
       "2998209    86421.35           0.00             0.0      1185406.87   \n",
       "2832127   638054.45           0.00             0.0      4276904.51   \n",
       "4271171    49358.65           0.00             0.0       226292.62   \n",
       "71605       6648.79         324.00             0.0      1470798.47   \n",
       "...             ...            ...             ...             ...   \n",
       "2453340   162591.04           0.00             0.0       188497.32   \n",
       "1263197   155106.99         178.00             0.0       328945.87   \n",
       "4686643   427970.08           0.00             0.0      2024542.42   \n",
       "1160610  1024722.53       25115.57             0.0      1948405.44   \n",
       "331427    108549.74       10672.00             0.0        17006.00   \n",
       "\n",
       "         newbalanceDest  isFlaggedFraud  type_TRANSFER  \n",
       "694992       2530184.65               0              1  \n",
       "2998209      1271828.22               0              0  \n",
       "2832127      4914958.96               0              1  \n",
       "4271171       275651.27               0              0  \n",
       "71605        1425321.12               0              0  \n",
       "...                 ...             ...            ...  \n",
       "2453340       351088.36               0              1  \n",
       "1263197       484052.86               0              0  \n",
       "4686643      2452512.50               0              0  \n",
       "1160610      2973127.96               0              1  \n",
       "331427        125555.75               0              0  \n",
       "\n",
       "[913416 rows x 7 columns]"
      ]
     },
     "execution_count": 77,
     "metadata": {},
     "output_type": "execute_result"
    }
   ],
   "source": [
    "x_test"
   ]
  },
  {
   "cell_type": "code",
   "execution_count": 78,
   "id": "c786638f-0772-4826-bbd7-e1f3249f5228",
   "metadata": {},
   "outputs": [
    {
     "data": {
      "text/plain": [
       "5216565    0\n",
       "5095257    0\n",
       "6085710    0\n",
       "1383496    0\n",
       "398065     0\n",
       "          ..\n",
       "257922     0\n",
       "3865239    0\n",
       "5399126    0\n",
       "5098216    0\n",
       "5075940    0\n",
       "Name: isFraud, Length: 1854509, dtype: int64"
      ]
     },
     "execution_count": 78,
     "metadata": {},
     "output_type": "execute_result"
    }
   ],
   "source": [
    "y_train"
   ]
  },
  {
   "cell_type": "code",
   "execution_count": 79,
   "id": "f8b15485-69c3-491e-b5bd-9286208d623d",
   "metadata": {},
   "outputs": [
    {
     "data": {
      "text/plain": [
       "694992     0\n",
       "2998209    0\n",
       "2832127    0\n",
       "4271171    0\n",
       "71605      0\n",
       "          ..\n",
       "2453340    0\n",
       "1263197    0\n",
       "4686643    0\n",
       "1160610    0\n",
       "331427     0\n",
       "Name: isFraud, Length: 913416, dtype: int64"
      ]
     },
     "execution_count": 79,
     "metadata": {},
     "output_type": "execute_result"
    }
   ],
   "source": [
    "y_test"
   ]
  },
  {
   "cell_type": "code",
   "execution_count": 80,
   "id": "e33e6155-9087-4856-8154-de2eb750b7db",
   "metadata": {},
   "outputs": [],
   "source": [
    "x_train_pre = x_train[['amount','oldbalanceOrg','newbalanceOrig','oldbalanceDest','newbalanceDest']]\n",
    "x_trainleft_pre = x_train[['isFlaggedFraud','type_TRANSFER']].values\n",
    "x_test_pre = x_test[['amount','oldbalanceOrg','newbalanceOrig','oldbalanceDest','newbalanceDest']]\n",
    "x_testleft_pre = x_test[['isFlaggedFraud','type_TRANSFER']].values"
   ]
  },
  {
   "cell_type": "code",
   "execution_count": 81,
   "id": "c44567e8-0703-4170-bfb1-6a62db5eea10",
   "metadata": {},
   "outputs": [
    {
     "data": {
      "text/html": [
       "<div>\n",
       "<style scoped>\n",
       "    .dataframe tbody tr th:only-of-type {\n",
       "        vertical-align: middle;\n",
       "    }\n",
       "\n",
       "    .dataframe tbody tr th {\n",
       "        vertical-align: top;\n",
       "    }\n",
       "\n",
       "    .dataframe thead th {\n",
       "        text-align: right;\n",
       "    }\n",
       "</style>\n",
       "<table border=\"1\" class=\"dataframe\">\n",
       "  <thead>\n",
       "    <tr style=\"text-align: right;\">\n",
       "      <th></th>\n",
       "      <th>amount</th>\n",
       "      <th>oldbalanceOrg</th>\n",
       "      <th>newbalanceOrig</th>\n",
       "      <th>oldbalanceDest</th>\n",
       "      <th>newbalanceDest</th>\n",
       "    </tr>\n",
       "  </thead>\n",
       "  <tbody>\n",
       "    <tr>\n",
       "      <th>5216565</th>\n",
       "      <td>81872.61</td>\n",
       "      <td>307696.0</td>\n",
       "      <td>225823.39</td>\n",
       "      <td>1498825.33</td>\n",
       "      <td>1580697.94</td>\n",
       "    </tr>\n",
       "    <tr>\n",
       "      <th>5095257</th>\n",
       "      <td>428385.66</td>\n",
       "      <td>0.0</td>\n",
       "      <td>0.00</td>\n",
       "      <td>1246968.11</td>\n",
       "      <td>1675353.78</td>\n",
       "    </tr>\n",
       "    <tr>\n",
       "      <th>6085710</th>\n",
       "      <td>50544.73</td>\n",
       "      <td>0.0</td>\n",
       "      <td>0.00</td>\n",
       "      <td>294652.71</td>\n",
       "      <td>345197.44</td>\n",
       "    </tr>\n",
       "    <tr>\n",
       "      <th>1383496</th>\n",
       "      <td>102174.40</td>\n",
       "      <td>51443.0</td>\n",
       "      <td>0.00</td>\n",
       "      <td>0.00</td>\n",
       "      <td>102174.40</td>\n",
       "    </tr>\n",
       "    <tr>\n",
       "      <th>398065</th>\n",
       "      <td>53104.40</td>\n",
       "      <td>143286.0</td>\n",
       "      <td>90181.60</td>\n",
       "      <td>327260.44</td>\n",
       "      <td>380364.84</td>\n",
       "    </tr>\n",
       "    <tr>\n",
       "      <th>...</th>\n",
       "      <td>...</td>\n",
       "      <td>...</td>\n",
       "      <td>...</td>\n",
       "      <td>...</td>\n",
       "      <td>...</td>\n",
       "    </tr>\n",
       "    <tr>\n",
       "      <th>257922</th>\n",
       "      <td>196867.17</td>\n",
       "      <td>20140.0</td>\n",
       "      <td>0.00</td>\n",
       "      <td>1260818.54</td>\n",
       "      <td>1555459.00</td>\n",
       "    </tr>\n",
       "    <tr>\n",
       "      <th>3865239</th>\n",
       "      <td>82325.31</td>\n",
       "      <td>69725.0</td>\n",
       "      <td>0.00</td>\n",
       "      <td>596497.48</td>\n",
       "      <td>678822.79</td>\n",
       "    </tr>\n",
       "    <tr>\n",
       "      <th>5399126</th>\n",
       "      <td>136301.53</td>\n",
       "      <td>20141.0</td>\n",
       "      <td>0.00</td>\n",
       "      <td>12311140.90</td>\n",
       "      <td>12447442.43</td>\n",
       "    </tr>\n",
       "    <tr>\n",
       "      <th>5098216</th>\n",
       "      <td>229578.44</td>\n",
       "      <td>0.0</td>\n",
       "      <td>0.00</td>\n",
       "      <td>248971.55</td>\n",
       "      <td>478549.99</td>\n",
       "    </tr>\n",
       "    <tr>\n",
       "      <th>5075940</th>\n",
       "      <td>52560.32</td>\n",
       "      <td>14938.0</td>\n",
       "      <td>0.00</td>\n",
       "      <td>0.00</td>\n",
       "      <td>52560.32</td>\n",
       "    </tr>\n",
       "  </tbody>\n",
       "</table>\n",
       "<p>1854509 rows × 5 columns</p>\n",
       "</div>"
      ],
      "text/plain": [
       "            amount  oldbalanceOrg  newbalanceOrig  oldbalanceDest  \\\n",
       "5216565   81872.61       307696.0       225823.39      1498825.33   \n",
       "5095257  428385.66            0.0            0.00      1246968.11   \n",
       "6085710   50544.73            0.0            0.00       294652.71   \n",
       "1383496  102174.40        51443.0            0.00            0.00   \n",
       "398065    53104.40       143286.0        90181.60       327260.44   \n",
       "...            ...            ...             ...             ...   \n",
       "257922   196867.17        20140.0            0.00      1260818.54   \n",
       "3865239   82325.31        69725.0            0.00       596497.48   \n",
       "5399126  136301.53        20141.0            0.00     12311140.90   \n",
       "5098216  229578.44            0.0            0.00       248971.55   \n",
       "5075940   52560.32        14938.0            0.00            0.00   \n",
       "\n",
       "         newbalanceDest  \n",
       "5216565      1580697.94  \n",
       "5095257      1675353.78  \n",
       "6085710       345197.44  \n",
       "1383496       102174.40  \n",
       "398065        380364.84  \n",
       "...                 ...  \n",
       "257922       1555459.00  \n",
       "3865239       678822.79  \n",
       "5399126     12447442.43  \n",
       "5098216       478549.99  \n",
       "5075940        52560.32  \n",
       "\n",
       "[1854509 rows x 5 columns]"
      ]
     },
     "execution_count": 81,
     "metadata": {},
     "output_type": "execute_result"
    }
   ],
   "source": [
    "x_train_pre"
   ]
  },
  {
   "cell_type": "code",
   "execution_count": 82,
   "id": "8d99c81e-d73d-470c-87f4-4b78dfb2831d",
   "metadata": {},
   "outputs": [
    {
     "data": {
      "text/plain": [
       "array([[0, 0],\n",
       "       [0, 1],\n",
       "       [0, 0],\n",
       "       ...,\n",
       "       [0, 0],\n",
       "       [0, 0],\n",
       "       [0, 0]], dtype=int64)"
      ]
     },
     "execution_count": 82,
     "metadata": {},
     "output_type": "execute_result"
    }
   ],
   "source": [
    "x_trainleft_pre"
   ]
  },
  {
   "cell_type": "markdown",
   "id": "81049402-f059-4b83-9b57-483e53d6538e",
   "metadata": {},
   "source": [
    "**Data Preprocessing**"
   ]
  },
  {
   "cell_type": "code",
   "execution_count": 83,
   "id": "28dea4fa-d934-4cbe-a43b-34ffef5ff6da",
   "metadata": {},
   "outputs": [
    {
     "data": {
      "text/html": [
       "<style>#sk-container-id-1 {color: black;}#sk-container-id-1 pre{padding: 0;}#sk-container-id-1 div.sk-toggleable {background-color: white;}#sk-container-id-1 label.sk-toggleable__label {cursor: pointer;display: block;width: 100%;margin-bottom: 0;padding: 0.3em;box-sizing: border-box;text-align: center;}#sk-container-id-1 label.sk-toggleable__label-arrow:before {content: \"▸\";float: left;margin-right: 0.25em;color: #696969;}#sk-container-id-1 label.sk-toggleable__label-arrow:hover:before {color: black;}#sk-container-id-1 div.sk-estimator:hover label.sk-toggleable__label-arrow:before {color: black;}#sk-container-id-1 div.sk-toggleable__content {max-height: 0;max-width: 0;overflow: hidden;text-align: left;background-color: #f0f8ff;}#sk-container-id-1 div.sk-toggleable__content pre {margin: 0.2em;color: black;border-radius: 0.25em;background-color: #f0f8ff;}#sk-container-id-1 input.sk-toggleable__control:checked~div.sk-toggleable__content {max-height: 200px;max-width: 100%;overflow: auto;}#sk-container-id-1 input.sk-toggleable__control:checked~label.sk-toggleable__label-arrow:before {content: \"▾\";}#sk-container-id-1 div.sk-estimator input.sk-toggleable__control:checked~label.sk-toggleable__label {background-color: #d4ebff;}#sk-container-id-1 div.sk-label input.sk-toggleable__control:checked~label.sk-toggleable__label {background-color: #d4ebff;}#sk-container-id-1 input.sk-hidden--visually {border: 0;clip: rect(1px 1px 1px 1px);clip: rect(1px, 1px, 1px, 1px);height: 1px;margin: -1px;overflow: hidden;padding: 0;position: absolute;width: 1px;}#sk-container-id-1 div.sk-estimator {font-family: monospace;background-color: #f0f8ff;border: 1px dotted black;border-radius: 0.25em;box-sizing: border-box;margin-bottom: 0.5em;}#sk-container-id-1 div.sk-estimator:hover {background-color: #d4ebff;}#sk-container-id-1 div.sk-parallel-item::after {content: \"\";width: 100%;border-bottom: 1px solid gray;flex-grow: 1;}#sk-container-id-1 div.sk-label:hover label.sk-toggleable__label {background-color: #d4ebff;}#sk-container-id-1 div.sk-serial::before {content: \"\";position: absolute;border-left: 1px solid gray;box-sizing: border-box;top: 0;bottom: 0;left: 50%;z-index: 0;}#sk-container-id-1 div.sk-serial {display: flex;flex-direction: column;align-items: center;background-color: white;padding-right: 0.2em;padding-left: 0.2em;position: relative;}#sk-container-id-1 div.sk-item {position: relative;z-index: 1;}#sk-container-id-1 div.sk-parallel {display: flex;align-items: stretch;justify-content: center;background-color: white;position: relative;}#sk-container-id-1 div.sk-item::before, #sk-container-id-1 div.sk-parallel-item::before {content: \"\";position: absolute;border-left: 1px solid gray;box-sizing: border-box;top: 0;bottom: 0;left: 50%;z-index: -1;}#sk-container-id-1 div.sk-parallel-item {display: flex;flex-direction: column;z-index: 1;position: relative;background-color: white;}#sk-container-id-1 div.sk-parallel-item:first-child::after {align-self: flex-end;width: 50%;}#sk-container-id-1 div.sk-parallel-item:last-child::after {align-self: flex-start;width: 50%;}#sk-container-id-1 div.sk-parallel-item:only-child::after {width: 0;}#sk-container-id-1 div.sk-dashed-wrapped {border: 1px dashed gray;margin: 0 0.4em 0.5em 0.4em;box-sizing: border-box;padding-bottom: 0.4em;background-color: white;}#sk-container-id-1 div.sk-label label {font-family: monospace;font-weight: bold;display: inline-block;line-height: 1.2em;}#sk-container-id-1 div.sk-label-container {text-align: center;}#sk-container-id-1 div.sk-container {/* jupyter's `normalize.less` sets `[hidden] { display: none; }` but bootstrap.min.css set `[hidden] { display: none !important; }` so we also need the `!important` here to be able to override the default hidden behavior on the sphinx rendered scikit-learn.org. See: https://github.com/scikit-learn/scikit-learn/issues/21755 */display: inline-block !important;position: relative;}#sk-container-id-1 div.sk-text-repr-fallback {display: none;}</style><div id=\"sk-container-id-1\" class=\"sk-top-container\"><div class=\"sk-text-repr-fallback\"><pre>MinMaxScaler()</pre><b>In a Jupyter environment, please rerun this cell to show the HTML representation or trust the notebook. <br />On GitHub, the HTML representation is unable to render, please try loading this page with nbviewer.org.</b></div><div class=\"sk-container\" hidden><div class=\"sk-item\"><div class=\"sk-estimator sk-toggleable\"><input class=\"sk-toggleable__control sk-hidden--visually\" id=\"sk-estimator-id-1\" type=\"checkbox\" checked><label for=\"sk-estimator-id-1\" class=\"sk-toggleable__label sk-toggleable__label-arrow\">MinMaxScaler</label><div class=\"sk-toggleable__content\"><pre>MinMaxScaler()</pre></div></div></div></div></div>"
      ],
      "text/plain": [
       "MinMaxScaler()"
      ]
     },
     "execution_count": 83,
     "metadata": {},
     "output_type": "execute_result"
    }
   ],
   "source": [
    "from sklearn.preprocessing import MinMaxScaler\n",
    "scaler = MinMaxScaler()\n",
    "scaler.fit(x_train_pre)"
   ]
  },
  {
   "cell_type": "code",
   "execution_count": 84,
   "id": "f977a144-73bd-4b42-9fc9-f79506100033",
   "metadata": {},
   "outputs": [],
   "source": [
    "x_train_scaled = scaler.transform(x_train_pre)\n",
    "x_test_scaled = scaler.transform(x_test_pre)"
   ]
  },
  {
   "cell_type": "code",
   "execution_count": 85,
   "id": "0b690c50-7ccb-447e-8ba3-4be51bdfc232",
   "metadata": {},
   "outputs": [
    {
     "data": {
      "text/plain": [
       "array([[0.00818726, 0.00536839, 0.00477264, 0.00421   , 0.00443793],\n",
       "       [0.04283857, 0.        , 0.        , 0.00350256, 0.00470368],\n",
       "       [0.00505447, 0.        , 0.        , 0.00082764, 0.00096917],\n",
       "       ...,\n",
       "       [0.01363015, 0.0003514 , 0.        , 0.03458031, 0.03494713],\n",
       "       [0.02295784, 0.        , 0.        , 0.00069933, 0.00134356],\n",
       "       [0.00525603, 0.00026062, 0.        , 0.        , 0.00014757]])"
      ]
     },
     "execution_count": 85,
     "metadata": {},
     "output_type": "execute_result"
    }
   ],
   "source": [
    "x_train_scaled"
   ]
  },
  {
   "cell_type": "code",
   "execution_count": 86,
   "id": "60d083d8-85cd-42b9-9eb2-a64a5a7d2c69",
   "metadata": {},
   "outputs": [],
   "source": [
    "x_test_scaled = pd.DataFrame(data= x_test_scaled)"
   ]
  },
  {
   "cell_type": "code",
   "execution_count": 87,
   "id": "0112a699-50fd-4314-a726-87c768d27a80",
   "metadata": {},
   "outputs": [],
   "source": [
    "x_testleft_pre = pd.DataFrame(data= x_testleft_pre)"
   ]
  },
  {
   "cell_type": "code",
   "execution_count": 88,
   "id": "5bd14ca3-5ccb-4691-9525-3a27b4a97c3c",
   "metadata": {},
   "outputs": [],
   "source": [
    "x_train_scaled = pd.DataFrame(data= x_train_scaled)\n"
   ]
  },
  {
   "cell_type": "code",
   "execution_count": 89,
   "id": "02e7e187-38af-42cd-aced-0fcc649d2195",
   "metadata": {},
   "outputs": [],
   "source": [
    "x_trainleft_pre = pd.DataFrame(data= x_trainleft_pre)"
   ]
  },
  {
   "cell_type": "code",
   "execution_count": 90,
   "id": "4d5ff614-bd8d-4f92-a3af-07171a8be19e",
   "metadata": {},
   "outputs": [],
   "source": [
    "x_train_final = pd.concat([x_train_scaled,x_trainleft_pre], axis=1)\n",
    "x_test_final = pd.concat([x_test_scaled,x_testleft_pre], axis=1)"
   ]
  },
  {
   "cell_type": "code",
   "execution_count": 91,
   "id": "4e054185-4617-4eec-a3cd-790574de4772",
   "metadata": {},
   "outputs": [
    {
     "data": {
      "text/html": [
       "<div>\n",
       "<style scoped>\n",
       "    .dataframe tbody tr th:only-of-type {\n",
       "        vertical-align: middle;\n",
       "    }\n",
       "\n",
       "    .dataframe tbody tr th {\n",
       "        vertical-align: top;\n",
       "    }\n",
       "\n",
       "    .dataframe thead th {\n",
       "        text-align: right;\n",
       "    }\n",
       "</style>\n",
       "<table border=\"1\" class=\"dataframe\">\n",
       "  <thead>\n",
       "    <tr style=\"text-align: right;\">\n",
       "      <th></th>\n",
       "      <th>0</th>\n",
       "      <th>1</th>\n",
       "      <th>2</th>\n",
       "      <th>3</th>\n",
       "      <th>4</th>\n",
       "      <th>0</th>\n",
       "      <th>1</th>\n",
       "    </tr>\n",
       "  </thead>\n",
       "  <tbody>\n",
       "    <tr>\n",
       "      <th>0</th>\n",
       "      <td>0.044300</td>\n",
       "      <td>0.000000</td>\n",
       "      <td>0.0</td>\n",
       "      <td>0.003248</td>\n",
       "      <td>0.007104</td>\n",
       "      <td>0</td>\n",
       "      <td>1</td>\n",
       "    </tr>\n",
       "    <tr>\n",
       "      <th>1</th>\n",
       "      <td>0.008642</td>\n",
       "      <td>0.000000</td>\n",
       "      <td>0.0</td>\n",
       "      <td>0.003330</td>\n",
       "      <td>0.003571</td>\n",
       "      <td>0</td>\n",
       "      <td>0</td>\n",
       "    </tr>\n",
       "    <tr>\n",
       "      <th>2</th>\n",
       "      <td>0.063805</td>\n",
       "      <td>0.000000</td>\n",
       "      <td>0.0</td>\n",
       "      <td>0.012013</td>\n",
       "      <td>0.013799</td>\n",
       "      <td>0</td>\n",
       "      <td>1</td>\n",
       "    </tr>\n",
       "    <tr>\n",
       "      <th>3</th>\n",
       "      <td>0.004936</td>\n",
       "      <td>0.000000</td>\n",
       "      <td>0.0</td>\n",
       "      <td>0.000636</td>\n",
       "      <td>0.000774</td>\n",
       "      <td>0</td>\n",
       "      <td>0</td>\n",
       "    </tr>\n",
       "    <tr>\n",
       "      <th>4</th>\n",
       "      <td>0.000665</td>\n",
       "      <td>0.000006</td>\n",
       "      <td>0.0</td>\n",
       "      <td>0.004131</td>\n",
       "      <td>0.004002</td>\n",
       "      <td>0</td>\n",
       "      <td>0</td>\n",
       "    </tr>\n",
       "    <tr>\n",
       "      <th>...</th>\n",
       "      <td>...</td>\n",
       "      <td>...</td>\n",
       "      <td>...</td>\n",
       "      <td>...</td>\n",
       "      <td>...</td>\n",
       "      <td>...</td>\n",
       "      <td>...</td>\n",
       "    </tr>\n",
       "    <tr>\n",
       "      <th>913411</th>\n",
       "      <td>0.016259</td>\n",
       "      <td>0.000000</td>\n",
       "      <td>0.0</td>\n",
       "      <td>0.000529</td>\n",
       "      <td>0.000986</td>\n",
       "      <td>0</td>\n",
       "      <td>1</td>\n",
       "    </tr>\n",
       "    <tr>\n",
       "      <th>913412</th>\n",
       "      <td>0.015511</td>\n",
       "      <td>0.000003</td>\n",
       "      <td>0.0</td>\n",
       "      <td>0.000924</td>\n",
       "      <td>0.001359</td>\n",
       "      <td>0</td>\n",
       "      <td>0</td>\n",
       "    </tr>\n",
       "    <tr>\n",
       "      <th>913413</th>\n",
       "      <td>0.042797</td>\n",
       "      <td>0.000000</td>\n",
       "      <td>0.0</td>\n",
       "      <td>0.005687</td>\n",
       "      <td>0.006886</td>\n",
       "      <td>0</td>\n",
       "      <td>0</td>\n",
       "    </tr>\n",
       "    <tr>\n",
       "      <th>913414</th>\n",
       "      <td>0.102472</td>\n",
       "      <td>0.000438</td>\n",
       "      <td>0.0</td>\n",
       "      <td>0.005473</td>\n",
       "      <td>0.008347</td>\n",
       "      <td>0</td>\n",
       "      <td>1</td>\n",
       "    </tr>\n",
       "    <tr>\n",
       "      <th>913415</th>\n",
       "      <td>0.010855</td>\n",
       "      <td>0.000186</td>\n",
       "      <td>0.0</td>\n",
       "      <td>0.000048</td>\n",
       "      <td>0.000353</td>\n",
       "      <td>0</td>\n",
       "      <td>0</td>\n",
       "    </tr>\n",
       "  </tbody>\n",
       "</table>\n",
       "<p>913416 rows × 7 columns</p>\n",
       "</div>"
      ],
      "text/plain": [
       "               0         1    2         3         4  0  1\n",
       "0       0.044300  0.000000  0.0  0.003248  0.007104  0  1\n",
       "1       0.008642  0.000000  0.0  0.003330  0.003571  0  0\n",
       "2       0.063805  0.000000  0.0  0.012013  0.013799  0  1\n",
       "3       0.004936  0.000000  0.0  0.000636  0.000774  0  0\n",
       "4       0.000665  0.000006  0.0  0.004131  0.004002  0  0\n",
       "...          ...       ...  ...       ...       ... .. ..\n",
       "913411  0.016259  0.000000  0.0  0.000529  0.000986  0  1\n",
       "913412  0.015511  0.000003  0.0  0.000924  0.001359  0  0\n",
       "913413  0.042797  0.000000  0.0  0.005687  0.006886  0  0\n",
       "913414  0.102472  0.000438  0.0  0.005473  0.008347  0  1\n",
       "913415  0.010855  0.000186  0.0  0.000048  0.000353  0  0\n",
       "\n",
       "[913416 rows x 7 columns]"
      ]
     },
     "execution_count": 91,
     "metadata": {},
     "output_type": "execute_result"
    }
   ],
   "source": [
    "x_test_final"
   ]
  },
  {
   "cell_type": "code",
   "execution_count": 92,
   "id": "d9b370f3-283f-4ff0-9244-a17c307f0f32",
   "metadata": {},
   "outputs": [],
   "source": [
    "x_train_final = x_train_final.values\n",
    "x_test_final = x_test_final.values"
   ]
  },
  {
   "cell_type": "code",
   "execution_count": 93,
   "id": "31bc5dab-34f0-4985-9f8b-636eed1c86b5",
   "metadata": {},
   "outputs": [
    {
     "data": {
      "text/plain": [
       "array([[8.18726001e-03, 5.36838982e-03, 4.77263870e-03, ...,\n",
       "        4.43792785e-03, 0.00000000e+00, 0.00000000e+00],\n",
       "       [4.28385650e-02, 0.00000000e+00, 0.00000000e+00, ...,\n",
       "        4.70368121e-03, 0.00000000e+00, 1.00000000e+00],\n",
       "       [5.05447201e-03, 0.00000000e+00, 0.00000000e+00, ...,\n",
       "        9.69167665e-04, 0.00000000e+00, 0.00000000e+00],\n",
       "       ...,\n",
       "       [1.36301520e-02, 3.51401186e-04, 0.00000000e+00, ...,\n",
       "        3.49471268e-02, 0.00000000e+00, 0.00000000e+00],\n",
       "       [2.29578430e-02, 0.00000000e+00, 0.00000000e+00, ...,\n",
       "        1.34356494e-03, 0.00000000e+00, 0.00000000e+00],\n",
       "       [5.25603101e-03, 2.60624146e-04, 0.00000000e+00, ...,\n",
       "        1.47567035e-04, 0.00000000e+00, 0.00000000e+00]])"
      ]
     },
     "execution_count": 93,
     "metadata": {},
     "output_type": "execute_result"
    }
   ],
   "source": [
    "x_train_final\n"
   ]
  },
  {
   "cell_type": "markdown",
   "id": "e09b203e-843a-4949-a233-5721ab6691c8",
   "metadata": {},
   "source": [
    "**Using Machine Learning Algorithm**"
   ]
  },
  {
   "cell_type": "markdown",
   "id": "a5c2c978-0f41-4ab3-a050-7954d9dd7ace",
   "metadata": {},
   "source": [
    "**Logistics Regression**"
   ]
  },
  {
   "cell_type": "code",
   "execution_count": 94,
   "id": "f7d52ae8-cf8f-4038-b848-aa6c242e7295",
   "metadata": {},
   "outputs": [
    {
     "data": {
      "text/html": [
       "<style>#sk-container-id-2 {color: black;}#sk-container-id-2 pre{padding: 0;}#sk-container-id-2 div.sk-toggleable {background-color: white;}#sk-container-id-2 label.sk-toggleable__label {cursor: pointer;display: block;width: 100%;margin-bottom: 0;padding: 0.3em;box-sizing: border-box;text-align: center;}#sk-container-id-2 label.sk-toggleable__label-arrow:before {content: \"▸\";float: left;margin-right: 0.25em;color: #696969;}#sk-container-id-2 label.sk-toggleable__label-arrow:hover:before {color: black;}#sk-container-id-2 div.sk-estimator:hover label.sk-toggleable__label-arrow:before {color: black;}#sk-container-id-2 div.sk-toggleable__content {max-height: 0;max-width: 0;overflow: hidden;text-align: left;background-color: #f0f8ff;}#sk-container-id-2 div.sk-toggleable__content pre {margin: 0.2em;color: black;border-radius: 0.25em;background-color: #f0f8ff;}#sk-container-id-2 input.sk-toggleable__control:checked~div.sk-toggleable__content {max-height: 200px;max-width: 100%;overflow: auto;}#sk-container-id-2 input.sk-toggleable__control:checked~label.sk-toggleable__label-arrow:before {content: \"▾\";}#sk-container-id-2 div.sk-estimator input.sk-toggleable__control:checked~label.sk-toggleable__label {background-color: #d4ebff;}#sk-container-id-2 div.sk-label input.sk-toggleable__control:checked~label.sk-toggleable__label {background-color: #d4ebff;}#sk-container-id-2 input.sk-hidden--visually {border: 0;clip: rect(1px 1px 1px 1px);clip: rect(1px, 1px, 1px, 1px);height: 1px;margin: -1px;overflow: hidden;padding: 0;position: absolute;width: 1px;}#sk-container-id-2 div.sk-estimator {font-family: monospace;background-color: #f0f8ff;border: 1px dotted black;border-radius: 0.25em;box-sizing: border-box;margin-bottom: 0.5em;}#sk-container-id-2 div.sk-estimator:hover {background-color: #d4ebff;}#sk-container-id-2 div.sk-parallel-item::after {content: \"\";width: 100%;border-bottom: 1px solid gray;flex-grow: 1;}#sk-container-id-2 div.sk-label:hover label.sk-toggleable__label {background-color: #d4ebff;}#sk-container-id-2 div.sk-serial::before {content: \"\";position: absolute;border-left: 1px solid gray;box-sizing: border-box;top: 0;bottom: 0;left: 50%;z-index: 0;}#sk-container-id-2 div.sk-serial {display: flex;flex-direction: column;align-items: center;background-color: white;padding-right: 0.2em;padding-left: 0.2em;position: relative;}#sk-container-id-2 div.sk-item {position: relative;z-index: 1;}#sk-container-id-2 div.sk-parallel {display: flex;align-items: stretch;justify-content: center;background-color: white;position: relative;}#sk-container-id-2 div.sk-item::before, #sk-container-id-2 div.sk-parallel-item::before {content: \"\";position: absolute;border-left: 1px solid gray;box-sizing: border-box;top: 0;bottom: 0;left: 50%;z-index: -1;}#sk-container-id-2 div.sk-parallel-item {display: flex;flex-direction: column;z-index: 1;position: relative;background-color: white;}#sk-container-id-2 div.sk-parallel-item:first-child::after {align-self: flex-end;width: 50%;}#sk-container-id-2 div.sk-parallel-item:last-child::after {align-self: flex-start;width: 50%;}#sk-container-id-2 div.sk-parallel-item:only-child::after {width: 0;}#sk-container-id-2 div.sk-dashed-wrapped {border: 1px dashed gray;margin: 0 0.4em 0.5em 0.4em;box-sizing: border-box;padding-bottom: 0.4em;background-color: white;}#sk-container-id-2 div.sk-label label {font-family: monospace;font-weight: bold;display: inline-block;line-height: 1.2em;}#sk-container-id-2 div.sk-label-container {text-align: center;}#sk-container-id-2 div.sk-container {/* jupyter's `normalize.less` sets `[hidden] { display: none; }` but bootstrap.min.css set `[hidden] { display: none !important; }` so we also need the `!important` here to be able to override the default hidden behavior on the sphinx rendered scikit-learn.org. See: https://github.com/scikit-learn/scikit-learn/issues/21755 */display: inline-block !important;position: relative;}#sk-container-id-2 div.sk-text-repr-fallback {display: none;}</style><div id=\"sk-container-id-2\" class=\"sk-top-container\"><div class=\"sk-text-repr-fallback\"><pre>LogisticRegression()</pre><b>In a Jupyter environment, please rerun this cell to show the HTML representation or trust the notebook. <br />On GitHub, the HTML representation is unable to render, please try loading this page with nbviewer.org.</b></div><div class=\"sk-container\" hidden><div class=\"sk-item\"><div class=\"sk-estimator sk-toggleable\"><input class=\"sk-toggleable__control sk-hidden--visually\" id=\"sk-estimator-id-2\" type=\"checkbox\" checked><label for=\"sk-estimator-id-2\" class=\"sk-toggleable__label sk-toggleable__label-arrow\">LogisticRegression</label><div class=\"sk-toggleable__content\"><pre>LogisticRegression()</pre></div></div></div></div></div>"
      ],
      "text/plain": [
       "LogisticRegression()"
      ]
     },
     "execution_count": 94,
     "metadata": {},
     "output_type": "execute_result"
    }
   ],
   "source": [
    "model1 = LogisticRegression()\n",
    "model1.fit(x_train_final,y_train)"
   ]
  },
  {
   "cell_type": "code",
   "execution_count": 95,
   "id": "6166a12d-581a-4c21-bb10-f1f1c43434fd",
   "metadata": {},
   "outputs": [],
   "source": [
    "predictions = model1.predict(x_test_final)"
   ]
  },
  {
   "cell_type": "code",
   "execution_count": 96,
   "id": "845991be-01a2-4970-8a42-35d991acaba4",
   "metadata": {},
   "outputs": [
    {
     "name": "stdout",
     "output_type": "stream",
     "text": [
      "[[910706      7]\n",
      " [  2419    284]]\n"
     ]
    }
   ],
   "source": [
    "print(confusion_matrix(y_test, predictions))"
   ]
  },
  {
   "cell_type": "code",
   "execution_count": 97,
   "id": "d252bbda-270c-4af7-b8d9-7d3655c6777d",
   "metadata": {},
   "outputs": [
    {
     "name": "stdout",
     "output_type": "stream",
     "text": [
      "              precision    recall  f1-score   support\n",
      "\n",
      "           0       1.00      1.00      1.00    910713\n",
      "           1       0.98      0.11      0.19      2703\n",
      "\n",
      "    accuracy                           1.00    913416\n",
      "   macro avg       0.99      0.55      0.59    913416\n",
      "weighted avg       1.00      1.00      1.00    913416\n",
      "\n"
     ]
    }
   ],
   "source": [
    "print(classification_report(y_test, predictions))"
   ]
  },
  {
   "cell_type": "code",
   "execution_count": 98,
   "id": "b8c2a197-d03a-44de-abf9-304753e7f9ae",
   "metadata": {},
   "outputs": [
    {
     "name": "stdout",
     "output_type": "stream",
     "text": [
      "Accuracy_Score:  99.73440360142585\n",
      "Recall_Score:  10.506844247132815\n",
      "Precision_Score:  97.59450171821305\n",
      "F1_Score:  18.97127588510354\n"
     ]
    }
   ],
   "source": [
    "from sklearn.metrics import accuracy_score, recall_score, precision_score, f1_score\n",
    "print(\"Accuracy_Score: \",(accuracy_score(y_test, predictions))*100)\n",
    "print(\"Recall_Score: \",(recall_score(y_test, predictions))*100)\n",
    "print(\"Precision_Score: \",(precision_score(y_test, predictions))*100)\n",
    "print(\"F1_Score: \",(f1_score(y_test, predictions))*100)"
   ]
  },
  {
   "cell_type": "code",
   "execution_count": 99,
   "id": "01c3404a-4655-4755-875f-a515cd736ce1",
   "metadata": {},
   "outputs": [],
   "source": [
    "from sklearn.model_selection import cross_val_score\n",
    "model = LogisticRegression()\n",
    "cross_score = cross_val_score(model, x_train_final,y_train,cv=10, scoring='recall')"
   ]
  },
  {
   "cell_type": "code",
   "execution_count": 100,
   "id": "0b0b4c5a-d070-4f80-a47a-b778f8b99833",
   "metadata": {},
   "outputs": [
    {
     "data": {
      "text/plain": [
       "9.124160422149453"
      ]
     },
     "execution_count": 100,
     "metadata": {},
     "output_type": "execute_result"
    }
   ],
   "source": [
    "cross_score.mean() *100"
   ]
  },
  {
   "cell_type": "code",
   "execution_count": 101,
   "id": "078757ac-f6b2-4e4c-8efe-34dbea24980d",
   "metadata": {},
   "outputs": [
    {
     "data": {
      "text/html": [
       "<style>#sk-container-id-3 {color: black;}#sk-container-id-3 pre{padding: 0;}#sk-container-id-3 div.sk-toggleable {background-color: white;}#sk-container-id-3 label.sk-toggleable__label {cursor: pointer;display: block;width: 100%;margin-bottom: 0;padding: 0.3em;box-sizing: border-box;text-align: center;}#sk-container-id-3 label.sk-toggleable__label-arrow:before {content: \"▸\";float: left;margin-right: 0.25em;color: #696969;}#sk-container-id-3 label.sk-toggleable__label-arrow:hover:before {color: black;}#sk-container-id-3 div.sk-estimator:hover label.sk-toggleable__label-arrow:before {color: black;}#sk-container-id-3 div.sk-toggleable__content {max-height: 0;max-width: 0;overflow: hidden;text-align: left;background-color: #f0f8ff;}#sk-container-id-3 div.sk-toggleable__content pre {margin: 0.2em;color: black;border-radius: 0.25em;background-color: #f0f8ff;}#sk-container-id-3 input.sk-toggleable__control:checked~div.sk-toggleable__content {max-height: 200px;max-width: 100%;overflow: auto;}#sk-container-id-3 input.sk-toggleable__control:checked~label.sk-toggleable__label-arrow:before {content: \"▾\";}#sk-container-id-3 div.sk-estimator input.sk-toggleable__control:checked~label.sk-toggleable__label {background-color: #d4ebff;}#sk-container-id-3 div.sk-label input.sk-toggleable__control:checked~label.sk-toggleable__label {background-color: #d4ebff;}#sk-container-id-3 input.sk-hidden--visually {border: 0;clip: rect(1px 1px 1px 1px);clip: rect(1px, 1px, 1px, 1px);height: 1px;margin: -1px;overflow: hidden;padding: 0;position: absolute;width: 1px;}#sk-container-id-3 div.sk-estimator {font-family: monospace;background-color: #f0f8ff;border: 1px dotted black;border-radius: 0.25em;box-sizing: border-box;margin-bottom: 0.5em;}#sk-container-id-3 div.sk-estimator:hover {background-color: #d4ebff;}#sk-container-id-3 div.sk-parallel-item::after {content: \"\";width: 100%;border-bottom: 1px solid gray;flex-grow: 1;}#sk-container-id-3 div.sk-label:hover label.sk-toggleable__label {background-color: #d4ebff;}#sk-container-id-3 div.sk-serial::before {content: \"\";position: absolute;border-left: 1px solid gray;box-sizing: border-box;top: 0;bottom: 0;left: 50%;z-index: 0;}#sk-container-id-3 div.sk-serial {display: flex;flex-direction: column;align-items: center;background-color: white;padding-right: 0.2em;padding-left: 0.2em;position: relative;}#sk-container-id-3 div.sk-item {position: relative;z-index: 1;}#sk-container-id-3 div.sk-parallel {display: flex;align-items: stretch;justify-content: center;background-color: white;position: relative;}#sk-container-id-3 div.sk-item::before, #sk-container-id-3 div.sk-parallel-item::before {content: \"\";position: absolute;border-left: 1px solid gray;box-sizing: border-box;top: 0;bottom: 0;left: 50%;z-index: -1;}#sk-container-id-3 div.sk-parallel-item {display: flex;flex-direction: column;z-index: 1;position: relative;background-color: white;}#sk-container-id-3 div.sk-parallel-item:first-child::after {align-self: flex-end;width: 50%;}#sk-container-id-3 div.sk-parallel-item:last-child::after {align-self: flex-start;width: 50%;}#sk-container-id-3 div.sk-parallel-item:only-child::after {width: 0;}#sk-container-id-3 div.sk-dashed-wrapped {border: 1px dashed gray;margin: 0 0.4em 0.5em 0.4em;box-sizing: border-box;padding-bottom: 0.4em;background-color: white;}#sk-container-id-3 div.sk-label label {font-family: monospace;font-weight: bold;display: inline-block;line-height: 1.2em;}#sk-container-id-3 div.sk-label-container {text-align: center;}#sk-container-id-3 div.sk-container {/* jupyter's `normalize.less` sets `[hidden] { display: none; }` but bootstrap.min.css set `[hidden] { display: none !important; }` so we also need the `!important` here to be able to override the default hidden behavior on the sphinx rendered scikit-learn.org. See: https://github.com/scikit-learn/scikit-learn/issues/21755 */display: inline-block !important;position: relative;}#sk-container-id-3 div.sk-text-repr-fallback {display: none;}</style><div id=\"sk-container-id-3\" class=\"sk-top-container\"><div class=\"sk-text-repr-fallback\"><pre>RandomForestClassifier()</pre><b>In a Jupyter environment, please rerun this cell to show the HTML representation or trust the notebook. <br />On GitHub, the HTML representation is unable to render, please try loading this page with nbviewer.org.</b></div><div class=\"sk-container\" hidden><div class=\"sk-item\"><div class=\"sk-estimator sk-toggleable\"><input class=\"sk-toggleable__control sk-hidden--visually\" id=\"sk-estimator-id-3\" type=\"checkbox\" checked><label for=\"sk-estimator-id-3\" class=\"sk-toggleable__label sk-toggleable__label-arrow\">RandomForestClassifier</label><div class=\"sk-toggleable__content\"><pre>RandomForestClassifier()</pre></div></div></div></div></div>"
      ],
      "text/plain": [
       "RandomForestClassifier()"
      ]
     },
     "execution_count": 101,
     "metadata": {},
     "output_type": "execute_result"
    }
   ],
   "source": [
    "from sklearn.ensemble import RandomForestClassifier\n",
    "random_forest = RandomForestClassifier(n_estimators=100)\n",
    "random_forest.fit(x_train_final, y_train)"
   ]
  },
  {
   "cell_type": "code",
   "execution_count": 102,
   "id": "0cee48f9-503c-482b-a4e3-42899f669dc8",
   "metadata": {},
   "outputs": [],
   "source": [
    "predictions = random_forest.predict(x_test_final)"
   ]
  },
  {
   "cell_type": "code",
   "execution_count": 103,
   "id": "1d181403-09ae-48e1-b964-c443463b2eee",
   "metadata": {},
   "outputs": [
    {
     "name": "stdout",
     "output_type": "stream",
     "text": [
      "Accuracy_Score:  99.92008022631528\n",
      "Recall_Score:  74.21383647798741\n",
      "Precision_Score:  98.38155958803335\n",
      "F1_Score:  84.60565162378744\n"
     ]
    }
   ],
   "source": [
    "print(\"Accuracy_Score: \",(accuracy_score(y_test, predictions))*100)\n",
    "print(\"Recall_Score: \",(recall_score(y_test, predictions))*100)\n",
    "print(\"Precision_Score: \",(precision_score(y_test, predictions))*100)\n",
    "print(\"F1_Score: \",(f1_score(y_test, predictions))*100)"
   ]
  },
  {
   "cell_type": "markdown",
   "id": "e60292f6-1ecf-44b2-b36d-1a01d500b830",
   "metadata": {},
   "source": [
    "# Questions and Amswers"
   ]
  },
  {
   "cell_type": "markdown",
   "id": "f0ccdcc1-ae42-4818-aab6-e5cf2421aba5",
   "metadata": {},
   "source": [
    "**1] Data cleaning including missing values, outliers and multi-collinearity.**"
   ]
  },
  {
   "cell_type": "markdown",
   "id": "2e12549f-c725-4b03-b154-d0b5f13af1bd",
   "metadata": {},
   "source": [
    "Answer :Data cleaning is a critical step in building an effective fraud detection model.\n",
    "\n",
    "Missing values: These can be handled through several techniques depending on the percentage and the importance of the data. For small amounts of missing data, imputation techniques like median/mode filling or K-nearest neighbor imputation can be used. For larger amounts, it may be better to drop the data if it doesn’t add significant value.\n",
    "\n",
    "Outliers: Fraud detection data often contains outliers that may be indicative of fraudulent activities. However, we should carefully assess whether to remove or retain outliers, depending on whether they represent anomalies due to fraud.\n",
    "\n",
    "Multicollinearity: This occurs when predictor variables in a model are highly correlated. Methods like Variance Inflation Factor (VIF) can help identify multicollinearity, and we can remove or combine the correlated variables to prevent the model from being biased or unstable."
   ]
  },
  {
   "cell_type": "markdown",
   "id": "18d3581b-f37d-4bf3-97ea-b637ec0295d8",
   "metadata": {},
   "source": [
    "**2] Describe your fraud detection model in elaboration.**"
   ]
  },
  {
   "cell_type": "markdown",
   "id": "aa7746f3-8f44-4d68-8aba-055b624e6a14",
   "metadata": {},
   "source": [
    "Answer :The fraud detection model could be a Supervised Machine Learning Model (such as Logistic Regression, Random Forest, or XGBoost). A classification model is suitable, as fraud detection is a binary problem (fraudulent or not).\n",
    "\n",
    "Logistic Regression: Simple and interpretable, especially if relationships are linear. However, it may struggle with complex data.\n",
    "\n",
    "Random Forest: A robust model that can capture complex patterns and interactions between variables. It handles imbalanced data well by using techniques like weighted classes.\n",
    "\n",
    "XGBoost: Known for its high accuracy and efficiency, XGBoost can handle imbalanced datasets with minimal tuning and provide powerful predictive performance."
   ]
  },
  {
   "cell_type": "markdown",
   "id": "e9de0087-3dbc-4f71-a79f-83c0967514eb",
   "metadata": {},
   "source": [
    "**3] How did you select variables to be included in the model?**"
   ]
  },
  {
   "cell_type": "markdown",
   "id": "265f06d7-8392-4ceb-a7a8-4fc01a0bf923",
   "metadata": {},
   "source": [
    "Answer :Feature selection is based on both domain knowledge and statistical methods.\n",
    "\n",
    "Domain knowledge: In fraud detection, features like transaction amounts, location, time of transaction, and customer behaviors (e.g., unusual login patterns) are important.\n",
    "    \n",
    "Statistical techniques: Techniques like Correlation analysis, Chi-Square test, and Recursive Feature Elimination (RFE) help select the most relevant variables. L1 regularization (Lasso) is also effective for automatic feature selection, reducing the dataset’s dimensionality."
   ]
  },
  {
   "cell_type": "markdown",
   "id": "efc4c857-b44c-4928-8445-86d57a6a821b",
   "metadata": {},
   "source": [
    "**4] Demonstrate the performance of the model by using best set of tools.**"
   ]
  },
  {
   "cell_type": "markdown",
   "id": "b0b5c6a6-9dac-4065-9df8-790fcec70034",
   "metadata": {},
   "source": [
    "Answer :After building the model, performance is evaluated using metrics such as:\n",
    "\n",
    "Confusion Matrix: Shows TP (True Positive), FP (False Positive), TN (True Negative), FN (False Negative).\n",
    "\n",
    "Accuracy: The proportion of correct predictions (though not always the best metric for imbalanced data).\n",
    "\n",
    "Precision, Recall, and F1-Score: These metrics are crucial for fraud detection. High recall (low false negatives) ensures that most fraud cases are detected, while good precision avoids false alarms.\n",
    "\n",
    "ROC Curve & AUC Score: The ROC curve shows the trade-off between true positive and false positive rates, while the AUC score indicates the overall performance of the model. A high AUC score implies better model performance.\n",
    "\n",
    "Cross-Validation: To avoid overfitting and ensure the model generalizes well to unseen data."
   ]
  },
  {
   "cell_type": "markdown",
   "id": "7dbe1bc6-8970-4151-a546-2079cbffca0f",
   "metadata": {},
   "source": [
    "**5] What are the key factors that predict fraudulent customer?**"
   ]
  },
  {
   "cell_type": "markdown",
   "id": "5837d318-dec5-40a7-b928-2cc0c307ca96",
   "metadata": {},
   "source": [
    "Answer :Common factors that could predict fraudulent activity include:\n",
    "\n",
    "Unusual transaction amounts: High or irregularly large purchases may indicate fraud.\n",
    "Geographical inconsistency: Transactions from unusual or distant locations.\n",
    "Time of transactions: Odd transaction times, such as very late at night or multiple transactions within a short time frame.\n",
    "Frequency of transactions: A sudden increase in transaction frequency.\n",
    "Device fingerprints or IP addresses: Logins from new devices or locations."
   ]
  },
  {
   "cell_type": "markdown",
   "id": "ec7c8ab6-9a00-4da0-825b-5351adad9bfb",
   "metadata": {},
   "source": [
    "**6] Do these factors make sense? If yes, How? If not, How not?**"
   ]
  },
  {
   "cell_type": "markdown",
   "id": "5fde236c-d75f-49c5-91f0-879c647b33b6",
   "metadata": {},
   "source": [
    "Answer :Yes, they make sense because fraudulent transactions often stand out due to deviations from normal customer behavior. Large amounts, sudden changes in transaction frequency, and unusual geographic locations are commonly associated with fraudulent activities. Behavioral patterns are often key indicators in fraud detection algorithms."
   ]
  },
  {
   "cell_type": "markdown",
   "id": "d752a312-08be-4b00-a5e4-390e8f7b2dab",
   "metadata": {},
   "source": [
    "**7] What kind of prevention should be adopted while company update its infrastructure?**"
   ]
  },
  {
   "cell_type": "markdown",
   "id": "c7a234e0-a4b0-4c55-8fc3-1a099cd8ffd0",
   "metadata": {},
   "source": [
    "Answer :To protect against fraud, companies should adopt preventive measures such as:\n",
    "\n",
    "Enhanced security protocols: Implement multi-factor authentication (MFA) and encryption for sensitive customer information.\n",
    "\n",
    "Real-time monitoring: Develop systems to track and flag suspicious activities in real-time.\n",
    "\n",
    "Anomaly detection systems: Use advanced machine learning models to detect anomalies in customer behavior, integrating fraud detection models with operational systems.\n",
    "\n",
    "Regular audits: Conduct regular security audits to ensure the integrity of data and systems.\n",
    "\n",
    "Data encryption and tokenization: For sensitive data, ensuring it cannot be easily accessed or interpreted if compromised.\n",
    "\n",
    "Fraud awareness training: Provide training to employees about social engineering and fraud schemes."
   ]
  },
  {
   "cell_type": "markdown",
   "id": "79708a93-1876-40ee-acfe-0952b9c01160",
   "metadata": {},
   "source": [
    "**8] Assuming these actions have been implemented, how would you determine if they work?**"
   ]
  },
  {
   "cell_type": "markdown",
   "id": "85689b2d-d1d9-4dcd-b933-9365af543dbc",
   "metadata": {},
   "source": [
    "Answer :After implementing these measures, effectiveness can be evaluated by:\n",
    "\n",
    "Monitoring fraud rates: A decrease in fraud occurrences post-implementation indicates success.\n",
    "\n",
    "Comparing false positive and false negative rates: If the number of false positives (non-fraud cases flagged as fraud) or false negatives (missed fraud cases) drops, this reflects an improvement.\n",
    "\n",
    "Customer feedback: Collect feedback to assess whether customers feel more secure.\n",
    "\n",
    "Regular security testing: Perform penetration testing or “red teaming” exercises to identify vulnerabilities in real-world scenarios.\n",
    "\n",
    "Business KPIs: Track metrics such as overall transaction approval rates, customer retention, and operational costs to assess the impact of fraud prevention measures."
   ]
  },
  {
   "cell_type": "code",
   "execution_count": null,
   "id": "db8ba675-304d-47bd-ac2c-910b31e2995b",
   "metadata": {},
   "outputs": [],
   "source": []
  }
 ],
 "metadata": {
  "kernelspec": {
   "display_name": "Python 3 (ipykernel)",
   "language": "python",
   "name": "python3"
  },
  "language_info": {
   "codemirror_mode": {
    "name": "ipython",
    "version": 3
   },
   "file_extension": ".py",
   "mimetype": "text/x-python",
   "name": "python",
   "nbconvert_exporter": "python",
   "pygments_lexer": "ipython3",
   "version": "3.12.1"
  }
 },
 "nbformat": 4,
 "nbformat_minor": 5
}
